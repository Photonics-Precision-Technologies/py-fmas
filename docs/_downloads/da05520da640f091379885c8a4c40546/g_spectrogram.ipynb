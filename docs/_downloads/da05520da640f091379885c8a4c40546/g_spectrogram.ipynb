{
  "cells": [
    {
      "cell_type": "code",
      "execution_count": null,
      "metadata": {
        "collapsed": false
      },
      "outputs": [],
      "source": [
        "%matplotlib inline"
      ]
    },
    {
      "cell_type": "markdown",
      "metadata": {},
      "source": [
        "\n# Using the build-in spectrogram\n\nThis examples shows how to use the simple spectrogram-tool provided the\n`py-fmas` package.\n\nLet us note that is also straight-forward to extend the functionality of the\n`py-fmas` library by the optfrog python-tool, see Ref. [1] at the end of the\nexample.\n\n.. codeauthor:: Oliver Melchert <melchert@iqo.uni-hannover.de>\n"
      ]
    },
    {
      "cell_type": "code",
      "execution_count": null,
      "metadata": {
        "collapsed": false
      },
      "outputs": [],
      "source": [
        "import fmas\nimport numpy as np\nfrom fmas.models import FMAS_S_Raman\nfrom fmas.solver import IFM_RK4IP\nfrom fmas.analytic_signal import AS\nfrom fmas.grid import Grid\nfrom fmas.propagation_constant import PropConst\nfrom fmas.tools import sech, plot_details_prop_const\nfrom fmas.tools import change_reference_frame, plot_evolution\nfrom fmas.tools import plot_spectrogram, spectrogram"
      ]
    },
    {
      "cell_type": "markdown",
      "metadata": {},
      "source": [
        "Below we will demonstrate how to construct simple spectrograms using\nfunctions that are implemente in `py-fmas`.\n\nWe will first perform a simulation run for a short intense pulse, launched in\nthe anomalous dispersion domain of an \"endlessly single mode\" (ESM) photonic\ncrystal fiber [3]. The considered propagation scenario reproduces that of\nRef. [1]. After the $z$-propagation algorithm completes, we will\nperform some data postprocessing. Specifically, we we will illustrate the\ntime-frequency characteristics of the evolved scenario and point out a few\npoints to bear in mind when constructing spectrograms.\n\nThe propagation constant of the ESM that we will use for the\n$z$-propagation simulation is given by\n\n"
      ]
    },
    {
      "cell_type": "code",
      "execution_count": null,
      "metadata": {
        "collapsed": false
      },
      "outputs": [],
      "source": [
        "def define_beta_fun_ESM():\n    r\"\"\"Custom propagation constant for an ESM photonic crystal fiber.\n\n    Implements rational Pade-approximant of order [8/8] for the refractive\n    index of a endlessly single mode (ESM) nonlinear photonic crystal fiber\n    (PCF), see Ref. [1].\n\n    References:\n        [1] Visibly 'white' light generation in uniform photonic crystal fiber\n        using a microchip laser Stone, J.M. and Knight, J.C.  Optics Express 16\n        (2007) 2670.\n\n    Returns:\n        :obj:`callable`: Propagation constant for ESM PCF.\n    \"\"\"\n    p = np.poly1d(\n        (16.89475, 0., -319.13216, 0., 34.82210, 0., -0.992495, 0., 0.0010671)[::-1])\n    q = np.poly1d(\n        ( 1.00000, 0., -702.70157, 0., 78.28249, 0., -2.337086, 0., 0.0062267)[::-1])\n    n_idx = lambda w: 1+p(w)/q(w) # (-)\n    c0 = 0.29979                    # (micron/fs)\n    return lambda w: n_idx(w)*w/c0  # (1/micron)"
      ]
    },
    {
      "cell_type": "markdown",
      "metadata": {},
      "source": [
        "In order to prepare the propagation scenario, we first initialize the\npropagation constant and generate an instance of the `PropConst` convenience\nclass.\n\n"
      ]
    },
    {
      "cell_type": "code",
      "execution_count": null,
      "metadata": {
        "collapsed": false
      },
      "outputs": [],
      "source": [
        "beta_fun = define_beta_fun_ESM()\npc = PropConst(beta_fun)"
      ]
    },
    {
      "cell_type": "markdown",
      "metadata": {},
      "source": [
        "The group-velocity (GV) and group-velocity dispersion (GVD) of the ESM\npropagation constant in the angular frequency range $\\omega \\in\n[1.2,3.2]~\\mathrm{rad/fs}$ can then be visualized using build in `py-fmas`\nfunctions.  GV and GVD are implemented by the class methods `vg`, and\n`beta2`, respectively.  To generate a quick plot of both, we use the function\n`plot_details_prop_const`, which is defined in module `tools`.\n\n"
      ]
    },
    {
      "cell_type": "code",
      "execution_count": null,
      "metadata": {
        "collapsed": false
      },
      "outputs": [],
      "source": [
        "w_tmp = np.linspace(1., 3.5, 400)\nplot_details_prop_const(w_tmp, pc.vg(w_tmp), pc.beta2(w_tmp))"
      ]
    },
    {
      "cell_type": "markdown",
      "metadata": {},
      "source": [
        "We next define the simulation parameters that specify the computational \ndomain\n\n"
      ]
    },
    {
      "cell_type": "code",
      "execution_count": null,
      "metadata": {
        "collapsed": false
      },
      "outputs": [],
      "source": [
        "grid = Grid(\n    t_max = 5500.,  # (fs)\n    t_num = 2**14   # (-)\n)"
      ]
    },
    {
      "cell_type": "markdown",
      "metadata": {},
      "source": [
        "After the computational domain is specified, we define the simulation\nparameters that are needed to specify the $z$-propagation model.\nBelow, we use the simplified forward model for the analytic signal including\nthe Raman effect [3] \n\n"
      ]
    },
    {
      "cell_type": "code",
      "execution_count": null,
      "metadata": {
        "collapsed": false
      },
      "outputs": [],
      "source": [
        "model = FMAS_S_Raman(\n    w=grid.w,\n    beta_w = pc.beta(grid.w),\n    n2= 3.0e-8      # (micron^2/W)\n)"
      ]
    },
    {
      "cell_type": "markdown",
      "metadata": {},
      "source": [
        "Thereafter, we speficy the initial condition. Here, we consider a single\nsoliton with duration $t_0=7\\,\\mathrm{fs}$ (i.e. approx. 3.8 cycles),\ncenter frequency $\\omega_0=1.7\\,\\mathrm{rad/fs}$, and soliton order\n$N_{\\rm{S}}=8$.\n\n"
      ]
    },
    {
      "cell_type": "code",
      "execution_count": null,
      "metadata": {
        "collapsed": false
      },
      "outputs": [],
      "source": [
        "Ns = 8.0            # (-)\nt0 = 7.0            # (fs)\nw0 = 1.7            # (rad/fs)\nA0 = Ns*np.sqrt(abs(pc.beta2(w0))*model.c0/w0/model.n2)/t0\nE_0t_fun = lambda t: np.real(A0*sech(t/t0)*np.exp(1j*w0*t))"
      ]
    },
    {
      "cell_type": "markdown",
      "metadata": {},
      "source": [
        "Above, the initial condition is prepared in the time-domain. Below we show\nhow the frequency-domain representation of the analytic signal for use with\none of the implemented $z$-propagation algorithms can be obtained:\n\n"
      ]
    },
    {
      "cell_type": "code",
      "execution_count": null,
      "metadata": {
        "collapsed": false
      },
      "outputs": [],
      "source": [
        "Eps_0w =  AS(E_0t_fun(grid.t)).w_rep"
      ]
    },
    {
      "cell_type": "markdown",
      "metadata": {},
      "source": [
        "For $z$-propagation we here use a variant of an integrating factor\nmethod, referred to as the \"Runge-Kutta in the interaction picture\" method,\nimplemented as `IFM_RK4IP` in module `solver`.\n\n"
      ]
    },
    {
      "cell_type": "code",
      "execution_count": null,
      "metadata": {
        "collapsed": false
      },
      "outputs": [],
      "source": [
        "solver = IFM_RK4IP( model.Lw, model.Nw)\nsolver.set_initial_condition( grid.w, Eps_0w)\nsolver.propagate(\n    z_range = 0.12e6,   # (micron)\n    n_steps = 2000,     # (-)\n    n_skip = 10         # (-)\n)"
      ]
    },
    {
      "cell_type": "markdown",
      "metadata": {},
      "source": [
        "Once the $z$-propagation algorithm terminates we can perform a shift to\na frame of reference in which the initial pulse is stationary, i.e. to a\nmoving frame of reference with velocity $v_0=v_g(\\omega_0)$.  The\nevolution of the analytic signal can then be visualized using the function\n`plot_evolution` defined in module `tools`:\n\n"
      ]
    },
    {
      "cell_type": "code",
      "execution_count": null,
      "metadata": {
        "collapsed": false
      },
      "outputs": [],
      "source": [
        "utz = change_reference_frame(solver.w, solver.z, solver.uwz, pc.vg(w0))\nplot_evolution( solver.z, grid.t, utz, t_lim=(-200,2500), w_lim=(0.6,3.4))"
      ]
    },
    {
      "cell_type": "markdown",
      "metadata": {},
      "source": [
        "This reproduces Fig. 1 of Ref. [1].\n\nAnalytic signal spectrograms that show the time-frequency characteristics of\nthe field can be constructed using the function `spectrogram` defined in\nmodule `tools`.  These spectrograms are computed by using a Gaussian function\nfor localizing the analytic signal along the time-axis.  The root-mean-square\n(rms) width of this window-function needs to be chosen carefully, as\ndemonstrated below. Consider, e.g., the propagation distance\n$z=0.12~\\mathrm{m}$, for which the analytic signal can be obtained as\n\n"
      ]
    },
    {
      "cell_type": "code",
      "execution_count": null,
      "metadata": {
        "collapsed": false
      },
      "outputs": [],
      "source": [
        "z0_idx = np.argmin(np.abs(solver.z-0.12e6))\nEt = utz[z0_idx]"
      ]
    },
    {
      "cell_type": "markdown",
      "metadata": {},
      "source": [
        "Using a very small rms-width $s_0=10~\\mathrm{fs}$ for the\nwindow-function results in a distorted spectrogram. The temporal resolution\nis good, but the frequency resolution is quite bad (cf. Fig. 2(a) of Ref.\n[1]):\n\n"
      ]
    },
    {
      "cell_type": "code",
      "execution_count": null,
      "metadata": {
        "collapsed": false
      },
      "outputs": [],
      "source": [
        "tau, w, P = spectrogram(grid.t,grid.w,Et,t_lim=(-200.,5000.),Nt=600,Nw=512,s0=10.)\nw_mask = np.logical_and(w>0.5,w<3.5)\nplot_spectrogram(tau, w[w_mask], P[w_mask])"
      ]
    },
    {
      "cell_type": "markdown",
      "metadata": {},
      "source": [
        "Using a very large rms-width $s_0=140~\\mathrm{fs}$ also results in a\ndistorted spectrogram. This time the frequency resolution is good, but the\ntemporal resolution is bad (cf. Fig. 2(b) of Ref. [1]):\n\n"
      ]
    },
    {
      "cell_type": "code",
      "execution_count": null,
      "metadata": {
        "collapsed": false
      },
      "outputs": [],
      "source": [
        "tau, w, P = spectrogram(grid.t,grid.w,Et,t_lim=(-200.,5000.),Nt=600,Nw=512,s0=140.)\nw_mask = np.logical_and(w>0.5,w<3.5)\nplot_spectrogram(tau, w[w_mask], P[w_mask])"
      ]
    },
    {
      "cell_type": "markdown",
      "metadata": {},
      "source": [
        "For this particular example, an optimal time-frequency resolution is achieved\nfor the rms-width $s_0=39.1~\\mathrm{fs}$. This value was obtained using\nthe optfrog Python tool, see Ref. [1] below. We here simply use this\nrms-width with the simple spectrogram implemented along with `py-fmas` (cf.\nFig. 2(c) of Ref. [1]):\n\n"
      ]
    },
    {
      "cell_type": "code",
      "execution_count": null,
      "metadata": {
        "collapsed": false
      },
      "outputs": [],
      "source": [
        "tau, w, P = spectrogram(grid.t,grid.w,Et,t_lim=(-200.,5000.),Nt=600,Nw=512,s0=39.1)\nw_mask = np.logical_and(w>0.5,w<3.5)\nplot_spectrogram(tau, w[w_mask], P[w_mask])\n\n# sphinx_gallery_thumbnail_number = 5"
      ]
    },
    {
      "cell_type": "markdown",
      "metadata": {},
      "source": [
        "Finally, let us note that the functionality of `py-fmas` can be extended by\nthe optfrog tool in a straight-forward manner. In fact, `optfrog` was\nspecifically written for use with `py-fmas`.\n\nReferences:\n   [1] O. Melchert, B. Roth, U. Morgner, A. Demircan, OptFROG \u2014 Analytic\n   signal spectrograms with optimized time\u2013frequency resolution, SoftwareX 10\n   (2019) 100275, https://doi.org/10.1016/j.softx.2019.100275, code\n   repository: https://github.com/ElsevierSoftwareX/SOFTX_2019_130.\n\n   [2] J. M. Stone, J. C. Knight, Visibly 'white' light generation in uniform\n   photonic crystal fiber using a microchip laser,  Optics Express 16 (2007)\n   2670.\n\n   [3] A. Demircan, Sh. Amiranashvili, C. Bree, C. Mahnke, F. Mitschke, G.\n   Steinmeyer, Rogue wave formation by accelerated solitons at an optical\n   event horizon, Appl. Phys. B 115 (2014) 343,\n   http://dx.doi.org/10.1007/s00340-013-5609-9\n\n"
      ]
    }
  ],
  "metadata": {
    "kernelspec": {
      "display_name": "Python 3",
      "language": "python",
      "name": "python3"
    },
    "language_info": {
      "codemirror_mode": {
        "name": "ipython",
        "version": 3
      },
      "file_extension": ".py",
      "mimetype": "text/x-python",
      "name": "python",
      "nbconvert_exporter": "python",
      "pygments_lexer": "ipython3",
      "version": "3.9.2"
    }
  },
  "nbformat": 4,
  "nbformat_minor": 0
}