{
  "cells": [
    {
      "cell_type": "code",
      "execution_count": null,
      "metadata": {
        "collapsed": false
      },
      "outputs": [],
      "source": [
        "%matplotlib inline"
      ]
    },
    {
      "cell_type": "markdown",
      "metadata": {},
      "source": [
        "\n# Four pulse interaction in a ESM PCF\n\nThis examples demonstrates the interaction between a fundamental soliton and a\nthree dispersive wave with pairwise distinct center frequencies in an\n\"endlessly single mode\" (ESM) photonic crystal fiber. For the numerical\nsimualtion the simplified forward model for the analytic signal is used [3].\n\nReferences:\n    [1] A. Demircan, Sh. Amiranashvili, C. Bree, C. Mahnke, F. Mitschke, G.\n    Steinmeyer, Rogue wave formation by accelerated solitons at an optical\n    event horizon, Appl. Phys. B 115 (2014) 343,\n    http://dx.doi.org/10.1007/s00340-013-5609-9\n\n.. codeauthor:: Oliver Melchert <melchert@iqo.uni-hannover.de>\n"
      ]
    },
    {
      "cell_type": "code",
      "execution_count": null,
      "metadata": {
        "collapsed": false
      },
      "outputs": [],
      "source": [
        "import fmas\nimport numpy as np\nfrom fmas.grid import Grid\nfrom fmas.models import FMAS_S\nfrom fmas.solver import IFM_RK4IP\nfrom fmas.analytic_signal import AS\nfrom fmas.tools import change_reference_frame, plot_evolution\nfrom fmas.propagation_constant import PropConst\n\n\ndef define_beta_fun_ESM():\n    r\"\"\"Custom propagation constant for an ESM photonic crystal fiber.\n\n    Implements rational Pade-approximant of order [8/8] for the refractive\n    index of a endlessly single mode (ESM) nonlinear photonic crystal fiber\n    (PCF), see Ref. [1].\n\n    References:\n        [1] Visibly 'white' light generation in uniform photonic crystal fiber\n        using a microchip laser Stone, J.M. and Knight, J.C.  Optics Express 16\n        (2007) 2670.\n\n    Returns:\n        :obj:`callable`: Propagation constant for ESM PCF.\n    \"\"\"\n    p = np.poly1d(\n        (16.89475, 0., -319.13216, 0., 34.82210, 0., -0.992495, 0., 0.0010671)[::-1])\n    q = np.poly1d(\n        ( 1.00000, 0., -702.70157, 0., 78.28249, 0., -2.337086, 0., 0.0062267)[::-1])\n    n_idx = lambda w: 1+p(w)/q(w) # (-)\n    c0 = 0.29979                    # (micron/fs)\n    return lambda w: n_idx(w)*w/c0   # (1/micron)\n\n\ndef main():\n\n    # -- DEFINE SIMULATION PARAMETERS\n    # ... COMPUTATIONAL DOMAIN\n    t_max = 4000.       # (fs)\n    t_num = 2**14       # (-)\n    z_max = 4.0e6       # (micron)\n    z_num = 50000       # (-)\n    z_skip =100         # (-)\n    n2 = 3.0e-8         # (micron^2/W)\n\n    beta_fun = define_beta_fun_ESM()\n    pc = PropConst(beta_fun)\n\n    # -- INITIALIZATION STAGE\n    grid = Grid( t_max = t_max, t_num = t_num, z_max = z_max, z_num = z_num)\n    model = FMAS_S(w=grid.w, beta_w=pc.beta(grid.w), n2=n2)\n    solver = IFM_RK4IP( model.Lw, model.Nw, user_action = model.claw)\n\n    # -- SET UP INITIAL CONDITION\n    t = grid.t\n    # ... FUNDAMENTAL NSE SOLITON\n    w0_S, t0_S = 1.5, 20.   # (rad/fs), (fs)\n    A0 = np.sqrt(abs(pc.beta2(w0_S))*model.c0/w0_S/n2)/t0_S\n    A0_S = A0/np.cosh(t/t0_S)*np.exp(1j*w0_S*t)\n    # ... 1ST DISPERSIVE WAVE; UNITS (rad/fs), (fs), (fs), (-)\n    w0_DW1, t0_DW1, t_off1, s1 = 2.06, 60., -600., 0.35\n    A0_DW1 = s1*A0/np.cosh((t-t_off1)/t0_DW1)*np.exp(1j*w0_DW1*t)\n    # ... 2ND DISPERSIVE WAVE; UNITS (rad/fs), (fs), (fs), (-)\n    w0_DW2, t0_DW2, t_off2, s2 = 2.05, 60., -1200., 0.35\n    A0_DW2 = s2*A0/np.cosh((t-t_off2)/t0_DW2)*np.exp(1j*w0_DW2*t)\n    # ... 3RD DISPERSIVE WAVE; UNITS (rad/fs), (fs), (fs), (-)\n    w0_DW3, t0_DW3, t_off3, s3 = 2.04, 60., -1800., 0.35\n    A0_DW3 = s3*A0/np.cosh((t-t_off3)/t0_DW3)*np.exp(1j*w0_DW3*t)\n    # ... ANALYTIC SIGNAL OF FULL ININITIAL CONDITION\n    Eps_0w = AS(np.real(A0_S + A0_DW1 + A0_DW2 + A0_DW3)).w_rep\n\n    solver.set_initial_condition( grid.w, Eps_0w)\n    solver.propagate( z_range = z_max, n_steps = z_num, n_skip = z_skip)\n\n    # -- SHOW RESULTS\n    v0 = pc.vg(w0_S)\n    utz = change_reference_frame(solver.w, solver.z, solver.uwz, v0)\n    plot_evolution( solver.z, grid.t, utz, t_lim=(-4000,1000), w_lim=(1.1,2.4))\n\n\nif __name__=='__main__':\n    main()"
      ]
    }
  ],
  "metadata": {
    "kernelspec": {
      "display_name": "Python 3",
      "language": "python",
      "name": "python3"
    },
    "language_info": {
      "codemirror_mode": {
        "name": "ipython",
        "version": 3
      },
      "file_extension": ".py",
      "mimetype": "text/x-python",
      "name": "python",
      "nbconvert_exporter": "python",
      "pygments_lexer": "ipython3",
      "version": "3.9.2"
    }
  },
  "nbformat": 4,
  "nbformat_minor": 0
}