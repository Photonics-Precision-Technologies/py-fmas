{
  "cells": [
    {
      "cell_type": "code",
      "execution_count": null,
      "metadata": {
        "collapsed": false
      },
      "outputs": [],
      "source": [
        "%matplotlib inline"
      ]
    },
    {
      "cell_type": "markdown",
      "metadata": {},
      "source": [
        "\n# Soliton implosion in a NLPM750 PCF\n\nThis examples demonstrates breakdown of a high-order soliton in a NL-PM-750\nphotonic crystal fiber, described in Ref. [1].  For the numerical simualtion\nthe forward model for the analytic signal including the Raman effect is used\n[1,2].\n\nIn particular, this example reproduces the propagation scenario  shown in\nFig.~2 of Ref. [1]. The resulting figure shows the breakdown of a high-order\nsoliton of duration $t_{\\rm{S}}=10\\,\\mathrm{fs}$, center frequency\n$\\omega_{\\rm{S}}=1.884\\,\\mathrm{rad/fs}$, and soliton order\n$N_{\\rm{S}}=10$. This process is also referred to as soliton implosion.\nFor more details see Ref. [1].\n\nReferences:\n    [1] I. Babushkin, A. Tajalli, H. Sayinc et al., Simple route toward\n    efficient frequency conversion for generation of fully coherent\n    supercontinua in the mid-IR and UV range, Light: Science & Applications 6\n    (2017) e16218, https://doi.org/10.1038/lsa.2016.218\n\n    [2] A. Demircan, Sh. Amiranashvili, C. Bree, C. Mahnke, F. Mitschke, G.\n    Steinmeyer, Rogue wave formation by accelerated solitons at an optical\n    event horizon, Appl. Phys. B 115 (2014) 343,\n    http://dx.doi.org/10.1007/s00340-013-5609-9\n\n.. codeauthor:: Oliver Melchert <melchert@iqo.uni-hannover.de>\n"
      ]
    },
    {
      "cell_type": "code",
      "execution_count": null,
      "metadata": {
        "collapsed": false
      },
      "outputs": [],
      "source": [
        "import fmas\nimport numpy as np\nfrom fmas.grid import Grid\nfrom fmas.models import FMAS_S_R\nfrom fmas.solver import IFM_RK4IP\nfrom fmas.analytic_signal import AS\nfrom fmas.propagation_constant import PropConst, define_beta_fun_NLPM750\nfrom fmas.tools import change_reference_frame, plot_evolution\n\n\ndef main():\n\n    # -- INITIALIZATION STAGE\n    # ... DEFINE SIMULATION PARAMETERS\n    t_max = 3000.       # (fs)\n    t_num = 2**14       # (-)\n    z_max = 8.0e3       # (micron)\n    z_num = 10000       # (-)\n    z_skip = 10         # (-)\n    n2 = 3.0e-8         # (micron^2/W)\n    wS = 1.884          # (rad/fs)\n    tS = 10.0           # (fs)\n    NS = 10.            # (-)\n    # ... PROPAGGATION CONSTANT\n    beta_fun = define_beta_fun_NLPM750()\n    pc = PropConst(beta_fun)\n    # ... COMPUTATIONAL DOMAIN, MODEL, AND SOLVER \n    grid = Grid( t_max = t_max, t_num = t_num, z_max = z_max, z_num = z_num)\n    model = FMAS_S_R(w=grid.w, beta_w=pc.beta(grid.w), n2 = n2)\n    solver = IFM_RK4IP( model.Lw, model.Nw)\n\n    # -- SET UP INITIAL CONDITION\n    A0 = NS*np.sqrt(np.abs(pc.beta2(wS))*model.c0/wS/n2)/tS\n    Eps_0w = AS(np.real(A0/np.cosh(grid.t/tS)*np.exp(1j*wS*grid.t))).w_rep\n    solver.set_initial_condition( grid.w, Eps_0w)\n\n    # -- PERFORM Z-PROPAGATION\n    solver.propagate( z_range = z_max, n_steps = z_num, n_skip = z_skip)\n\n    # -- SHOW RESULTS\n    utz = change_reference_frame(solver.w, solver.z, solver.uwz, pc.vg(wS))\n    plot_evolution( solver.z, grid.t, utz,\n        t_lim = (-100,100), w_lim = (0.5,8.), DO_T_LOG = True)\n\n\nif __name__=='__main__':\n    main()"
      ]
    }
  ],
  "metadata": {
    "kernelspec": {
      "display_name": "Python 3",
      "language": "python",
      "name": "python3"
    },
    "language_info": {
      "codemirror_mode": {
        "name": "ipython",
        "version": 3
      },
      "file_extension": ".py",
      "mimetype": "text/x-python",
      "name": "python",
      "nbconvert_exporter": "python",
      "pygments_lexer": "ipython3",
      "version": "3.9.2"
    }
  },
  "nbformat": 4,
  "nbformat_minor": 0
}