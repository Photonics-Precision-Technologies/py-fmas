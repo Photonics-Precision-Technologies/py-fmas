{
  "cells": [
    {
      "cell_type": "code",
      "execution_count": null,
      "metadata": {
        "collapsed": false
      },
      "outputs": [],
      "source": [
        "%matplotlib inline"
      ]
    },
    {
      "cell_type": "markdown",
      "metadata": {},
      "source": [
        "\n# Scaling behavior of global errors\n\nThis example demonstrates the accuracy of the various $z$-propagation\nalgorithms. As test case, the propagation dynamics of a fundamental soliton in\nterms of the standard nonlinear Schr\u00f6dinger equation is considered. For this\nparticular case, an exact solution is available to which a numerical\napproximation can be compared\nto.\n\n.. codeauthor:: Oliver Melchert <melchert@iqo.uni-hannover.de>\n"
      ]
    },
    {
      "cell_type": "markdown",
      "metadata": {},
      "source": [
        "We first import the functionality needed to perform the sequence of numerical\nexperiments: \n\n"
      ]
    },
    {
      "cell_type": "code",
      "execution_count": null,
      "metadata": {
        "collapsed": false
      },
      "outputs": [],
      "source": [
        "import sys\nimport numpy as np\nimport numpy.fft as nfft\nfrom fmas.models import ModelBaseClass\nfrom fmas.config import FTFREQ, FT, IFT, C0\nfrom fmas.solver import SiSSM, SySSM, IFM_RK4IP, LEM_SySSM, LEM_IFM, CQE\nfrom fmas.grid import Grid"
      ]
    },
    {
      "cell_type": "markdown",
      "metadata": {},
      "source": [
        "Next, we implement a model for the nonlinear Schr\u00f6dinger equation.  In\nparticular, we here consider the standard nonlinear Schr\u00f6dinger equation,\ngiven by\n\n\\begin{align}\\partial_z u = -i \\frac{\\beta_2}{2}\\partial_t^2 u + i\\gamma |u|^2 u,\\end{align}\n\nwherein $u = u(z, t)$ represents the slowly varying pulse envelope,\n$\\beta_2=-1$ is the second order dispersion parameter, and\n$\\gamma=1$ is the nonlinear parameter:\n\n"
      ]
    },
    {
      "cell_type": "code",
      "execution_count": null,
      "metadata": {
        "collapsed": false
      },
      "outputs": [],
      "source": [
        "class NSE(ModelBaseClass):\n\n    def __init__(self, w, b2 = -1.0, gamma = 1.):\n        super().__init__(w, 0.5*b2*w*w)\n        self.gamma = gamma\n\n    @property\n    def Lw(self):\n        return 1j*self.beta_w\n\n    def Nw(self, uw):\n        ut = IFT(uw)\n        return 1j*self.gamma*FT(np.abs(ut)**2*ut)"
      ]
    },
    {
      "cell_type": "markdown",
      "metadata": {},
      "source": [
        "Next, we implement a function that performs a single numerical experiment,\nin which a single fundamental soliton is propagated for a specified distance.\n\nThe exact single-soliton solution of the above nonlinar Schr\u00f6dinger equation\nis given by\n\n\\begin{align}u_{\\rm{exact}}(z,t) = \\sqrt{P_0} {\\rm{sech}}(t/t_0)\\,e^{-i\\gamma P_0 z/2},\\end{align}\n\nwith $P_0=|\\beta_2|/(\\gamma t_0^2)$. We here consider a fundamental\nsoliton of duration $t_0=1$ and use $u_{\\rm{exact}}(0,t)$ as\ninitial condition.  The propagation is performed up to\n$z_{\\rm{max}}=\\pi/2$, i.e.  for one soliton period.\n\nThe function below performs a parameter sweep over a range of step sizes\n$\\Delta z$, and compares the approximate solution\n$u(z_{\\rm{max}},t)$ at the final position, obtained for a specified\n$z$-propagation algorithm, to the exact solution\n$u_{\\rm{exact}}(z_{\\rm{max}},t)$ at that point. This is done by\ncomputing the average relative intensity error, given by\n\n\\begin{align}\\epsilon = \\frac{ \\int \\left| |u(z_{\\rm{max}},t)|^2 - |u_{\\rm{exact}}(z_{\\rm{max}},t)|^2 \\right|\\,{\\rm{d}}t}{ \\int P_0 {\\rm{d}}t}\\end{align}\n\nThis error measure was also used in [H2007]_ to compare the performance of\ndifferent $z$-propagation algorithms. The function then returns\nthe sequence of step sizes and the corresponding error values:\n\n"
      ]
    },
    {
      "cell_type": "code",
      "execution_count": null,
      "metadata": {
        "collapsed": false
      },
      "outputs": [],
      "source": [
        "def determine_error(mode):\n\n    # -- SET AXES\n    grid = Grid( t_max = 50., t_num = 2**12)\n    t, w = grid.t, grid.w\n\n    # -- INITIALIZATION STAGE \n    # ... SET MODEL\n    b2 = -1.\n    gamma = 1.\n    model = NSE(w, b2, gamma)\n    # ... SET SOLVER TYPE\n    switcher = {\n        'SiSSM': SiSSM(model.Lw, model.Nw),\n        'SySSM': SySSM(model.Lw, model.Nw),\n        'IFM': IFM_RK4IP(model.Lw, model.Nw),\n        'LEM': LEM_SySSM(model.Lw, model.Nw),\n        'CQE': CQE(model.Lw, model.Nw, del_G=1e-6),\n        'MLEM': LEM_IFM(model.Lw, model.Nw)\n    }\n    try:\n        my_solver = switcher[mode]\n    except KeyError:\n        print('NOTE: MODE MUST BE ONE OF', list(switcher.keys()))\n        raise\n        exit()\n\n    # -- AVERAGE RELATIVE INTENSITY ERROR\n    _RI_error = lambda x,y: np.sum(np.abs(np.abs(x)**2-np.abs(y)**2)/x.size/np.max(np.abs(y)**2))\n\n    # -- SET TEST PULSE PROPERTIES (FUNDAMENTAL SOLITON)\n    t0 = 1.                       # duration\n    P0 = np.abs(b2)/t0/t0/gamma   # peak-intensity\n    LD = t0*t0/np.abs(b2)         # dispersion length\n    # ... EXACT SOLUTION\n    u_exact = lambda z, t: np.sqrt(P0)*np.exp(0.5j*gamma*P0*z)/np.cosh(t/t0)\n    # ... INITIAL CONDITION FOR PROPAGATION\n    u0_t = u_exact(0.0, t)\n\n    res_dz = []\n    res_err = []\n    for z_num in [2**n for n in range(5,12)]:\n        # ...  PROPAGATE INITIAL CONITION\n        my_solver.set_initial_condition(w, FT(u0_t))\n        my_solver.propagate(\n                z_range = 0.5*np.pi*LD,\n                n_steps = z_num,\n                n_skip = 8\n                )\n\n        # ... KEEP RESULTS\n        z_fin = my_solver.z[-1]\n        dz =  z_fin/(z_num+1)\n        u_t_fin = my_solver.utz[-1]\n        u_t_fin_exact = u_exact(z_fin, t)\n        res_dz.append(dz)\n        res_err.append(_RI_error( u_t_fin, u_t_fin_exact))\n\n        # ... CLEAR DATA FIELDS\n        my_solver.clear()\n\n    return np.asarray(res_dz), np.asarray(res_err)"
      ]
    },
    {
      "cell_type": "markdown",
      "metadata": {},
      "source": [
        "Finally, we prepare a figure that shows the scaling behavior of the resulting\nrelative intensity error for the different propagation algorithms\nside-by-side:\n\n"
      ]
    },
    {
      "cell_type": "code",
      "execution_count": null,
      "metadata": {
        "collapsed": false
      },
      "outputs": [],
      "source": [
        "import matplotlib as mpl\nimport matplotlib.pyplot as plt\nimport matplotlib.colors as col\n\nf, ax = plt.subplots(1, 1, figsize=(8,6))\n\ncol1 = col12 = 'k'\n\ndz, err = determine_error(\"SiSSM\")\nl1 = ax.plot(dz, err, color=col1, marker='D', markersize=3., markerfacecolor=col1, linewidth=1, label=r'SiSSM')\n\ndz, err = determine_error(\"SySSM\")\nl2 = ax.plot(dz, err, color=col1, marker='s', markersize=3., markerfacecolor=col12, linewidth=1., label=r'SySSM')\n\ndz, err = determine_error(\"IFM\")\nl3 = ax.plot(dz, err, color=col1, marker='o', markersize=3., markerfacecolor=col12, linewidth=1., label=r'IFM-RK4IP')\n\ncol1 = col12 = 'gray'\n\ndz, err = determine_error(\"LEM\")\nl4 = ax.plot(dz, err, color=col1, marker='^', markersize=3., markerfacecolor=col12, linewidth=1., dashes=[2,2], mew = 1., label=r'LEM')\n\ndz, err = determine_error(\"CQE\")\nl5 = ax.plot(dz, err, color=col1, marker='<', markersize=2., markerfacecolor=col12, linewidth=1., mew= 1., dashes=[2,2], label=r'CQE')\n\nax.legend()\n\nline = lambda a, b, x: a*x**b\ndz_ = np.linspace(2e-3,9e-3,5)\nax.plot(dz_, line(0.010, 1, dz_), linewidth=0.75, color='darkgray')\nax.plot(dz_, line(0.003, 2, dz_), linewidth=0.75, color='darkgray')\nax.plot(dz_, line(0.002, 3, dz_), linewidth=0.75, color='darkgray')\nax.plot(dz_, line(0.01, 4, dz_), linewidth=0.75, color='darkgray')\n\nax.text( 0.375, 0.80, r'$\\propto \\Delta z$', transform=ax.transAxes)\nax.text( 0.375, 0.58, r'$\\propto \\Delta z^2$', transform=ax.transAxes)\nax.text( 0.375, 0.41, r'$\\propto \\Delta z^3$', transform=ax.transAxes)\nax.text( 0.375, 0.30, r'$\\propto \\Delta z^4$', transform=ax.transAxes)\n\ndz_lim = (3e-4,0.11)\ndz_ticks = (1e-3, 1e-2, 1e-1)\nax.tick_params(axis='x', length=2., pad=2, top=False)\nax.set_xscale('log')\nax.set_xlim(dz_lim)\nax.set_xticks(dz_ticks)\nax.set_xlabel(r\"Step size $\\Delta z~\\mathrm{(\\mu m)}$\")\n\nerr_lim = (0.1e-15,1e-1)\nerr_ticks = (1e-14,1e-10,1e-6,1e-2)\nax.tick_params(axis='y', length=2., pad=2, top=False)\nax.set_yscale('log')\nax.set_ylim(err_lim)\nax.set_yticks(err_ticks)\nax.set_ylabel(r\"Global error $\\epsilon$\")\n\nplt.show()"
      ]
    },
    {
      "cell_type": "markdown",
      "metadata": {},
      "source": [
        "**References:**\n\n.. [H2007] J. Hult, A Fourth-Order Runge\u2013Kutta in the Inter- action Picture\n   Method for Simulating Supercontin- uum Generation in Optical Fibers, IEEE\n   J. Light- wave Tech. 25 (2007) 3770,\n   https://doi.org/10.1109/JLT.2007.909373.\n\n\n"
      ]
    }
  ],
  "metadata": {
    "kernelspec": {
      "display_name": "Python 3",
      "language": "python",
      "name": "python3"
    },
    "language_info": {
      "codemirror_mode": {
        "name": "ipython",
        "version": 3
      },
      "file_extension": ".py",
      "mimetype": "text/x-python",
      "name": "python",
      "nbconvert_exporter": "python",
      "pygments_lexer": "ipython3",
      "version": "3.9.4"
    }
  },
  "nbformat": 4,
  "nbformat_minor": 0
}