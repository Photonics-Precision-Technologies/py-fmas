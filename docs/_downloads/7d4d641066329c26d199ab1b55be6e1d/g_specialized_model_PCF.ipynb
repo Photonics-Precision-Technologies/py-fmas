{
  "cells": [
    {
      "cell_type": "code",
      "execution_count": null,
      "metadata": {
        "collapsed": false
      },
      "outputs": [],
      "source": [
        "%matplotlib inline"
      ]
    },
    {
      "cell_type": "markdown",
      "metadata": {},
      "source": [
        "\n# Custom model for a specific propagation constant\n\nThis examples shows how to implement a specialized propagation model for a\nspecific propagation constant, building upon :class:`FMAS_S_Raman`.\n\n\nThe propagation scenario schown below, is discussed on several occations in the\nscientific literature [1-3]. For example, in Ref. [1], it is used to\ndemonstrate numerical simulations in terms of the gneralized nonlinear\nSchr\u00f6dinger equation (GNSE) on supercontinuum generation for an instance of a\nhighly nonlinear photonic crystal fiber (PCF) with an anomalous group-velocity\ndispersion regime. In Ref. [2] it is used, again using the GNSE, to introduce a\nparticular $z$-propagation algorithm referred to as the \"Runge-Kutta in\nthe interacton picture\" (RK4IP) method. This algorithm, a particular variant\nof an integrating-factor method, is also implemented in `py-fmas`.  In Ref. [3]\nit is used to demonstrate the feasibility of an adaptive step-size method for\nthe simulation of supercontinuum generation in optical fiber.\n\nAll the above simulation studies used the generalized nonlinear Schr\u00f6dinger\nequation wich relies on the slowly varying envelope approximation. In contrast\nto this, the below example employs a non-envelope model, namely by the\nsimplified forward model for the analytic signal with added Raman effect\n(FMAS-S-R) [4-6].  The $z$-propagation algorithm used with the FMAS-S-R\nin conjunction with the RK4IP method.\n\nReferences:\n    [1] J. M. Dudley, G. Genty, S. Coen,\n    Supercontinuum generation in photonic crystal fiber,\n    Rev. Mod. Phys. 78 (2006) 1135,\n    http://dx.doi.org/10.1103/RevModPhys.78.1135\n\n    [2] J. Hult, A Fourth-Order Runge\u2013Kutta in the Inter- action Picture\n    Method for Simulating Supercontin- uum Generation in Optical Fibers,\n    IEEE J. Light- wave Tech. 25 (2007) 3770,\n    https://doi.org/10.1109/JLT.2007.909373.\n\n    [3] A. M. Heidt,\n    Efficient Adaptive Step Size Method for the Simulation of\n    Supercontinuum Generation in Optical Fibers,\n    IEEE J. Lightwave Tech. 27 (2009) 3984,\n    https://doi.org/10.1109/JLT.2009.2021538\n\n    [4] Sh. Amiranashvili, A. Demircan, Hamiltonian structure of\n    propagation equations for ultrashort optical pulses, Phys. Rev. E 10\n    (2010) 013812, http://dx.doi.org/10.1103/PhysRevA.82.013812.\n\n    [5] Sh. Amiranashvili, A. Demircan, Ultrashort Optical Pulse Propagation in\n    terms of Analytic Signal, Adv. Opt. Tech. 2011 (2011) 989515,\n    http://dx.doi.org/10.1155/2011/989515.\n\n    [6] A. Demircan, Sh. Amiranashvili, C. Bree, C. Mahnke, F. Mitschke, G.\n    Steinmeyer, Rogue wave formation by accelerated solitons at an optical\n    event horizon, Appl. Phys. B 115 (2014) 343,\n    http://dx.doi.org/10.1007/s00340-013-5609-9\n\n.. codeauthor:: Oliver Melchert <melchert@iqo.uni-hannover.de>\n"
      ]
    },
    {
      "cell_type": "code",
      "execution_count": null,
      "metadata": {
        "collapsed": false
      },
      "outputs": [],
      "source": [
        "import sys; sys.path.append('../')\nimport fmas\nimport numpy as np\nfrom fmas.models import FMAS_S_Raman\nfrom fmas.config import FTFREQ, FT, IFT\nfrom fmas.solver import IFM_RK4IP\nfrom fmas.analytic_signal import AS\nfrom fmas.grid import Grid\nfrom fmas.tools import plot_evolution\n\n\nclass CustomModelPCF(FMAS_S_Raman):\n    r\"\"\"Custom model for specific Photonic Crystal Fiber\"\"\"\n    def __init__(self, w):\n\n        c0 = 0.29979    # (micron/fs)\n        w0 = 2.2559     # (rad/fs)\n        gam0 = 0.11e-6  # (1/W/micron)\n        fR = 0.18       # (-)\n        tau1 = 12.2     # (fs)\n        tau2 = 32.0     # (fs)\n        n2 = gam0*c0/w0\n\n        def _beta_fun_detuning(w):\n            r'''Helper function for propagation constant\n\n            Implements group-velocity dispersion with expansion coefficients\n            listed in Tab. I of Ref. [1]. Expansion coefficients are valid for\n            :math:`lambda = 835\\,\\mathrm{nm}`, i.e. for :math:`\\omega_0 \\approx\n            2.56\\,\\mathrm{rad/fs}`.\n\n            References:\n                [1] J. M. Dudley, G. Genty, S. Coen,\n                Supercontinuum generation in photonic crystal fiber,\n                Rev. Mod. Phys. 78 (2006) 1135,\n                http://dx.doi.org/10.1103/RevModPhys.78.1135\n\n            Args:\n                w (:obj:`numpy.ndarray`): Angular frequency grid.\n\n            Returns:\n                :obj:`numpy.ndarray` Propagation constant as function of\n                frequency detuning.\n            '''\n            # ... EXPANSION COEFFICIENTS DISPERSION\n            b2 = -1.1830e-2     # (fs^2/micron)\n            b3 = 8.1038e-2      # (fs^3/micron)\n            b4 = -0.95205e-1    # (fs^4/micron)\n            b5 = 2.0737e-1      # (fs^5/micron)\n            b6 = -5.3943e-1     # (fs^6/micron)\n            b7 = 1.3486         # (fs^7/micron)\n            b8 = -2.5495        # (fs^8/micron)\n            b9 = 3.0524         # (fs^9/micron)\n            b10 = -1.7140       # (fs^10/micron)\n            # ... PROPAGATION CONSTANT (DEPENDING ON DETUNING)\n            beta_fun_detuning = np.poly1d([b10/3628800, b9/362880, b8/40320,\n                b7/5040, b6/720, b5/120, b4/24, b3/6, b2/2, 0., 0.])\n            return beta_fun_detuning(w)\n\n        beta_w = _beta_fun_detuning(w - w0)\n        # -- EQUIP THE SUPERCLASS\n        super().__init__(w, beta_w, n2, fR, tau1, tau2)\n\n\ndef main():\n    # -- DEFINE SIMULATION PARAMETERS\n    # ... COMPUTATIONAL DOMAIN\n    t_max = 3500.       # (fs)\n    t_num = 2**14       # (-)\n    z_max = 0.10*1e6    # (micron)\n    z_num = 8000        # (-)\n    z_skip = 10         # (-)\n    # ... INITIAL CONDITION\n    P0 = 1e4            # (W)\n    t0 = 28.4           # (fs)\n    w0 = 2.2559         # (rad/fs)\n    E_0t_fun = lambda t: np.real(np.sqrt(P0)/np.cosh(t/t0)*np.exp(-1j*w0*t))\n\n    # -- INITIALIZATION STAGE\n    # ... COMPUTATIONAL DOMAIN\n    grid = Grid( t_max = t_max, t_num = t_num, z_max = z_max, z_num = z_num)\n    # ... CUSTOM PROPAGATION MODEL\n    model = CustomModelPCF(w=grid.w)\n    # ... PROPAGATION ALGORITHM \n    solver = IFM_RK4IP( model.Lw, model.Nw, user_action = model.claw)\n    solver.set_initial_condition( grid.w, AS(E_0t_fun(grid.t)).w_rep)\n\n    # -- RUN SIMULATION\n    solver.propagate( z_range = z_max, n_steps = z_num, n_skip = z_skip)\n\n    # -- SHOW RESULTS\n    plot_evolution( solver.z, grid.t, solver.utz,\n        t_lim = (-500,2200), w_lim = (1.,4.))\n\n\nif __name__=='__main__':\n    main()"
      ]
    }
  ],
  "metadata": {
    "kernelspec": {
      "display_name": "Python 3",
      "language": "python",
      "name": "python3"
    },
    "language_info": {
      "codemirror_mode": {
        "name": "ipython",
        "version": 3
      },
      "file_extension": ".py",
      "mimetype": "text/x-python",
      "name": "python",
      "nbconvert_exporter": "python",
      "pygments_lexer": "ipython3",
      "version": "3.9.2"
    }
  },
  "nbformat": 4,
  "nbformat_minor": 0
}