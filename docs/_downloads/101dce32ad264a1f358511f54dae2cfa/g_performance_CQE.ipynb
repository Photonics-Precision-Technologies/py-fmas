{
  "cells": [
    {
      "cell_type": "code",
      "execution_count": null,
      "metadata": {
        "collapsed": false
      },
      "outputs": [],
      "source": [
        "%matplotlib inline"
      ]
    },
    {
      "cell_type": "markdown",
      "metadata": {},
      "source": [
        "\n# Stepsize adaption in the CQE method\n\nThis example demonstrates the ability of the conservation quantity error (CQE)\nmethod [H2009]_ to locally decrease the stepsize when higher accuracy is\nneeded. As test case, the interaction dynamics of two colliding fundamental\nsoliton governed by the standard nonlinear Schr\u00f6dinger equation is considered.\n\nIn contrast to the LEM, which uses a local error derived by means of\nstep-doubling and extrapolation, the CQE uses a conservation quantity of the\nunderlying propagation equation to drive stepsize adaption.\n\n.. codeauthor:: Oliver Melchert <melchert@iqo.uni-hannover.de>\n"
      ]
    },
    {
      "cell_type": "markdown",
      "metadata": {},
      "source": [
        "We first import the functionality needed to perform the sequence of numerical\nexperiments: \n\n"
      ]
    },
    {
      "cell_type": "code",
      "execution_count": null,
      "metadata": {
        "collapsed": false
      },
      "outputs": [],
      "source": [
        "import sys\nimport numpy as np\nfrom fmas.models import ModelBaseClass\nfrom fmas.config import FTFREQ, FT, IFT, C0\nfrom fmas.grid import Grid\nfrom fmas.solver import CQE\nfrom fmas.data_io import save_h5\nfrom fmas.tools import plot_evolution"
      ]
    },
    {
      "cell_type": "markdown",
      "metadata": {},
      "source": [
        "Next, we implement a model for the nonlinear Schr\u00f6dinger equation.  In\nparticular, we here consider the standard nonlinear Schr\u00f6dinger equation,\ngiven by\n\n\\begin{align}\\partial_z u = -i \\frac{\\beta_2}{2}\\partial_t^2 u + i\\gamma |u|^2 u,\\end{align}\n\nwherein $u = u(z, t)$ represents the slowly varying pulse envelope,\n$\\beta_2=-1$ is the second order dispersion parameter, and\n$\\gamma=1$ is the nonlinear parameter:\n\n"
      ]
    },
    {
      "cell_type": "code",
      "execution_count": null,
      "metadata": {
        "collapsed": false
      },
      "outputs": [],
      "source": [
        "class NSE(ModelBaseClass):\n\n    def __init__(self, w, beta, gamma):\n        super().__init__(w, beta_w=beta)\n        self.gamma = gamma\n\n    @property\n    def Lw(self):\n        return 1j*self.beta_w\n\n    def N(self, uw):\n        ut = IFT(uw)\n        return 1j*self.gamma*FT(np.abs(ut)**2*ut)"
      ]
    },
    {
      "cell_type": "markdown",
      "metadata": {},
      "source": [
        "Next, we set up the computational domain, the model, and the LEM solver and\nprepare an initial condition with two fundamental solitons. The velocity of\nthe solitons is adjusted so that they collide after approximately half a\nsoliton period.\n\nTo construct the initial condition, we use the exact single-soliton solution\nof the nonlinar Schr\u00f6dinger equation, given by\n\n\\begin{align}u_{\\rm{exact}}(z,t) = \\sqrt{P_0} {\\rm{sech}}(t/t_0)\\,e^{-i\\gamma P_0 z/2},\\end{align}\n\nwith $P_0=|\\beta_2|/(\\gamma t_0^2)$. We here consider two fundamental\nsolitons of duration $t_0=1$ and frequency detunings\n$\\omega_0=25$ to construct the initial condition\n\n.. math:\n   u_0(t) = u{\\rm{exact}}(0, t+t_{\\rm{off}})\\,e^{i \\omega_0 t}+\n            u{\\rm{exact}}(0, t-t_{\\rm{off}})\\,e^{- i \\omega_0 t}.\n\nThe propagation is performed up to $z_{\\rm{max}}=\\pi/2$, i.e.  for one\nsoliton period.\n\n"
      ]
    },
    {
      "cell_type": "code",
      "execution_count": null,
      "metadata": {
        "collapsed": false
      },
      "outputs": [],
      "source": [
        "# -- SET MODEL PARAMETERS\nt_max = -50.\nNt = 2**12\n# ... PROPAGATION CONSTANT (POLYNOMIAL MODEL)\nbeta = np.poly1d([-0.5, 0.0, 0.0])\nbeta1 = np.polyder(beta, m=1)\nbeta2 = np.polyder(beta, m=2)\n# ... NONLINEAR PARAMETER \ngamma = 1.\n# ... SOLITON PARAMTERS\nt0 = 1.                             # duration\nt_off = 20.                         # temporal offset\nw0 = 25.                            # detuning\nP0 = np.abs(beta2(0))/t0/t0/gamma   # peak-intensity\nLD = t0*t0/np.abs(beta2(0))         # dispersion length\n# ... EXACT SOLUTION\nu_exact = lambda z, t: np.sqrt(P0)*np.exp(0.5j*gamma*P0*z)/np.cosh(t/t0)\n\n# -- INITIALIZATION STAGE\n# ... COMPUTATIONAL DOMAIN\ngrid = Grid(t_max=t_max, t_num=Nt)\nt, w = grid.t, grid.w\n# ... NONLINEAR SCHROEDINGER EQUATION \nmodel = NSE(w, beta(w), gamma)\n# ... PROPAGATION ALGORITHM"
      ]
    },
    {
      "cell_type": "markdown",
      "metadata": {},
      "source": [
        "In order to drive stepsize adaption, the CQE method monitors a conservation\nlaw exhibited by the underlying propagation equation. Here, for the standard\nnonlinear Schr\u00f6dinger equation, we opt to use the conserved quantity\n\n.. math:\n   C_E = \\int |u(z,t)|^2 ~ {\\rm{d}}t,\n\nimplemented by the function:\n\n"
      ]
    },
    {
      "cell_type": "code",
      "execution_count": null,
      "metadata": {
        "collapsed": false
      },
      "outputs": [],
      "source": [
        "def my_CQE_fun(i, zi, w, uw):\n    return np.sum(np.abs(uw)**2)"
      ]
    },
    {
      "cell_type": "markdown",
      "metadata": {},
      "source": [
        "The function can be set when an instance of the solver is initialized:  \n\n"
      ]
    },
    {
      "cell_type": "code",
      "execution_count": null,
      "metadata": {
        "collapsed": false
      },
      "outputs": [],
      "source": [
        "solver = CQE(model.Lw, model.N, del_G = 1e-7, user_action = my_CQE_fun)\n# ... INITIAL CONDITION\nu0_t  = u_exact(0.0, t+t_off)*np.exp(1j*w0*t)\nu0_t += u_exact(0.0, t-t_off)*np.exp(-1j*w0*t)\nsolver.set_initial_condition(w, FT(u0_t))\n\n# -- RUN SOLVER \nsolver.propagate(\n    z_range = 0.5*np.pi*LD,     # propagation range\n    n_steps = 512,\n    n_skip = 2\n)"
      ]
    },
    {
      "cell_type": "markdown",
      "metadata": {},
      "source": [
        "The figure below shows the propagation dynamics of the above initial\ncondition: \n\n"
      ]
    },
    {
      "cell_type": "code",
      "execution_count": null,
      "metadata": {
        "collapsed": false
      },
      "outputs": [],
      "source": [
        "plot_evolution( solver.z, grid.t, solver.utz, t_lim = (-30,30), w_lim = (-50.,50.))"
      ]
    },
    {
      "cell_type": "markdown",
      "metadata": {},
      "source": [
        "Below we prepare a figure showing the variation of the local relative error\nupon propagation (top figure), and the  decrease of the local stepsize in the\nvicinity of the soliton-soliton collision (bottom subfigure).\nIn the top figure, the shaded region indicates the local goal error range.\nAim of the CQE method is to keep the conservation quantity error within that\nrange. \n\n"
      ]
    },
    {
      "cell_type": "code",
      "execution_count": null,
      "metadata": {
        "collapsed": false
      },
      "outputs": [],
      "source": [
        "# sphinx_gallery_thumbnail_number = 2\n\nimport matplotlib as mpl\nimport matplotlib.pyplot as plt\nimport matplotlib.colors as col\n\nf, (ax1,ax2) = plt.subplots(2, 1, figsize=(8,6))\n\nax1.plot(range(len(solver._del_rle)), solver._del_rle)\nax1.axhspan(0.1e-7,1e-7,color='lightgray')\nax1.set_ylabel(r\"$\\delta_{\\rm{CQE}}$\")\n\nax2.plot(range(len(solver._dz_a)), solver._dz_a)\nax2.set_ylabel(r\"$h~{(\\mathrm{\\mu m})}$\")\nax2.set_xlabel(r\"$z$-slice number $n$\")\n\nplt.show()"
      ]
    },
    {
      "cell_type": "markdown",
      "metadata": {},
      "source": [
        "**References:**\n\n.. [H2009] A. M. Heidt,\n       Efficient Adaptive Step Size Method for the Simulation of\n       Supercontinuum Generation in Optical Fibers,\n       IEEE J. Lightwave Tech. 27 (2009) 3984,\n       https://doi.org/10.1109/JLT.2009.2021538\n\n"
      ]
    }
  ],
  "metadata": {
    "kernelspec": {
      "display_name": "Python 3",
      "language": "python",
      "name": "python3"
    },
    "language_info": {
      "codemirror_mode": {
        "name": "ipython",
        "version": 3
      },
      "file_extension": ".py",
      "mimetype": "text/x-python",
      "name": "python",
      "nbconvert_exporter": "python",
      "pygments_lexer": "ipython3",
      "version": "3.9.4"
    }
  },
  "nbformat": 4,
  "nbformat_minor": 0
}