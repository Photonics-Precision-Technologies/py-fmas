{
  "cells": [
    {
      "cell_type": "code",
      "execution_count": null,
      "metadata": {
        "collapsed": false
      },
      "outputs": [],
      "source": [
        "%matplotlib inline"
      ]
    },
    {
      "cell_type": "markdown",
      "metadata": {},
      "source": [
        "\n# FMAS_S_R\n\nThis examples demonstrates photon number conservation for the simplified\nforward model for the analytic signal including the Raman effect (FMAS_S_R).\n\nThe considered propagation model provides a proper conservation law as class\nmethod `claw`. However, for clarity, we here re-implement the conservation\nlaw and explicitly pass this  user-defined function to the solver class upon\ninitialization.\n\nAs exemplary propagation scenario, the setup used in the step-by-step demo\n\n`sphx_glr_auto_tutorials_specific_g_spectrogram.py`\n\nis used.\n\n.. codeauthor:: Oliver Melchert <melchert@iqo.uni-hannover.de>\n"
      ]
    },
    {
      "cell_type": "code",
      "execution_count": null,
      "metadata": {
        "collapsed": false
      },
      "outputs": [],
      "source": [
        "import fmas\nimport numpy as np\nfrom fmas.solver import IFM_RK4IP\nfrom fmas.analytic_signal import AS\nfrom fmas.grid import Grid\nfrom fmas.propagation_constant import PropConst, define_beta_fun_ESM\nfrom fmas.tools import sech, change_reference_frame, plot_photon_number\n\nbeta_fun = define_beta_fun_ESM()\npc = PropConst(beta_fun)\n\ngrid = Grid(t_max=5500.0, t_num=2 ** 14)  # (fs)  # (-)\n\nNs = 8.0  # (-)\nt0 = 7.0  # (fs)\nw0 = 1.7  # (rad/fs)\nn2 = 3.0e-8  # (micron^2/W)\nA0 = Ns * np.sqrt(abs(pc.beta2(w0)) * pc.c0 / w0 / n2) / t0\nE_0t_fun = lambda t: np.real(A0 * sech(t / t0) * np.exp(1j * w0 * t))\nEps_0w = AS(E_0t_fun(grid.t)).w_rep"
      ]
    },
    {
      "cell_type": "markdown",
      "metadata": {},
      "source": [
        "As model we here consider the simplified forward model for the analytic\nsignal including the Raman effect (FMAS_S_R) \n\n"
      ]
    },
    {
      "cell_type": "code",
      "execution_count": null,
      "metadata": {
        "collapsed": false
      },
      "outputs": [],
      "source": [
        "from fmas.models import FMAS_S_R\nmodel = FMAS_S_R(w=grid.w, beta_w=pc.beta(grid.w), n2=n2)"
      ]
    },
    {
      "cell_type": "markdown",
      "metadata": {},
      "source": [
        "For the FMAS_S_R $z$-propagation model we consider a conserved quantity\nthat is related to the classical analog of the photon number, see Eq. (24) of\n[AD2010] and the appendix of [BW1989]. In particular we here implement\n\n\\begin{align}C_p(z) = \\sum_{\\omega>0} \\omega^{-1} |u_\\omega(z)|^,\\end{align}\n\nwhich is, by default, provided as method `model.claw` .\n\n"
      ]
    },
    {
      "cell_type": "code",
      "execution_count": null,
      "metadata": {
        "collapsed": false
      },
      "outputs": [],
      "source": [
        "def Cp(i, zi, w, uw):\n    _a2_w = np.divide(\n        np.abs(uw) ** 2, w, out=np.zeros(w.size, dtype=\"float\"), where=w > 0.\n    )\n    return np.sum(_a2_w)"
      ]
    },
    {
      "cell_type": "markdown",
      "metadata": {},
      "source": [
        "As shown below, this conserved quantity can be provided when an instance of\nthe desired solver is initialized. Here, for simply monitoring the\nconservation law we use the Runge-Kutta in the ineraction picture method.\nHowever, a proper conserved quantity is especially important when the\nconservation quantity error method (CQE) is used, see, e.g., demo\n\n`sphx_glr_auto_tutorials_tests_g_performance_CQE.py`\n\n\n"
      ]
    },
    {
      "cell_type": "code",
      "execution_count": null,
      "metadata": {
        "collapsed": false
      },
      "outputs": [],
      "source": [
        "solver = IFM_RK4IP(model.Lw, model.Nw, user_action=Cp)\nsolver.set_initial_condition(grid.w, Eps_0w)\nsolver.propagate(z_range=0.01e6, n_steps=4000, n_skip=8)  # (micron)  # (-)  # (-)"
      ]
    },
    {
      "cell_type": "markdown",
      "metadata": {},
      "source": [
        "The figure below shows the dynamic evolution of the pulse in the time domain\n(top subfigure) and in the frequency domain (center subfigure). The subfigure\nat the bottom shows the normalized photon number variation\n\n\\begin{align}\\delta_{\\rm{Ph}}(z) = \\frac{ C_p(z)-C_p(0)}{C_p(0)}\\end{align}\n\nas function of the proapgation coordinate $z$. For the considered\ndiscretization of the computational domain the normalized photon number\nvariation is of the order $\\delta_{\\rm{Ph}}\\approx 10^{-7}$ and thus\nvery small. The value can be still decreased by decreasing the stepsize\n$\\Delta z$.\n\n"
      ]
    },
    {
      "cell_type": "code",
      "execution_count": null,
      "metadata": {
        "collapsed": false
      },
      "outputs": [],
      "source": [
        "utz = change_reference_frame(solver.w, solver.z, solver.uwz, pc.vg(w0))\n\nplot_photon_number(\n    solver.z, grid.t, utz, solver.ua_vals, t_lim=(-25, 125), w_lim=(0.5, 4.5)\n)"
      ]
    },
    {
      "cell_type": "markdown",
      "metadata": {},
      "source": [
        "**References:**\n\n[AD2010] Sh. Amiranashvili, A. Demircan, Hamiltonian structure of propagation\nequations for ultrashort optical pulses, Phys. Rev. E 10 (2010) 013812,\nhttp://dx.doi.org/10.1103/PhysRevA.82.013812.\n\n[BW1989] K. J. Blow, D. Wood, Theoretical description of transient stimulated\nRaman scattering in optical fibers.  IEEE J. Quantum Electron., 25 (1989)\n1159, https://doi.org/10.1109/3.40655.\n\n"
      ]
    }
  ],
  "metadata": {
    "kernelspec": {
      "display_name": "Python 3",
      "language": "python",
      "name": "python3"
    },
    "language_info": {
      "codemirror_mode": {
        "name": "ipython",
        "version": 3
      },
      "file_extension": ".py",
      "mimetype": "text/x-python",
      "name": "python",
      "nbconvert_exporter": "python",
      "pygments_lexer": "ipython3",
      "version": "3.9.4"
    }
  },
  "nbformat": 4,
  "nbformat_minor": 0
}