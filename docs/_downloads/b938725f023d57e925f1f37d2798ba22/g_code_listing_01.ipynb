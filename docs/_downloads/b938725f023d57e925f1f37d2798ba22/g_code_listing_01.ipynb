{
  "cells": [
    {
      "cell_type": "code",
      "execution_count": null,
      "metadata": {
        "collapsed": false
      },
      "outputs": [],
      "source": [
        "%matplotlib inline"
      ]
    },
    {
      "cell_type": "markdown",
      "metadata": {},
      "source": [
        "\n# Basic workflow\n\nThis examples demonstrates a basic workflow using the `py-fmas` library code.\n\n.. codeauthor:: Oliver Melchert <melchert@iqo.uni-hannover.de>\n"
      ]
    },
    {
      "cell_type": "markdown",
      "metadata": {},
      "source": [
        "We start by simply importing the required `fmas` into the current namespace.\n\n\n"
      ]
    },
    {
      "cell_type": "code",
      "execution_count": null,
      "metadata": {
        "collapsed": false
      },
      "outputs": [],
      "source": [
        "import fmas"
      ]
    },
    {
      "cell_type": "markdown",
      "metadata": {},
      "source": [
        "If an adequate input file is located within the current working directory,\nthe function `read_h5`, located in module `data_io`, can be used to read-in\nthe propagation setting stored in the input file `input_file.h5`:\n\n"
      ]
    },
    {
      "cell_type": "code",
      "execution_count": null,
      "metadata": {
        "collapsed": false
      },
      "outputs": [],
      "source": [
        "glob = fmas.data_io.read_h5('input_file.h5')"
      ]
    },
    {
      "cell_type": "markdown",
      "metadata": {},
      "source": [
        "Next, the problem specific data structures, given by the computational grid \nand the propagation model, can be initialized: \n\n"
      ]
    },
    {
      "cell_type": "code",
      "execution_count": null,
      "metadata": {
        "collapsed": false
      },
      "outputs": [],
      "source": [
        "grid = fmas.grid.Grid(\n    t_max = glob.t_max,\n    t_num = glob.t_num,\n    z_max = glob.z_max,\n    z_num = glob.z_num)\n\nmodel = fmas.models.FMAS_S_R(\n    w = grid.w,\n    beta_w = glob.beta_w,\n    n2 = glob.n2,\n    fR = glob.fR,\n    tau1 = glob.tau1,\n    tau2 = glob.tau2)"
      ]
    },
    {
      "cell_type": "markdown",
      "metadata": {},
      "source": [
        "The provided initial condition, which represents the real-valued optical\nfield can be converted to the complex-valued analytic signal as shown below:\n\n"
      ]
    },
    {
      "cell_type": "code",
      "execution_count": null,
      "metadata": {
        "collapsed": false
      },
      "outputs": [],
      "source": [
        "ic = fmas.analytic_signal.AS(glob.E_0t)"
      ]
    },
    {
      "cell_type": "markdown",
      "metadata": {},
      "source": [
        "Below we implement a user-action function that can be passed to the\npropagation algorithm. Upon propagation it will evaluated at every\n$z$-step\n\n"
      ]
    },
    {
      "cell_type": "code",
      "execution_count": null,
      "metadata": {
        "collapsed": false
      },
      "outputs": [],
      "source": [
        "import numpy as np\n\ndef Cp(i, zi, w, uw):\n    Iw = np.abs(uw)**2\n    return np.sum(Iw[w>0]/w[w>0])"
      ]
    },
    {
      "cell_type": "markdown",
      "metadata": {},
      "source": [
        "Next, we initialzize the  $z$-propagation algorithm, given by the\n`Runge-Kutta in the interaction picture` (RK4IP) method, set the initial\ncondition, and perform $z$-propagation:\n\n"
      ]
    },
    {
      "cell_type": "code",
      "execution_count": null,
      "metadata": {
        "collapsed": false
      },
      "outputs": [],
      "source": [
        "solver = fmas.solver.IFM_RK4IP(\n    model.Lw, model.Nw,\n    user_action = Cp)\n\nsolver.set_initial_condition(\n    grid.w, ic.w_rep)\n\nsolver.propagate(\n    z_range = glob.z_max,\n    n_steps = glob.z_num,\n    n_skip = glob.z_skip)"
      ]
    },
    {
      "cell_type": "markdown",
      "metadata": {},
      "source": [
        "After the propagation algorithm has terminated, the generated simulation data\ncan be stored within an output file in HDF5-format. Therefore, the data is\norganized as dictionary with custom keys for the stored data objects, which\nis then passed to the function `save_h5` implemented in module `data_io`:\n\n"
      ]
    },
    {
      "cell_type": "code",
      "execution_count": null,
      "metadata": {
        "collapsed": false
      },
      "outputs": [],
      "source": [
        "res = {\n    \"t\": grid.t,\n    \"z\": solver.z,\n    \"w\": solver.w,\n    \"u\": solver.utz,\n    \"Cp\": solver.ua_vals}\n\nfmas.data_io.save_h5('out_file.h5', **res)"
      ]
    },
    {
      "cell_type": "markdown",
      "metadata": {},
      "source": [
        "A simple plot of the generated data can be obtained using convenience functions\nimplemented in module `tools`:\n\n"
      ]
    },
    {
      "cell_type": "code",
      "execution_count": null,
      "metadata": {
        "collapsed": false
      },
      "outputs": [],
      "source": [
        "fmas.tools.plot_evolution(\n    solver.z, grid.t, solver.utz,\n    t_lim = (-500,2200), w_lim = (1.,4.))"
      ]
    }
  ],
  "metadata": {
    "kernelspec": {
      "display_name": "Python 3",
      "language": "python",
      "name": "python3"
    },
    "language_info": {
      "codemirror_mode": {
        "name": "ipython",
        "version": 3
      },
      "file_extension": ".py",
      "mimetype": "text/x-python",
      "name": "python",
      "nbconvert_exporter": "python",
      "pygments_lexer": "ipython3",
      "version": "3.9.4"
    }
  },
  "nbformat": 4,
  "nbformat_minor": 0
}