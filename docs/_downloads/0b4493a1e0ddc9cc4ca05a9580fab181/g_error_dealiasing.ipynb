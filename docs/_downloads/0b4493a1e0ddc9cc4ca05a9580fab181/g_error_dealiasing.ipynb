{
  "cells": [
    {
      "cell_type": "code",
      "execution_count": null,
      "metadata": {
        "collapsed": false
      },
      "outputs": [],
      "source": [
        "%matplotlib inline"
      ]
    },
    {
      "cell_type": "markdown",
      "metadata": {},
      "source": [
        "\n# Implementing an anti-aliasing technique with a model\n\n\nWhen performing nonlinear computations on discrete grids, it is important to\nchoose the time window and the number of sample points large enough to prevent\naliasing errors [B2001]_.  This example demonstrates how to\nimplement an anti-aliasing technique directly with a model.\n\nFor a nonlinearity of order three, as for the cubic Kerr nonlinearity, an easy\nanti-aliasing procedure is to extend the spectrum by a factor of two and to\nproceed by zero-padding [HCL2008]_ [FCGK2005]_.  Therefore, in each step, after\nthe nonlinear term is evaluated in the time domain and transformed to the\nFourier domain, the upper half of the spectrum is set to zero.\n\nHere, the symmetric split-step Fourier method is used and the propagation of a\nfourth-order soliton is considered.\n\n.. codeauthor:: Oliver Melchert <melchert@iqo.uni-hannover.de>\n"
      ]
    },
    {
      "cell_type": "markdown",
      "metadata": {},
      "source": [
        "We first import the functionality needed to perform the sequence of numerical\nexperiments: \n\n"
      ]
    },
    {
      "cell_type": "code",
      "execution_count": null,
      "metadata": {
        "collapsed": false
      },
      "outputs": [],
      "source": [
        "import sys; sys.path.append('../../')\nimport numpy as np\nimport numpy.fft as nfft\nfrom fmas.models import ModelBaseClass\nfrom fmas.config import FTFREQ, FT, IFT, C0\nfrom fmas.solver import  SySSM\nfrom fmas.grid import Grid\nfrom fmas.tools import plot_evolution"
      ]
    },
    {
      "cell_type": "markdown",
      "metadata": {},
      "source": [
        "Next, we implement a model for the nonlinear Schr\u00f6dinger equation.  In\nparticular, we here consider the standard nonlinear Schr\u00f6dinger equation,\ngiven by\n\n\\begin{align}\\partial_z u = -i \\frac{\\beta_2}{2}\\partial_t^2 u + i\\gamma |u|^2 u,\\end{align}\n\nwherein $u = u(z, t)$ represents the slowly varying pulse envelope,\n$\\beta_2=-1$ is the second order dispersion parameter, and\n$\\gamma=1$ is the nonlinear parameter. \nAs discussed above, we here implement a simple technique allowing\nto compute the nonlinear term free of aliasing errors.\n\n"
      ]
    },
    {
      "cell_type": "code",
      "execution_count": null,
      "metadata": {
        "collapsed": false
      },
      "outputs": [],
      "source": [
        "class NSE(ModelBaseClass):\n\n    def __init__(self, w, b2 = -1.0, gamma = 1.):\n        super().__init__(w, 0.5*b2*w*w)\n        self.gamma = gamma\n        # ANTI-ALIASING FILTER SETTING UPPER HALF OF SPECTRUM TO ZERO\n        self._de_alias = lambda uw: np.where(np.abs(w) < 0.5 * w.max(), uw, 0j)\n\n    @property\n    def Lw(self):\n        return 1j*self.beta_w\n\n    def Nw(self, uw):\n        ut = IFT(uw)\n        return self._de_alias(1j*self.gamma*FT(np.abs(ut)**2*ut))"
      ]
    },
    {
      "cell_type": "markdown",
      "metadata": {},
      "source": [
        "Next, we initialize the computational domain and use a symmetric split-step\nFourier method to propagate a single third-order soliton for six soliton\nperiods.\nFor this numerical experiment, the extend of the time domain and the number \nof sample points is chosen large enough to allow for a zero padding \nanti-aliasing technique without cropping important parts of the spectrum.\n\n"
      ]
    },
    {
      "cell_type": "code",
      "execution_count": null,
      "metadata": {
        "collapsed": false
      },
      "outputs": [],
      "source": [
        "grid = Grid( t_max = 34., t_num = 2**12)\nt, w = grid.t, grid.w\nmodel = NSE(w, b2=-1., gamma=1.)\nu_0t = 4./np.cosh(t)\n\nsolver = SySSM(model.Lw, model.Nw)\nsolver.set_initial_condition(w, FT(u_0t))\nsolver.propagate(z_range = 3*np.pi/2, n_steps = 10000, n_skip = 50)\nz, utz = solver.z_, solver.utz\n\nplot_evolution( solver.z, grid.t, solver.utz,\n    t_lim = (-5,5), w_lim = (-60,60), DO_T_LOG=False)"
      ]
    },
    {
      "cell_type": "markdown",
      "metadata": {},
      "source": [
        "**References:**\n\n.. [B2001] J.P. Boyd, Chebychev and Fourier Spectral Methods, Dover, New York (2001)\n\n.. [HCL2008] H. Holmas, D. Clamond, H.P. Langtangen, A pseudospectral Fourier\n           method for a 1D incompressible two-fluid model, Int. J. Numer.\n           Meth. Fluids 58 (2008) 639, https://doi.org/10.1002/fld.1772\n\n.. [FCGK2005] D. Fuctus, D. Clamond, J. Grue, O. Kristiansen, An efficient \n           model for three-dimensional surface wave simulations Part I: Free\n           space problems, J. Comp. Phys. 205 (2005) 665,\n           https://doi.org/10.1016/j.jcp.2004.11.027 \n\n\n"
      ]
    }
  ],
  "metadata": {
    "kernelspec": {
      "display_name": "Python 3",
      "language": "python",
      "name": "python3"
    },
    "language_info": {
      "codemirror_mode": {
        "name": "ipython",
        "version": 3
      },
      "file_extension": ".py",
      "mimetype": "text/x-python",
      "name": "python",
      "nbconvert_exporter": "python",
      "pygments_lexer": "ipython3",
      "version": "3.9.4"
    }
  },
  "nbformat": 4,
  "nbformat_minor": 0
}