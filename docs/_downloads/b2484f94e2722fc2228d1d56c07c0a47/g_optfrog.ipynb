{
  "cells": [
    {
      "cell_type": "code",
      "execution_count": null,
      "metadata": {
        "collapsed": false
      },
      "outputs": [],
      "source": [
        "%matplotlib inline"
      ]
    },
    {
      "cell_type": "markdown",
      "metadata": {},
      "source": [
        "\n# Extending `py-fmas` by `optfrog` spectrograms\n\nThis examples shows how to use the `py-fmas` library code in conjunction\nwith the optFrog spectrogram tool.\n\nIn particular, the example details a numerical experiment performing pulse\npropagation in terms of the simplified forward model for the analytic signal\nincluding the Raman effect [1]. Here, the model is used to perform simulations\non supercontinuum generation for an instance of a highly nonlinear photonic\ncrystal fiber (PCF) with an anomalous group-velocity dispersion regime [2].\nThe example also includes data postprocessing by calculating an analytic signal\nspectrum with optimized time-frequency resolution using the `optfrog`-tool [3].\n\nAn example that shows how to use the simple `py-fmas` native spectrogram is\nshown under the link below:\n\n`sphx_glr_auto_tutorials_specific_g_spectrogram.py`\n\nNote:\n    * For this exampe to run, the optfrog tool needs to be installed [3].\n    * The `py-fmas` package includes a simple spectrogram in module `tools`.\n      The `optfrog` Python package however includes extended functionality by\n      allowing a user to calculate spectrograms with optimized time and\n      frequency resolution.\n\nReferences:\n    [1] A. Demircan, Sh. Amiranashvili, C. Bree, C. Mahnke, F. Mitschke, G.\n    Steinmeyer, Rogue wave formation by accelerated solitons at an optical\n    event horizon, Appl. Phys. B 115 (2014) 343,\n    http://dx.doi.org/10.1007/s00340-013-5609-9\n\n    [2] J. M. Dudley, G. Genty, S. Coen,\n    Supercontinuum generation in photonic crystal fiber,\n    Rev. Mod. Phys. 78 (2006) 1135,\n    http://dx.doi.org/10.1103/RevModPhys.78.1135\n\n    [3] O. Melchert, B. Roth, U. Morgner, A. Demircan,\n    OptFROG \u2014 Analytic signal spectrograms with optimized time\u2013frequency resolution,\n    SoftwareX 10 (2019) 100275,\n    https://doi.org/10.1016/j.softx.2019.100275,\n    code repository: https://github.com/ElsevierSoftwareX/SOFTX_2019_130.\n\n.. codeauthor:: Oliver Melchert <melchert@iqo.uni-hannover.de>\n"
      ]
    },
    {
      "cell_type": "code",
      "execution_count": null,
      "metadata": {
        "collapsed": false
      },
      "outputs": [],
      "source": [
        "import fmas\nimport numpy as np\nfrom fmas.models import CustomModelPCF\nfrom fmas.solver import IFM_RK4IP\nfrom fmas.analytic_signal import AS\nfrom fmas.grid import Grid\nfrom fmas.tools import plot_spectrogram\nfrom optfrog import optFrog\n\n\ndef main():\n    # -- DEFINE SIMULATION PARAMETERS\n    # ... COMPUTATIONAL DOMAIN\n    t_max = 3500.       # (fs)\n    t_num = 2**14       # (-)\n    z_max = 0.10*1e6    # (micron)\n    z_num = 8000        # (-)\n    z_skip = 10         # (-)\n    # ... INITIAL CONDITION\n    P0 = 1e4            # (W)\n    t0 = 28.4           # (fs)\n    w0 = 2.2559         # (rad/fs)\n    E_0t_fun = lambda t: np.real(np.sqrt(P0)/np.cosh(t/t0)*np.exp(-1j*w0*t))\n\n    # -- INITIALIZATION STAGE\n    grid = Grid( t_max = t_max, t_num = t_num, z_max = z_max, z_num = z_num)\n    model = CustomModelPCF(w=grid.w)\n    solver = IFM_RK4IP( model.Lw, model.Nw, user_action = model.claw)\n    solver.set_initial_condition( grid.w, AS(E_0t_fun(grid.t)).w_rep)\n    # -- RUN SIMULATION\n    solver.propagate( z_range = z_max, n_steps = z_num, n_skip = z_skip)\n\n    # -- POSTPRICESSING: COMPUTE SPECTROGRAM USING OPTFROG \n    # ... Z-DISTANCE, Z-INDEX AND FIELD FOR WHICH TO COMPUTE TRACE\n    z0 = 0.08e6  # (micron)\n    z0_idx = np.argmin(np.abs(solver.z-z0))\n    Et = solver.utz[z0_idx]\n    # ... WINDOW FUNCTION FOR SIGNAL LOCALIZATION\n    def window_fun(s0):\n        return lambda t: np.exp(-t**2/2/s0/s0)/np.sqrt(2.*np.pi)/s0\n    # ... OPTFROG TRACE\n    res = optFrog(\n        grid.t,                         # TEMPORAL GRID\n        Et,                             # ANALYTIC SIGNAL \n        window_fun,                     # WINDOW FUNCTION\n        tLim = (-500.0, 3200.0, 10),    # (tmin, fs) (tmax, fs) (nskip)\n        wLim = (0.9, 4.1, 3)            # (wmin, fs) (wmax, fs) (nskip)\n    )\n    # ... SHOW SPECTROGRAM\n    plot_spectrogram(res.tau, res.w, res.P)\n\n\nif __name__=='__main__':\n    main()"
      ]
    }
  ],
  "metadata": {
    "kernelspec": {
      "display_name": "Python 3",
      "language": "python",
      "name": "python3"
    },
    "language_info": {
      "codemirror_mode": {
        "name": "ipython",
        "version": 3
      },
      "file_extension": ".py",
      "mimetype": "text/x-python",
      "name": "python",
      "nbconvert_exporter": "python",
      "pygments_lexer": "ipython3",
      "version": "3.9.4"
    }
  },
  "nbformat": 4,
  "nbformat_minor": 0
}