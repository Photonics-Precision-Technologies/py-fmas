{
  "cells": [
    {
      "cell_type": "code",
      "execution_count": null,
      "metadata": {
        "collapsed": false
      },
      "outputs": [],
      "source": [
        "%matplotlib inline"
      ]
    },
    {
      "cell_type": "markdown",
      "metadata": {},
      "source": [
        "\n# BMCF -- Backscattered optical field components\n\nThis examples demonstrates backscattered optical field components using the\nbidirectional model for the complex field (BMCF), described in Ref. [1].\n\nIn particular, this example reproduces the propagation scenario  shown in Fig.\n1(a) of Ref. [1]. The figure shows the evolution of a soliton of duration\n$t_{\\rm{S}}=50\\,\\mathrm{fs}$, center frequency\n$\\omega_{\\rm{S}}=2.23548\\,\\mathrm{rad/fs}$, and soliton order\n$N_{\\rm{S}}=3.54$. For a detailed discussion, see Ref. [1].\n\nReferences:\n    [1] Sh. Amiranashvili, A. Demircan, Hamiltonian structure of\n    propagation equations for ultrashort optical pulses, Phys. Rev. E 10\n    (2010) 013812, http://dx.doi.org/10.1103/PhysRevA.82.013812.\n\n.. codeauthor:: Oliver Melchert <melchert@iqo.uni-hannover.de>\n"
      ]
    },
    {
      "cell_type": "code",
      "execution_count": null,
      "metadata": {
        "collapsed": false
      },
      "outputs": [],
      "source": [
        "import fmas\nimport numpy as np\nfrom fmas.grid import Grid\nfrom fmas.models import BMCF\nfrom fmas.solver import IFM_RK4IP\nfrom fmas.analytic_signal import AS\nfrom fmas.propagation_constant import PropConst, define_beta_fun_fluoride_glass_AD2010\nfrom fmas.tools import change_reference_frame, plot_evolution\n\n\ndef main():\n\n    # -- INITIALIZATION STAGE\n    # ... DEFINE SIMULATION PARAMETERS\n    t_max = 3500./2     # (fs)\n    t_num = 2**14       # (-)\n    z_max = 50.0e3      # (micron)\n    z_num = 100000      # (-)\n    z_skip = 100        # (-)\n    c0 = 0.29979        # (micron/fs)\n    n2 = 1.             # (micron^2/W) FICTITIOUS VALUE ONLY\n    wS = 2.32548        # (rad/fs)\n    tS = 50.0           # (fs)\n    NS = 3.54           # (-)\n    # ... PROPAGGATION CONSTANT\n    beta_fun = define_beta_fun_fluoride_glass_AD2010()\n    pc = PropConst(beta_fun)\n    chi = (8./3)*pc.beta(wS)*c0/wS*n2\n\n    # ... COMPUTATIONAL DOMAIN, MODEL, AND SOLVER \n    grid = Grid( t_max = t_max, t_num = t_num, z_max = z_max, z_num = z_num)\n    model = BMCF(w=grid.w, beta_w=pc.beta(grid.w), chi =  chi)\n    solver = IFM_RK4IP( model.Lw, model.Nw)\n\n    # -- SET UP INITIAL CONDITION\n    LD = tS*tS/np.abs( pc.beta2(wS) )\n    A0 = NS*np.sqrt(8*c0/wS/n2/LD)\n    Eps_0w = AS(np.real(A0/np.cosh(grid.t/tS)*np.exp(1j*wS*grid.t))).w_rep\n    solver.set_initial_condition( grid.w, Eps_0w)\n\n    # -- PERFORM Z-PROPAGATION\n    solver.propagate( z_range = z_max, n_steps = z_num, n_skip = z_skip)\n\n    # -- SHOW RESULTS\n    utz = change_reference_frame(solver.w, solver.z, solver.uwz, pc.vg(wS))\n    plot_evolution( solver.z, grid.t, utz,\n        t_lim = (-500,500), w_lim = (-10.,10.), DO_T_LOG = True, ratio_Iw=1e-15)\n\n\nif __name__=='__main__':\n    main()"
      ]
    }
  ],
  "metadata": {
    "kernelspec": {
      "display_name": "Python 3",
      "language": "python",
      "name": "python3"
    },
    "language_info": {
      "codemirror_mode": {
        "name": "ipython",
        "version": 3
      },
      "file_extension": ".py",
      "mimetype": "text/x-python",
      "name": "python",
      "nbconvert_exporter": "python",
      "pygments_lexer": "ipython3",
      "version": "3.9.4"
    }
  },
  "nbformat": 4,
  "nbformat_minor": 0
}