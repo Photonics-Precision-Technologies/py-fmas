{
  "cells": [
    {
      "cell_type": "code",
      "execution_count": null,
      "metadata": {
        "collapsed": false
      },
      "outputs": [],
      "source": [
        "%matplotlib inline"
      ]
    },
    {
      "cell_type": "markdown",
      "metadata": {},
      "source": [
        "\n# Implementing a custom model\n\nThis examples shows how to use the $z$-propagation model `FMAS_S_Raman`\nto implement a specialized propagation model, using a cutom propagation\nconstant and custom parameters for the Raman response function.\n\n.. codeauthor:: Oliver Melchert <melchert@iqo.uni-hannover.de>\n"
      ]
    },
    {
      "cell_type": "code",
      "execution_count": null,
      "metadata": {
        "collapsed": false
      },
      "outputs": [],
      "source": [
        "import fmas\nimport numpy as np\nfrom fmas.models import FMAS_S_Raman\nfrom fmas.solver import IFM_RK4IP\nfrom fmas.analytic_signal import AS\nfrom fmas.grid import Grid\nfrom fmas.tools import plot_spectrogram, spectrogram\nfrom fmas.propagation_constant import PropConst\nfrom fmas.tools import sech, plot_details_prop_const\nfrom fmas.tools import change_reference_frame, plot_evolution"
      ]
    },
    {
      "cell_type": "markdown",
      "metadata": {},
      "source": [
        "Below we will demonstrate how to implement a specialized\n$z$-propagation model with propagation constant of a ZBLAN fiber [1],\nand a Raman response function with parameters suited for simulating such a\nfiber [2]. Specifically, we here reproduce the ZBLAN model of Ref. [3].\n\nThis example shows that, while the implemented class FMAS_S_Raman can be used\nwith custom paramters, it can also serve as a superclass for a specialized\nmodel.\n\nWe first start by deriving a subclass from `FMAS_S_Raman`, equipped with the \ndesired properties\n\n"
      ]
    },
    {
      "cell_type": "code",
      "execution_count": null,
      "metadata": {
        "collapsed": false
      },
      "outputs": [],
      "source": [
        "class ZBLAN(FMAS_S_Raman):\n    r\"\"\"Custom model for ZBLAN fiber.\n\n    Implements the :math:`z`-propagation model for a ZBLAN fiber, using the\n    proapagation constant and Raman response function parameters of Ref. [1].\n    Parameters that specify the Raman response function and `n_2` are taken\n    from Ref. [2].\n\n    References:\n        [1] A. Demircan, Sh. Amiranashvili, C. Bree, U. Morgner, G. Steinmeyer,\n        Adjustable pulse compression scheme for generation of few-cycle pulses\n        in the midinfrared, Opt. Lett. 39 (2014) 2735,\n        https://doi.org/10.1364/OL.39.002735.\n\n        [2] L. Liu, G. Qin, Q. Tian, D. Zhao, W. Qin, Numerical investigation\n        of mid-infrared supercontinuum generation up to 5 \u03bcm in single mode\n        fluoride fiber, Opt. Exp. 19 (2011) 10041,\n        https://doi.org/10.1364/OE.19.010041.\n\n    Args:\n        w (:obj:`numpy.ndarray`): Angular frequency grid.\n\n    Returns:\n        :obj:`numpy.ndarray` Propagation constant as function of\n        frequency detuning.\n    \"\"\"\n    def __init__(self, w, fR=0.1929, tau1=9.0, tau2=134.0):\n\n        # -- SPECIFY MODEL SPECIFIC PARAMETERS \n        n2 = 2.1e-2     # (micron^2/W) \n\n        # -- LOCAL HELPER FUNCTION FOR PROPAGATION CONSTANT\n        def _define_beta_fun_ZBLAN():\n            r\"\"\"Custom propagation constant for ZBLAN fiber.\n\n            Implements rational Pade-approximant of order [4/4] for the\n            refractive index of a ZBLAN fiber (PCF).\n\n            Returns:\n                :obj:`callable`: Propagation constant for NL-PM-750 PCF.\n            \"\"\"\n            p = np.poly1d((11.3882,0.,760.771,0.,-1.)[::-1])\n            q = np.poly1d(( 8.69689, 0.,351.039,0.,-1.)[::-1])\n            n_idx = lambda w: np.sqrt(p(w)/q(w))     # (-)\n            b2Roots = (0.25816960569391839,1.1756233558942193)\n            c0 = 0.29979                    # (micron/fs)\n            return lambda w: n_idx(w)*w/c0  # (1/micron)\n\n        # -- MAKE PROPAGATION CONSTANT A CLASS ATTRIBUTE \n        self.beta_fun = _define_beta_fun_ZBLAN()\n        # -- EQUIP THE SUPERCLASS\n        super().__init__(w, self.beta_fun(w), n2, fR, tau1, tau2)"
      ]
    },
    {
      "cell_type": "markdown",
      "metadata": {},
      "source": [
        "Next, we use the implemente class to reproduce the interaction between a\nsoliton and a dispersive wave in absence of the Raman effect.  In particular,\nwe here reproduce the collision scenario underlying Fig. 2 of Ref. [3].\n\nTherefore, we initialize an adequate computational domain and an instance of\nthe `ZBLAN` model, for which the fractional contribution of the Raman effect\nis set to zero\n\n"
      ]
    },
    {
      "cell_type": "code",
      "execution_count": null,
      "metadata": {
        "collapsed": false
      },
      "outputs": [],
      "source": [
        "grid = Grid(\n    t_max = 4500.,       # (fs)\n    t_num = 2**14        # (-)\n)\n\nmodel = ZBLAN(grid.w, fR=0.0)"
      ]
    },
    {
      "cell_type": "markdown",
      "metadata": {},
      "source": [
        "To visually assess the group-velocity (GV) and group-velocity dispersion\n(GVD) of the propagation constant in the relevant angular frequency range we\nuse the convenience class `PropConst` and pre-implemented plotting functions\nthat are implemented in module `tools`\n\n"
      ]
    },
    {
      "cell_type": "code",
      "execution_count": null,
      "metadata": {
        "collapsed": false
      },
      "outputs": [],
      "source": [
        "w = grid.w[np.logical_and(grid.w>0.5,grid.w<5.)]\npc = PropConst(model.beta_fun)\nplot_details_prop_const(w, pc.vg(w), pc.beta2(w))"
      ]
    },
    {
      "cell_type": "markdown",
      "metadata": {},
      "source": [
        "Next, we prepare the corresponding initial condition, which is well described\nin Ref. [3].  It consists of a fundamental soliton with duration\n$t_{\\rm{S}}=25.2\\,\\mathrm{fs}$ and center frequency\n$\\omega_{\\rm{S}}=0.4709\\,\\mathrm{rad/fs}$, and a dispersive wave with\nduration $t_{\\rm{DW}}=100\\,\\mathrm{fs}$ and angular frequency\n$\\omega_{\\rm{DW}}=2.6177\\,\\mathrm{rad/fs}$.  Both pulses exhibit an\namplitude ratio of $A_{\\rm{DW}}/A_{\\rm{S}}=0.566$, and the soliton is\nlaunched with  deltay $t_{\\rm{off}}=450\\,\\mathrm{fs}$.\n\n"
      ]
    },
    {
      "cell_type": "code",
      "execution_count": null,
      "metadata": {
        "collapsed": false
      },
      "outputs": [],
      "source": [
        "wS, tS = 0.4709, 25.2   # (rad/fs), (fs)\nwDW, tDW = 2.6177, 100. # (rad/fs), (fs)\nt_off = -450.           # (fs)\nrDW = 0.566             # (-)\nA0S = np.sqrt(abs(pc.beta2(wS))*model.c0/wS/model.n2)/tS\nE_0t = np.real(\n            A0S*sech(grid.t/tS)*np.exp(1j*wS*grid.t) +               # S\n            rDW*A0S*sech((grid.t-t_off)/tDW)*np.exp(1j*wDW*grid.t) ) # DW\nEps_0w =  AS(E_0t).w_rep"
      ]
    },
    {
      "cell_type": "markdown",
      "metadata": {},
      "source": [
        "For $z$-propagation we here use a variant of an integrating factor\nmethod, referred to as the \"Runge-Kutta in the interaction picture\" method,\nimplemented as `IFM_RK4IP` in module `solver`.\n\n"
      ]
    },
    {
      "cell_type": "code",
      "execution_count": null,
      "metadata": {
        "collapsed": false
      },
      "outputs": [],
      "source": [
        "solver = IFM_RK4IP( model.Lw, model.Nw)\nsolver.set_initial_condition( grid.w,Eps_0w)\n\nsolver.propagate(\n    z_range = 0.35e6,   # (micron)\n    n_steps = 4000,     # (-)\n    n_skip = 10         # (-)\n)"
      ]
    },
    {
      "cell_type": "markdown",
      "metadata": {},
      "source": [
        "Finally, the $z$-propagation characteristics of the interaction process\ncan be obtained by\n\n"
      ]
    },
    {
      "cell_type": "code",
      "execution_count": null,
      "metadata": {
        "collapsed": false
      },
      "outputs": [],
      "source": [
        "utz = change_reference_frame(solver.w, solver.z, solver.uwz, pc.vg(wS))\nplot_evolution( solver.z, grid.t, utz, t_lim=(-3000,2000), w_lim=(0.2,3.3))\n\n# sphinx_gallery_thumbnail_number = 2"
      ]
    },
    {
      "cell_type": "markdown",
      "metadata": {},
      "source": [
        "References:\n   [1]  C. Agger, C. Petersen, S. Dupont, H. Steffensen, J. K. Lyngso, C. L.\n   Thomsen, J. Thogersen, S. R. Keiding, O. Bang, Supercontinuum generation\n   in ZBLAN fibers\u2014detailed comparison between measurement and simulation, J.\n   Opt. Soc. Am. B 29 (2012) 635, https://doi.org/10.1364/JOSAB.29.000635.\n\n   [2] L. Liu, G. Qin, Q. Tian, D. Zhao, W. Qin, Numerical investigation of\n   mid-infrared supercontinuum generation up to 5 \u03bcm in single mode fluoride\n   fiber, Opt. Exp. 19 (2011) 10041, https://doi.org/10.1364/OE.19.010041.\n\n   [3] A. Demircan, Sh. Amiranashvili, C. Bree, U. Morgner, G. Steinmeyer,\n   Adjustable pulse compression scheme for generation of few-cycle pulses in\n   the midinfrared, Opt. Lett. 39 (2014) 2735,\n   https://doi.org/10.1364/OL.39.002735. \n\n\n"
      ]
    }
  ],
  "metadata": {
    "kernelspec": {
      "display_name": "Python 3",
      "language": "python",
      "name": "python3"
    },
    "language_info": {
      "codemirror_mode": {
        "name": "ipython",
        "version": 3
      },
      "file_extension": ".py",
      "mimetype": "text/x-python",
      "name": "python",
      "nbconvert_exporter": "python",
      "pygments_lexer": "ipython3",
      "version": "3.9.2"
    }
  },
  "nbformat": 4,
  "nbformat_minor": 0
}