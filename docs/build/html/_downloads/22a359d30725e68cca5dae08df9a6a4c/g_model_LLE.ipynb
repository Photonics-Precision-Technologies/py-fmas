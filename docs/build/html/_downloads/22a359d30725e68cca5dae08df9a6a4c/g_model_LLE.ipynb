{
  "cells": [
    {
      "cell_type": "code",
      "execution_count": null,
      "metadata": {
        "collapsed": false
      },
      "outputs": [],
      "source": [
        "%matplotlib inline"
      ]
    },
    {
      "cell_type": "markdown",
      "metadata": {},
      "source": [
        "\n# Lugiato-Lefever equation -- Soliton molecules\n\nThis example shows how to perform simulations for the Lugiato-Lefever equation\n(LLE) [1], using functionality implemented by `py-fmas`.\n\nIn particular, this example implements the first-order propagation equation\n\n\\begin{align}\\partial_t u = P - (1+i\\theta) - i d_2 \\partial_x^2 u + i |u|^2 u,\\end{align}\n\nwhere $u\\equiv u(x,t)$ is a complex field. The temporal evolution is\ngoverned by the frequency detuning $\\theta=2$, the constant driving\namplitude $P=1.37225$, and second order dispersion parameter $d_2=-0.002$.\nEquations of this type allow to describe the propagation of optical pulses in\nring cavities.\n\nThe example provided below shows how an initial condition of the form\n\n\\begin{align}u_0(t) = 0.5 + \\exp\\{ -(\\theta/0.85)^2\\}\\end{align}\n\nevolves into a soliton molecule consisting of 5 cavity solitons.  This\npropagation scenario reporduces the soliton molecule shown in Fig. 9(e) of Ref.\n[2].\n\nReferences:\n    [1] L.A. Lugiato, R. Lefever, Spatial Dissipative Structures in Passive\n    Optical Systems, Phys. Rev. Lett. 58 (1987) 2209,\n    https://doi.org/10.1103/PhysRevLett.58.2209.\n\n    [2] C. Godey, I.V.  Balakireva, A. Coillet, Y. K. Chembo, Stability\n    analysis of the spatiotemporal Lugiato-Lefever model for Kerr optical\n    frequency combs in the anomalous and normal dispersion regimes, Phys. Rev.\n    A 89 (2014) 063814, http://dx.doi.org/10.1103/PhysRevA.89.063814.\n\n.. codeauthor:: Oliver Melchert <melchert@iqo.uni-hannover.de>\n"
      ]
    },
    {
      "cell_type": "code",
      "execution_count": null,
      "metadata": {
        "collapsed": false
      },
      "outputs": [],
      "source": [
        "import fmas\nimport numpy as np\nimport matplotlib as mpl\nimport matplotlib.pyplot as plt\nimport matplotlib.colors as col\nfrom fmas.config import FTSHIFT, FTFREQ, FT, IFT\nfrom fmas.solver import SiSSM\n\n\ndef plot_evolution_LLE(z, t, u, t_lim, w_lim):\n\n    def _setColorbar(im, refPos):\n        \"\"\"colorbar helper\"\"\"\n        x0, y0, w, h = refPos.x0, refPos.y0, refPos.width, refPos.height\n        cax = f.add_axes([x0, y0+1.02*h, w, 0.03*h])\n        cbar = f.colorbar(im, cax=cax, orientation='horizontal')\n        cbar.ax.tick_params(color='k',\n                            labelcolor='k',\n                            bottom=False,\n                            direction='out',\n                            labelbottom=False,\n                            labeltop=True,\n                            top=True,\n                            size=4,\n                            pad=0\n                            )\n\n        cbar.ax.tick_params(which=\"minor\", bottom=False, top=False )\n        return cbar\n\n    w = FTSHIFT(FTFREQ(t.size,d=t[1]-t[0])*2*np.pi)\n\n    f, (ax1, ax2) = plt.subplots(1, 2, sharey=True, figsize=(8,4))\n    plt.subplots_adjust(left=0.13, right=0.96, bottom=0.12, top=0.8, wspace=0.05)\n    cmap=mpl.cm.get_cmap('jet')\n\n    # -- LEFT SUB-FIGURE: TIME-DOMAIN PROPAGATION CHARACTERISTICS\n    It = np.abs(u)**2\n    It/=np.max(It)\n\n    my_norm=col.Normalize(vmin=0,vmax=1)\n    im1 = ax1.pcolorfast(t, z, It[:-1,:-1], norm=my_norm, cmap=cmap)\n    cbar1 = _setColorbar(im1,ax1.get_position())\n    cbar1.ax.set_title(r\"$|u|^2/{\\rm{max}}\\left(|u|^2\\right)$\",color='k',y=3.5)\n    ax1.set_xlim(t_lim)\n    ax1.set_ylim([0.,z.max()])\n    ax1.set_xlabel(r\"$x$\")\n    ax1.set_ylabel(r\"$t$\")\n    ax1.ticklabel_format(useOffset=False, style='plain')\n\n    # -- RIGHT SUB-FIGURE: ANGULAR FREQUENCY-DOMAIN PROPAGATION CHARACTERISTICS \n    Iw = np.abs(FTSHIFT(FT(u, axis=-1),axes=-1))**2\n    Iw /= np.max(Iw)\n    im2 = ax2.pcolorfast(w,z,Iw[:-1,:-1],\n                         norm=col.LogNorm(vmin=1e-6*Iw.max(),vmax=Iw.max()),\n                         cmap=cmap\n                         )\n    cbar2 =_setColorbar(im2,ax2.get_position())\n    cbar2.ax.set_title(r\"$|u_k|^2/{\\rm{max}}\\left(|u_k|^2\\right)$\",color='k',y=3.5)\n    ax2.set_xlim(w_lim)\n    ax2.set_ylim([0.,z.max()])\n    ax2.set_xlabel(r\"$k$\")\n    ax2.tick_params(labelleft=False)\n    ax2.ticklabel_format(useOffset=False, style='plain')\n\n    plt.show()\n\n\ndef main():\n    # -- DEFINE SIMULATION PARAMETERS\n    x_max, Nx = np.pi, 512\n    t_max, Nt = 30.0, 60000\n    n_skip = 60\n    P, theta, d2 = 1.37225, 2., -0.002\n\n    # -- INITIALIZATION STAGE\n    # ... COMPUTATIONAL DOMAIN\n    x = np.linspace(-x_max, x_max, Nx, endpoint=False)\n    k = FTFREQ(x.size,d=x[1]-x[0])*2*np.pi\n    # ... LUGIATO-LEFEVER MODEL\n    Lk = lambda k: -(1+1j*theta)  + 1j*d2*k*k\n    Nk = lambda uk: ( lambda ut: (FT(1j*np.abs(ut)**2*ut + P )))( IFT(uk))\n    # ... SOLVER BASED ON SIMPLE SPLIT-STEP FOURIER METHOD \n    solver = SiSSM(Lk(k), Nk)\n    # ... INITIAL CONDITION\n    u_0k = FT(0.5 + np.exp(-(x/0.85)**2) + 0j)\n    solver.set_initial_condition(k, u_0k)\n\n    # -- RUN SIMULATION\n    solver.propagate(z_range = t_max, n_steps = Nt, n_skip = n_skip)\n    t_, uxt = solver.z, solver.utz\n\n    x_lim = (-np.pi,np.pi)\n    k_lim = (-150,150)\n    plot_evolution_LLE(t_, x, uxt, x_lim, k_lim)\n\n\nif __name__=='__main__':\n    main()"
      ]
    }
  ],
  "metadata": {
    "kernelspec": {
      "display_name": "Python 3",
      "language": "python",
      "name": "python3"
    },
    "language_info": {
      "codemirror_mode": {
        "name": "ipython",
        "version": 3
      },
      "file_extension": ".py",
      "mimetype": "text/x-python",
      "name": "python",
      "nbconvert_exporter": "python",
      "pygments_lexer": "ipython3",
      "version": "3.9.2"
    }
  },
  "nbformat": 4,
  "nbformat_minor": 0
}