{
  "cells": [
    {
      "cell_type": "code",
      "execution_count": null,
      "metadata": {
        "collapsed": false
      },
      "outputs": [],
      "source": [
        "%matplotlib inline"
      ]
    },
    {
      "cell_type": "markdown",
      "metadata": {},
      "source": [
        "\n# Using a specific Raman response function\n\nThis examples shows how one of the more specific Raman response functions,\nimplemented in modeule `raman_response`, can be used with the class\n:class:`FMAS_S_Raman`.\n\nIn particular, this example shows how a Lin-Agrawal type Raman response model\ncan be used with the above $z$-propagation model.\n\nReferences:\n    [1] Q. Lin, G. P. Agrawal, Raman response function for silica fibers,\n    Optics Letters, 31 (2006) 3086, https://doi.org/10.1364/JOSAB.6.001159.\n\n.. codeauthor:: Oliver Melchert <melchert@iqo.uni-hannover.de>\n"
      ]
    },
    {
      "cell_type": "code",
      "execution_count": null,
      "metadata": {
        "collapsed": false
      },
      "outputs": [],
      "source": [
        "import fmas\nimport numpy as np\nfrom fmas.models import CustomModelPCF\nfrom fmas.config import FTFREQ, FT, IFT\nfrom fmas.solver import IFM_RK4IP\nfrom fmas.analytic_signal import AS\nfrom fmas.grid import Grid\nfrom fmas.tools import plot_evolution\n\n# -- DEFINE SIMULATION PARAMETERS\n# ... COMPUTATIONAL DOMAIN\nt_max = 3500.       # (fs)\nt_num = 2**14       # (-)\nz_max = 0.10*1e6    # (micron)\nz_num = 8000        # (-)\nz_skip = 10         # (-)\n# ... INITIAL CONDITION\nP0 = 1e4            # (W)\nt0 = 28.4           # (fs)\nw0 = 2.2559         # (rad/fs)\nE_0t_fun = lambda t: np.real(np.sqrt(P0)/np.cosh(t/t0)*np.exp(-1j*w0*t))\n\n# -- INITIALIZATION STAGE\n# ... COMPUTATIONAL DOMAIN\ngrid = Grid( t_max = t_max, t_num = t_num, z_max = z_max, z_num = z_num)\n# ... CUSTOM PROPAGATION MODEL\nmodel = CustomModelPCF(w=grid.w)"
      ]
    },
    {
      "cell_type": "markdown",
      "metadata": {},
      "source": [
        "To use a Raman response function different from the default, we simply import\nthe desired model from the module `raman_response`.  We here opt to use a\nLin-Agrawal type Raman response, which is implemented as function `h_LA`. The\nfunction can be used to simply overwrite the default response function as\nshown below. If a different value for the fractional Raman contribution is\nneeded, the corresponding class attribute can be overwritten as well:\n\n"
      ]
    },
    {
      "cell_type": "code",
      "execution_count": null,
      "metadata": {
        "collapsed": false
      },
      "outputs": [],
      "source": [
        "# -- Imports Lin-Agrawal type response function\nfrom fmas.raman_response import h_LA\n\nmodel.hRw = h_LA(grid.t) # overwrite default resonse function\nmodel.fR = 0.18          # overwrite default fractional Raman response if needed\n\n\n# ... PROPAGATION ALGORITHM \nsolver = IFM_RK4IP( model.Lw, model.Nw, user_action = model.claw)\nsolver.set_initial_condition( grid.w, AS(E_0t_fun(grid.t)).w_rep)\n\n# -- RUN SIMULATION\nsolver.propagate( z_range = z_max, n_steps = z_num, n_skip = z_skip)\n\n# -- SHOW RESULTS\nplot_evolution( solver.z, grid.t, solver.utz,\n    t_lim = (-500,2200), w_lim = (1.,4.), DO_T_LOG = False)"
      ]
    }
  ],
  "metadata": {
    "kernelspec": {
      "display_name": "Python 3",
      "language": "python",
      "name": "python3"
    },
    "language_info": {
      "codemirror_mode": {
        "name": "ipython",
        "version": 3
      },
      "file_extension": ".py",
      "mimetype": "text/x-python",
      "name": "python",
      "nbconvert_exporter": "python",
      "pygments_lexer": "ipython3",
      "version": "3.9.2"
    }
  },
  "nbformat": 4,
  "nbformat_minor": 0
}