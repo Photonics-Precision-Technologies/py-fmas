{
  "cells": [
    {
      "cell_type": "code",
      "execution_count": null,
      "metadata": {
        "collapsed": false
      },
      "outputs": [],
      "source": [
        "%matplotlib inline"
      ]
    },
    {
      "cell_type": "markdown",
      "metadata": {},
      "source": [
        "\n# Using the `PropConst` convenience class\n\nThis example demonstrates how the `PropConst` class, implemented in module\n`fmas.propagation_constant`, can be used to wrap and analyse a user supplied\npropagation constant.\n\nThe use of this class is optional. `py-fmas` can be used without this class.\nHowever, this class makes it convenient to display and analyze a given\npropagation constant. In order to use `PropConst`, the propagation constant\nneeds to be available as a callable function.\n\n.. codeauthor:: Oliver Melchert <melchert@iqo.uni-hannover.de>\n"
      ]
    },
    {
      "cell_type": "markdown",
      "metadata": {},
      "source": [
        "We first start by importing the functionality of numpy and fmas into the\ncurrent namespace. In particular, we also import the convenience class\n`PropConst`, defined in module `propagation_constant`.\n\n"
      ]
    },
    {
      "cell_type": "code",
      "execution_count": null,
      "metadata": {
        "collapsed": false
      },
      "outputs": [],
      "source": [
        "import numpy as np\nimport fmas\nfrom fmas.propagation_constant import PropConst\nfrom fmas.tools import plot_details_prop_const"
      ]
    },
    {
      "cell_type": "markdown",
      "metadata": {},
      "source": [
        "Below we will demonstrate how to use `PropConst` to wrap a user supplied\npropagation constant and analyze it. The methods defined by this convenience\nclass refer to common project-sepecific tasks that reoccur regularly in the\ndesing-stage of propagation scenarios.\n\nIn particular we will wrap and analyze the propagation constant of a\nNL-PM-750 nonlinear photonic crystal fiber (PCF), defined by the subsequent\nfunction.\n\n"
      ]
    },
    {
      "cell_type": "code",
      "execution_count": null,
      "metadata": {
        "collapsed": false
      },
      "outputs": [],
      "source": [
        "def define_beta_fun_NLPM750():\n    r\"\"\"Custom propagation constant for NL-PM-750 photonic crystal fiber.\n\n    Implements rational Pade-approximant of order [4/4] for the refractive\n    index of a NL-PM-750 nonlinear photonic crystal fiber (PCF), see Ref. [1].\n\n    References:\n        [1] NL-PM-750 Nonlinear Photonic Crystal Fiber, www.nktphotonics.com.\n\n    Returns:\n        :obj:`callable`: Propagation constant for NL-PM-750 PCF.\n    \"\"\"\n    p = np.poly1d((1.49902, -2.48088, 2.41969, 0.530198, -0.0346925)[::-1])\n    q = np.poly1d((1.00000, -1.56995, 1.59604, 0.381012, -0.0270357)[::-1])\n    n_idx = lambda w: p(w)/q(w)     # (-)\n    c0 = 0.29979                    # (micron/fs)\n    return lambda w: n_idx(w)*w/c0  # (1/micron)"
      ]
    },
    {
      "cell_type": "markdown",
      "metadata": {},
      "source": [
        "Let us note that above, we defined the refractive index profile as a rational\nfunction in terms of a Pade-approximant of order $[m=4/n=4]$.  Such an\napproximation has several benefits. For example, it gives a better\napproximation of the refractive index than truncating a Taylor expansion in\nthe variable $\\omega-\\omega_0$ for some reference frequency\n$\\omega_0$, avoids rapid divergence for large frequencies, and helps to\navoid unnecessary numerical stiffness.\n\nNext, we initialize the propagation constant as `beta_fun` and generate a\ncooresponding instance of the `PropConst` convenience class, wrapping the\nfunction `beta_fun`.\n\n"
      ]
    },
    {
      "cell_type": "code",
      "execution_count": null,
      "metadata": {
        "collapsed": false
      },
      "outputs": [],
      "source": [
        "beta_fun = define_beta_fun_NLPM750()\npc = PropConst(beta_fun)"
      ]
    },
    {
      "cell_type": "markdown",
      "metadata": {},
      "source": [
        "We then visually assess the group-velocity (GV) and group-velocity dispersion\n(GVD) of the propagation constant in the angular frequency range\n$\\omega \\in [1.2,3.2]~\\mathrm{rad/fs}$.  GV and GVD are implemented by\nthe class methods `vg`, and `beta2`, respectively.  To generate a quick plot\nof both, the GV and GVD, we use the function `plot_details_prop_const`, which\nis defined in module `tools`.\n\n"
      ]
    },
    {
      "cell_type": "code",
      "execution_count": null,
      "metadata": {
        "collapsed": false
      },
      "outputs": [],
      "source": [
        "w  = np.linspace(1.3, 3.2, 200)\nplot_details_prop_const(w, pc.vg(w), pc.beta2(w))"
      ]
    },
    {
      "cell_type": "markdown",
      "metadata": {},
      "source": [
        "## Finding zero-dispersion points\n\nA quick visual assessment of the GVD in the bottom subfigure allows to\nroughly locate the first zero-dispersion point within the angular frequency\ninterval $[1.4,1.7]~\\mathrm{rad/fs}$.  The second zero-dispersion point\nsurely falls into the interval $[2.2,2.5]~\\mathrm{rad/fs}$.  From these\nrough estimates we can determine the exact roots of $\\beta_2$ as shown\nbelow:\n\n"
      ]
    },
    {
      "cell_type": "code",
      "execution_count": null,
      "metadata": {
        "collapsed": false
      },
      "outputs": [],
      "source": [
        "w_Z1 = pc.find_root_beta2(1.4, 1.7)\nw_Z2 = pc.find_root_beta2(2.2, 2.5)\n\nprint('w_Z1 = ', w_Z1)\nprint('w_Z2 = ', w_Z2)"
      ]
    },
    {
      "cell_type": "markdown",
      "metadata": {},
      "source": [
        "## Finding group-velocity matched frequencies \n\nFor the desing of propagation scenarios that demonstrate, e.g., the\ninteraction of a soliton and a dispersive wave accross a zero-dispersion\npoint, it is useful to be able to compute a group-velocity matched partner\nfrequency for a give frequency. Using the `PropConst` convenience class this\ncan be done as shown below. Consider, e.g., a soliton with center frequency\n$\\omega_{\\rm{S}}=2.1~\\mathrm{rad/fs}$. Then, a group-velocity matched\nfrequency in the domain of normal dispersion (for $\\omega>2.386$),\nwhich surely is contained in the interval $\\omega\\in[2.4,3.0]$, can be\ncomputed as follows:\n\n"
      ]
    },
    {
      "cell_type": "code",
      "execution_count": null,
      "metadata": {
        "collapsed": false
      },
      "outputs": [],
      "source": [
        "w_S = 2.1\nw_GVM = pc.find_match_beta1(w_S, 2.4, 3.0)\n\nprint('w_GVM = ', w_GVM)"
      ]
    },
    {
      "cell_type": "markdown",
      "metadata": {},
      "source": [
        "We might then reassure us that both frequencies exhibit the same group-velocity\nlike so:\n\n"
      ]
    },
    {
      "cell_type": "code",
      "execution_count": null,
      "metadata": {
        "collapsed": false
      },
      "outputs": [],
      "source": [
        "print(np.abs(pc.vg(w_S)-pc.vg(w_GVM)) < 1e-6 )"
      ]
    },
    {
      "cell_type": "markdown",
      "metadata": {},
      "source": [
        "## Computing local expansion coefficients of $\\beta(\\omega)$ \n\nTaylor expansion coefficients of the proapgation constant at a specific\nfrequency can be computed as shown below.  Consider, e.g., the frequency\n$\\omega_{\\rm{S}}=2.1~\\mathrm{rad/fs}$, located in the domain of\nanomalous dispersion.  The local expansion coefficients of $\\beta$ up\nto order $n_{\\rm{max}}=6$ at that specific point are obtained by\n\n"
      ]
    },
    {
      "cell_type": "code",
      "execution_count": null,
      "metadata": {
        "collapsed": false
      },
      "outputs": [],
      "source": [
        "beta_coeffs = pc.compute_expansion_coefficients(w_S, n_max=5)\n\nfor idx, coeff in enumerate(beta_coeffs):\n    print(\"beta_{:d} = {:10.7f} fs^{:d}/micron\".format(idx, coeff, idx))"
      ]
    }
  ],
  "metadata": {
    "kernelspec": {
      "display_name": "Python 3",
      "language": "python",
      "name": "python3"
    },
    "language_info": {
      "codemirror_mode": {
        "name": "ipython",
        "version": 3
      },
      "file_extension": ".py",
      "mimetype": "text/x-python",
      "name": "python",
      "nbconvert_exporter": "python",
      "pygments_lexer": "ipython3",
      "version": "3.9.4"
    }
  },
  "nbformat": 4,
  "nbformat_minor": 0
}