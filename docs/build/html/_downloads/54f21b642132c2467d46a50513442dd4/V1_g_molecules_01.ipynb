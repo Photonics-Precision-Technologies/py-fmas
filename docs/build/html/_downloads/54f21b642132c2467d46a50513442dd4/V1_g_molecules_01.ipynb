{
  "cells": [
    {
      "cell_type": "code",
      "execution_count": null,
      "metadata": {
        "collapsed": false
      },
      "outputs": [],
      "source": [
        "%matplotlib inline"
      ]
    },
    {
      "cell_type": "markdown",
      "metadata": {},
      "source": [
        "\n# Generation of two-frequency soliton moleculs - 1\n\nThis examples demonstrates the generation of two-frequency soliton molecules,\nusing the forward model for the analytic signal [1,2], in `py-fmas` implemented\nas :class:`FMAS`.\n\nIn particular, this example shows how soliton molecules are generated from two\ninitially superimposed fundamental solitons at distinctly different\nfrequencies [3].\n\nReferences:\n\n    [1] Sh. Amiranashvili, A. Demircan, Hamiltonian structure of\n    propagation equations for ultrashort optical pulses, Phys. Rev. E 10\n    (2010) 013812, http://dx.doi.org/10.1103/PhysRevA.82.013812.\n\n    [2] Sh. Amiranashvili, A. Demircan, Ultrashort Optical Pulse Propagation in\n    terms of Analytic Signal, Adv. Opt. Tech. 2011 (2011) 989515,\n    http://dx.doi.org/10.1155/2011/989515.\n\n    [3] O. Melchert, S. Willms, S. Bose, A. Yulin, B. Roth, F. Mitschke, U.\n    Morgner, I. Babushkin, A. Demircan, Soliton Molecules with Two Frequencies,\n    Phys. Rev. Lett. 123 (2019) 243905,\n    https://doi.org/10.1103/PhysRevLett.123.243905.\n\n.. codeauthor:: Oliver Melchert <melchert@iqo.uni-hannover.de>\n"
      ]
    },
    {
      "cell_type": "code",
      "execution_count": null,
      "metadata": {
        "collapsed": false
      },
      "outputs": [],
      "source": [
        "import sys; sys.path.append('../../')\nimport fmas\nimport numpy as np\nfrom fmas.models import FMAS\nfrom fmas.config import FTFREQ, FT, IFT, C0\nfrom fmas.solver import IFM_RK4IP\nfrom fmas.analytic_signal import AS\nfrom fmas.grid import Grid\nfrom fmas.tools import plot_evolution\n\n\ndef beta_details():\n    # -- EXPANSION COEFFIENTS\n    coeffs = [-0.7/24., 0.0, 0.1/2, 13.0, 25.0]\n    # -- FREQUENCY FOR WHICH EXPANSION COEFFICIENTS ARE VALID\n    w_e = 2.      # (rad/fs)\n    # -- PROPAGATION CONSTANT (1/micron)\n    _beta = np.poly1d(coeffs); _beta_s = lambda w: _beta(w-w_e)\n    # -- GROUP-DELAY PROFILE (fs/micron)\n    _beta1 = np.polyder(_beta,m=1); _beta1_s = lambda w: _beta1(w-w_e)\n    # -- GROUP-VELOCITY DISPERSION PROFILE (fs^2/micron)\n    _beta2 = np.polyder(_beta,m=2); _beta2_s = lambda w: _beta2(w-w_e)\n    return _beta_s, _beta1_s, _beta2_s\n\n\ndef main():\n\n    t_max = 4000.       # (fs)\n    t_num = 2**14       # (-)\n    t = np.linspace(-t_max, t_max, t_num, endpoint=False)\n    w = FTFREQ(t.size,d=t[1]-t[0])*2*np.pi\n    # -- DEFINE SIMULATION PARAMETERS\n    chi = 1.0\n    beta, beta1, beta2 = beta_details()\n    gamma = lambda w: 3.*chi*w*w/C0/C0/beta(w)/8.0\n\n    w_ZDW1 = 1.46547752252\n    w_ZDW2 = 2.53452247748\n    w_GVM1 = 1.07417956702\n    w_GVM2 = 2.92582137713\n\n    w0 = w_GVM1\n    t0 = 20.\n    A0 = np.sqrt(np.abs(beta2(w0))/gamma(w0))/t0\n    At1 = np.real(A0/np.cosh(t/t0)*np.exp(1j*w0*t))\n\n    w0 = w_GVM2\n    t0 = 20.\n    A0 = np.sqrt(np.abs(beta2(w0))/gamma(w0))/t0\n    At2 = np.real(A0/np.cosh(t/t0)*np.exp(1j*w0*t))\n\n    #for i in range(w.size):\n    #    print( w[i], beta2(w[i])  )\n    #print (beta2(w_GVM1), beta1(w_GVM1))\n    #print (beta2(w_GVM2), beta1(w_GVM2))\n    #exit()\n\n    LD = t0*t0/abs(beta2(w_GVM1))\n\n    E_0t = At1 + At2\n\n    # ... COMPUTATIONAL DOMAIN\n    z_max = 15*LD    # (micron)\n    z_num = 15000        # (-)\n    z_skip = 50         # (-)\n    # ... INITIAL CONDITION\n\n    # -- INITIALIZATION STAGE\n    # ... COMPUTATIONAL DOMAIN\n    grid = Grid( t_max = t_max, t_num = t_num, z_max = z_max, z_num = z_num)\n    # ... CUSTOM PROPAGATION MODEL\n    model = FMAS(w=grid.w, beta_w = beta(w) , chi = chi )\n    # ... PROPAGATION ALGORITHM \n    solver = IFM_RK4IP( model.Lw, model.Nw, user_action = model.claw)\n    solver.set_initial_condition( grid.w, AS(E_0t).w_rep)\n\n    # -- RUN SIMULATION\n    solver.propagate( z_range = z_max, n_steps = z_num, n_skip = z_skip)\n\n    v0 = 1./beta1(w_GVM1)\n    utz = IFT(solver.uwz*np.exp(-1j*w*solver.z[:,np.newaxis]/v0), axis=-1)\n\n    # -- SHOW RESULTS\n    plot_evolution( solver.z, grid.t, utz,\n        t_lim = (-1000,1000), w_lim = (0.3,3.8))\n\n\nif __name__=='__main__':\n    main()"
      ]
    }
  ],
  "metadata": {
    "kernelspec": {
      "display_name": "Python 3",
      "language": "python",
      "name": "python3"
    },
    "language_info": {
      "codemirror_mode": {
        "name": "ipython",
        "version": 3
      },
      "file_extension": ".py",
      "mimetype": "text/x-python",
      "name": "python",
      "nbconvert_exporter": "python",
      "pygments_lexer": "ipython3",
      "version": "3.9.2"
    }
  },
  "nbformat": 4,
  "nbformat_minor": 0
}