{
  "cells": [
    {
      "cell_type": "code",
      "execution_count": null,
      "metadata": {
        "collapsed": false
      },
      "outputs": [],
      "source": [
        "%matplotlib inline"
      ]
    },
    {
      "cell_type": "markdown",
      "metadata": {},
      "source": [
        "\n# Two-frequency soliton molecules - 1\n\nThis examples demonstrates the generation of two-frequency soliton molecules,\nusing the forward model for the analytic signal [1,2], in `py-fmas` implemented\nas :class:`FMAS`.\n\nIn particular, this example shows how soliton molecules are generated from two\ninitially superimposed fundamental solitons at distinctly different frequencies\n[3]. The exmample reproduces the propagation scenario shown in Fig. S10 of the\nsupplementary material to [3].\n\nReferences:\n\n    [1] Sh. Amiranashvili, A. Demircan, Hamiltonian structure of\n    propagation equations for ultrashort optical pulses, Phys. Rev. E 10\n    (2010) 013812, http://dx.doi.org/10.1103/PhysRevA.82.013812.\n\n    [2] Sh. Amiranashvili, A. Demircan, Ultrashort Optical Pulse Propagation in\n    terms of Analytic Signal, Adv. Opt. Tech. 2011 (2011) 989515,\n    http://dx.doi.org/10.1155/2011/989515.\n\n    [3] O. Melchert, S. Willms, S. Bose, A. Yulin, B. Roth, F. Mitschke, U.\n    Morgner, I. Babushkin, A. Demircan, Soliton Molecules with Two Frequencies,\n    Phys. Rev. Lett. 123 (2019) 243905,\n    https://doi.org/10.1103/PhysRevLett.123.243905.\n\n.. codeauthor:: Oliver Melchert <melchert@iqo.uni-hannover.de>\n"
      ]
    },
    {
      "cell_type": "code",
      "execution_count": null,
      "metadata": {
        "collapsed": false
      },
      "outputs": [],
      "source": [
        "import sys; sys.path.append('../../')\nimport fmas\nimport numpy as np\nfrom fmas.models import FMAS\nfrom fmas.config import FTFREQ, FT, IFT, C0\nfrom fmas.solver import IFM_RK4IP\nfrom fmas.analytic_signal import AS\nfrom fmas.grid import Grid\nfrom fmas.tools import plot_evolution\n\n\ndef change_reference_frame(w, z, uwz, v0):\n    r\"\"\"Change reference frame.\n\n    Shift to moving frame of reference in which the dynamics is slow.\n\n    Args:\n        w (:obj:`numpy.ndarray`): Angular-frequency grid.\n        z (:obj:`numpy.ndarray`): :math:`z`-grid.\n        uwz (:obj:`numpy.ndarray`, 2-dim): Frequency domain representation of\n            analytic signal.\n        v0 (:obj:`float`): Reference velocity.\n    \"\"\"\n    return IFT(uwz*np.exp(-1j*w*z[:,np.newaxis]/v0), axis=-1)\n\ndef refractive_index():\n    r\"\"\"Custom refractive index.\n    \"\"\"\n    def coeffs2RatFunc(pCoeffs,qCoeffs):\n        p = np.poly1d(pCoeffs[::-1])\n        q = np.poly1d(qCoeffs[::-1])\n        return lambda x: p(x)/q(x)\n    pCoeffs = (9.653881, -39.738626, 16.8848987, -2.745456)\n    qCoeffs = (1.000000,  -9.496406,  4.2206250, -0.703437)\n    b2Roots = (1.51174072266, 2.511328125, 5.46130371094)\n    return coeffs2RatFunc(pCoeffs,qCoeffs)\n\n\ndef main():\n\n    t_max = 2000.           # (fs)\n    t_num = 2**14           # (-)\n    z_max =  0.06e6         # (micron)\n    z_num = 25000           # (-)\n    z_skip = 50             # (-)\n    chi = 1.0               # (micron^2/W)\n    n_idx = refractive_index()\n    beta_fun = lambda w: n_idx(w)*w/C0 + 1e-6\n    A_0t_fun = lambda t, A0, t0, w0: np.real(A0/np.cosh(t/t0)*np.exp(1j*w0*t))\n\n    # -- INITIALIZE DATA-STRUCTURES AND ALGORITHMS\n    grid = Grid( t_max = t_max, t_num = t_num, z_max = z_max, z_num = z_num)\n    model = FMAS(w=grid.w, beta_w = beta_fun(grid.w), chi = chi )\n    solver = IFM_RK4IP( model.Lw, model.Nw, user_action = model.claw)\n\n    # -- PREPARE INITIAL CONDITION AND RUN SIMULATION\n    w01, t01, A01 = 1.178, 30.0,  0.0248892 # (rad/fs), (fs), (sqrt(W))\n    w02, t02, A02 = 2.909, 30.0, 0.0136676  # (rad/fs), (fs), (sqrt(W))\n    E_0t = A_0t_fun(grid.t, A01, t01, w01) + A_0t_fun(grid.t, A02, t02, w02)\n    solver.set_initial_condition( grid.w, AS(E_0t).w_rep)\n    solver.propagate( z_range = z_max, n_steps = z_num, n_skip = z_skip)\n\n    # -- SHOW RESULTS IN MOVING FRAME OF REFERENCE\n    v0 = 0.0749641870819 # (micron/fs)\n    utz = change_reference_frame(solver.w, solver.z, solver.uwz, v0)\n    plot_evolution( solver.z, grid.t, utz,\n        t_lim = (-1000,1000), w_lim = (0.3,3.8))\n\n\nif __name__=='__main__':\n    main()"
      ]
    }
  ],
  "metadata": {
    "kernelspec": {
      "display_name": "Python 3",
      "language": "python",
      "name": "python3"
    },
    "language_info": {
      "codemirror_mode": {
        "name": "ipython",
        "version": 3
      },
      "file_extension": ".py",
      "mimetype": "text/x-python",
      "name": "python",
      "nbconvert_exporter": "python",
      "pygments_lexer": "ipython3",
      "version": "3.9.2"
    }
  },
  "nbformat": 4,
  "nbformat_minor": 0
}