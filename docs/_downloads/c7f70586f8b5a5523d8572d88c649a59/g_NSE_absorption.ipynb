{
  "cells": [
    {
      "cell_type": "code",
      "execution_count": null,
      "metadata": {
        "collapsed": false
      },
      "outputs": [],
      "source": [
        "%matplotlib inline"
      ]
    },
    {
      "cell_type": "markdown",
      "metadata": {},
      "source": [
        "\n# Nonlinear Schr\u00f6dinger equation with loss\n\nThis example demonstrates how to perform simulations for the nonlinear\nSchr\u00f6dinger equation including loss.\n\n.. codeauthor:: Oliver Melchert <melchert@iqo.uni-hannover.de>\n"
      ]
    },
    {
      "cell_type": "markdown",
      "metadata": {},
      "source": [
        "We first import the functionality needed to perform the sequence of numerical\nexperiments:\n\n"
      ]
    },
    {
      "cell_type": "code",
      "execution_count": null,
      "metadata": {
        "collapsed": false
      },
      "outputs": [],
      "source": [
        "import sys\nimport numpy as np\nfrom fmas.models import ModelBaseClass\nfrom fmas.config import FTFREQ, FT, IFT, C0\nfrom fmas.grid import Grid\nfrom fmas.solver import SySSM"
      ]
    },
    {
      "cell_type": "markdown",
      "metadata": {},
      "source": [
        "Next, we implement a model for the nonlinear Schr\u00f6dinger equation.  In\nparticular, we here consider the standard nonlinear Schr\u00f6dinger equation,\ngiven by\n\n\\begin{align}\\partial_z u = -\\frac{\\alpha}{2} u -i \\frac{\\beta_2}{2}\\partial_t^2 u + i\\gamma |u|^2 u,\\end{align}\n\nwherein $u = u(z, t)$ represents the slowly varying pulse envelope,\nwhere $alpha$ is the power attenuation constant accounting for fiber\nloss, $\\beta_2=-1$ is the second order dispersion parameter, and\n$\\gamma=1$ is the nonlinear parameter:\n\n"
      ]
    },
    {
      "cell_type": "code",
      "execution_count": null,
      "metadata": {
        "collapsed": false
      },
      "outputs": [],
      "source": [
        "class NSE(ModelBaseClass):\n    def __init__(self, w, beta, alpha, gamma):\n        super().__init__(w, beta_w=beta, alpha_w=alpha)\n        self.gamma = gamma\n\n    @property\n    def Lw(self):\n        return 1j * self.beta_w - self.alpha_w\n\n    def N(self, uw):\n        ut = IFT(uw)\n        return 1j * self.gamma * FT(np.abs(ut) ** 2 * ut)"
      ]
    },
    {
      "cell_type": "markdown",
      "metadata": {},
      "source": [
        "Next, we set up the computational domain, the model, an instance of a\nsymmetric split-step Fourier solver and prepare an initial condition given by\na fundamental soliton.\n\nTo construct the initial condition, we use the exact single-soliton solution\nof the nonlinar Schr\u00f6dinger equation, given by\n\n\\begin{align}u_{\\rm{exact}}(z,t) = \\sqrt{P_0} {\\rm{sech}}(t/t_0)\\,e^{-i\\gamma P_0 z/2},\\end{align}\n\nwith $P_0=|\\beta_2|/(\\gamma t_0^2)$. We here consider a fundamental\nsoliton of duration $t_0=1$ and use $u_{\\rm{exact}}(0,t)$ as\ninitial condition.  The propagation is performed up to\n$z_{\\rm{max}}=\\pi/2$, i.e.  for one soliton period.\n\n"
      ]
    },
    {
      "cell_type": "code",
      "execution_count": null,
      "metadata": {
        "collapsed": false
      },
      "outputs": [],
      "source": [
        "# -- SET MODEL PARAMETERS\nt_max = -50.0\nNt = 2 ** 12\n# ... PROPAGATION CONSTANT (POLYNOMIAL MODEL)\nb2 = -1.0\nbeta = lambda w: 0.5 * b2 * w * w\n# ... NONLINEAR PARAMETER\ngamma = 1.0\n# ... POWER ATTENUATION PARAMETER\nalpha = 1.0\n# ... SOLITON PARAMTERS\nt0 = 1.0  # duration\nP0 = np.abs(b2) / t0 / t0 / gamma  # peak-intensity\nLD = t0 * t0 / np.abs(b2)  # dispersion length\n# ... EXACT SOLUTION\nu_exact = lambda z, t: np.sqrt(P0) * np.exp(0.5j * gamma * P0 * z) / np.cosh(t / t0)"
      ]
    },
    {
      "cell_type": "markdown",
      "metadata": {},
      "source": [
        "We here measure the effect of fiber loss by monitoring the energy\n\n\\begin{align}E(z) = \\sum_w |u_\\omega(z)|^2\\end{align}\n\nwhich is expected to decay as\n\n\\begin{align}E(z) = E(0)\\,e^{-2 \\alpha z}\\end{align}\n\n\n"
      ]
    },
    {
      "cell_type": "code",
      "execution_count": null,
      "metadata": {
        "collapsed": false
      },
      "outputs": [],
      "source": [
        "def Ce(i, zi, w, uw):\n    return np.sum(np.abs(uw) ** 2)\n\n\n# -- INITIALIZATION STAGE\n# ... COMPUTATIONAL DOMAIN\ngrid = Grid(t_max=t_max, t_num=Nt)\nt, w = grid.t, grid.w\n\nmodel = NSE(w, beta(w), alpha, gamma)\n# ... PROPAGATION ALGORITHM\nsolver = SySSM(model.Lw, model.N, user_action=Ce)\n# ... INITIAL CONDITION\nsolver.set_initial_condition(w, FT(u_exact(0.0, t)))\n\n# -- RUN SOLVER\nsolver.propagate(z_range=0.5 * np.pi * LD, n_steps=512, n_skip=2)  # propagation range"
      ]
    },
    {
      "cell_type": "markdown",
      "metadata": {},
      "source": [
        "In the figure below, the top subfigure shows the time-domain propagation\ndynamics of a fundamental soliton for the nonlinear Schr\u00f6dinger equation in\nthe presence of fiber loss.\nThe subfigure at the bottom show the resulting decay of the energy in the\nnumerical experiment (solid line), along with the theoretical prediction\n(dashed line).\n\n"
      ]
    },
    {
      "cell_type": "code",
      "execution_count": null,
      "metadata": {
        "collapsed": false
      },
      "outputs": [],
      "source": [
        "import matplotlib as mpl\nimport matplotlib.pyplot as plt\nimport matplotlib.colors as col\n\nf, (ax1, ax2) = plt.subplots(2, 1, figsize=(5, 3))\nplt.subplots_adjust(left=0.15, right=0.8, bottom=0.15, top=0.96, hspace=0.2)\ncmap = mpl.cm.get_cmap(\"jet\")\n\n\ndef _setColorbar(im, refPos):\n    \"\"\"colorbar helper\"\"\"\n    x0, y0, w, h = refPos.x0, refPos.y0, refPos.width, refPos.height\n    cax = f.add_axes([x0 + 1.02 * w, y0, 0.025 * w, h])\n    cbar = f.colorbar(im, cax=cax, orientation=\"vertical\")\n    cbar.ax.tick_params(\n        color=\"k\",\n        labelcolor=\"k\",\n        bottom=False,\n        direction=\"out\",\n        labelbottom=False,\n        labeltop=True,\n        top=True,\n        size=4,\n        pad=0,\n    )\n    cbar.ax.tick_params(which=\"minor\", bottom=False, top=False)\n    return cbar\n\n\n# -- TOP SUB-FIGURE: TIME-DOMAIN PROPAGATION CHARACTERISTICS\nIt = np.abs(solver.utz) ** 2\nIt /= np.max(It)\n\nim1 = ax1.pcolorfast(\n    solver.z,\n    grid.t,\n    np.swapaxes(It[:-1, :-1], 0, 1),\n    norm=col.Normalize(vmin=0, vmax=1),\n    cmap=cmap,\n)\ncbar1 = _setColorbar(im1, ax1.get_position())\ncbar1.ax.set_ylabel(r\"$|u|^2/{\\rm{max}}\\left(|u|^2\\right)$\")\nax1.xaxis.set_ticks_position(\"bottom\")\nax1.yaxis.set_ticks_position(\"left\")\nax1.set_ylim(-5, 5)\nax1.set_xlim([0.0, solver.z.max()])\nax1.set_ylabel(r\"$t~\\mathrm{(fs)}$\")\nax1.ticklabel_format(useOffset=False, style=\"plain\")\nax1.tick_params(axis=\"x\", labelbottom=False, length=4)\n\n# -- BOTTOM SUB-FIGURE: ENERGY DECAY\nEz = lambda z: solver.ua_vals[0] * np.exp(-2*alpha * z)\nax2.plot(solver.z, solver.ua_vals / Ez(0), lw=1.5, label=\"simulation\")\nax2.plot(\n    solver.z, Ez(solver.z) / Ez(0), color=\"k\", lw=2.5, dashes=[2, 2], label=\"theory\"\n)\nax2.xaxis.set_ticks_position(\"bottom\")\nax2.yaxis.set_ticks_position(\"left\")\nax2.set_xlim([0.0, solver.z.max()])\nax2.ticklabel_format(useOffset=False, style=\"sci\")\nax2.set_xlabel(r\"Propagation distance $z~\\mathrm{(\\mu m)}$\")\nax2.set_ylabel(r\"$E(z)/E(0)$\")\nax2.legend()\n\nplt.show()"
      ]
    }
  ],
  "metadata": {
    "kernelspec": {
      "display_name": "Python 3",
      "language": "python",
      "name": "python3"
    },
    "language_info": {
      "codemirror_mode": {
        "name": "ipython",
        "version": 3
      },
      "file_extension": ".py",
      "mimetype": "text/x-python",
      "name": "python",
      "nbconvert_exporter": "python",
      "pygments_lexer": "ipython3",
      "version": "3.9.4"
    }
  },
  "nbformat": 4,
  "nbformat_minor": 0
}