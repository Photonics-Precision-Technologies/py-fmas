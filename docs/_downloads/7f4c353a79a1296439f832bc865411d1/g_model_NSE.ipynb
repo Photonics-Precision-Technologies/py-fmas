{
  "cells": [
    {
      "cell_type": "code",
      "execution_count": null,
      "metadata": {
        "collapsed": false
      },
      "outputs": [],
      "source": [
        "%matplotlib inline"
      ]
    },
    {
      "cell_type": "markdown",
      "metadata": {},
      "source": [
        "\n# Nonlinear Schr\u00f6dinger equation -- Third-order soliton\n\nThis example solves the standard nonlinear Schr\u00f6dinger equation, given by\n\n\\begin{align}\\partial_z u = -i \\frac{\\beta_2}{2}\\partial_t^2 u + i\\gamma |u|^2 u,\\end{align}\n\nwherein $u = u(z, t)$ represents the slowly varying pulse envelope,\n$\\beta_2=-1$ is the second order dispersion parameter, and\n$\\gamma=1$ is the nonlinear parameter.  As initial condition, a\nhigher-order soliton\n\n\\begin{align}u_0(t) = N_{\\rm{sol}} \\sqrt{\\frac{|\\beta_2|}{\\gamma \\, t_0^2}} {\\rm{sech}}(t/t_0),\\end{align}\n\nof duration $t_0=1$, and soliton order $N_{\\rm{sol}}=3$ is\nconsidered. The propagation is performed up to $z_{\\rm{max}}=\\pi/2$, i.e.\nfor one soliton period.\n\n.. codeauthor:: Oliver Melchert <melchert@iqo.uni-hannover.de>\n"
      ]
    },
    {
      "cell_type": "code",
      "execution_count": null,
      "metadata": {
        "collapsed": false
      },
      "outputs": [],
      "source": [
        "import fmas\nimport numpy as np\nfrom fmas.models import ModelBaseClass\nfrom fmas.config import FTFREQ, FT, IFT, C0\nfrom fmas.solver import SySSM\nfrom fmas.grid import Grid\nfrom fmas.tools import plot_evolution\n\n\nclass NSE(ModelBaseClass):\n    def __init__(self, w, b2 = -1.0, gamma = 1.0):\n        super().__init__(w, 0.5*b2*w*w)\n        self.gamma = gamma\n\n    @property\n    def Lw(self):\n        return 1j*self.beta_w\n\n    def Nw(self, uw):\n        ut = IFT(uw)\n        return 1j*self.gamma*FT(np.abs(ut)**2*ut)\n\n    def claw(self, i, zi, w, uw):\n        return np.sum(np.abs(uw)**2)\n\n\ndef main():\n    # -- DEFINE SIMULATION PARAMETERS\n    # ... WAVEGUIDE PROPERTIES\n    b2 = -1.0\n    gamma = 1.\n    # ... TEST PULSE PROPERTIES\n    t0 = 1.                       # soliton duration\n    P0 = np.abs(b2)/t0/t0/gamma   # peak-intensity\n    LD = t0*t0/np.abs(b2)         # dispersion length\n    N_sol = 3                     # soliton order\n    # ... COMPUTATIONAL DOMAIN \n    t_max = 30.\n    t_num = 2**12\n    z_max  = 0.5*np.pi*LD\n    z_num  = 1000\n    z_skip = 2\n\n    # -- INITIALIZATION STAGE\n    # ... COMPUTATIONAL DOMAIN\n    grid = Grid( t_max = t_max, t_num = t_num, z_max = z_max, z_num = z_num)\n    # ... NSE MODEL \n    model = NSE(grid.w, b2, gamma)\n    # ... Z-PROPAGATION USING SYMMETRIC SPLIT-STEP FOURIER METHOD \n    solver = SySSM(model.Lw, model.Nw)\n    # ... INITIAL CONDITION\n    u_0t = N_sol*np.sqrt(P0)/np.cosh(grid.t/t0)\n    solver.set_initial_condition(grid.w, FT(u_0t))\n\n    # -- RUN SIMULATION\n    solver.propagate(z_range = z_max, n_steps = z_num, n_skip = z_skip)\n\n    plot_evolution( solver.z, grid.t, solver.utz,\n        t_lim = (-4,4), w_lim = (-50,50), DO_T_LOG=False)\n\n\nif __name__=='__main__':\n    main()"
      ]
    }
  ],
  "metadata": {
    "kernelspec": {
      "display_name": "Python 3",
      "language": "python",
      "name": "python3"
    },
    "language_info": {
      "codemirror_mode": {
        "name": "ipython",
        "version": 3
      },
      "file_extension": ".py",
      "mimetype": "text/x-python",
      "name": "python",
      "nbconvert_exporter": "python",
      "pygments_lexer": "ipython3",
      "version": "3.9.4"
    }
  },
  "nbformat": 4,
  "nbformat_minor": 0
}