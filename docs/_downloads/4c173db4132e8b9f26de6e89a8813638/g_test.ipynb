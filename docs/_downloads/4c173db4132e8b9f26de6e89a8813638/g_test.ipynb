{
  "cells": [
    {
      "cell_type": "code",
      "execution_count": null,
      "metadata": {
        "collapsed": false
      },
      "outputs": [],
      "source": [
        "%matplotlib inline"
      ]
    },
    {
      "cell_type": "markdown",
      "metadata": {},
      "source": [
        "\n# Attenuation of a NLPM750 fiber\n\nThis example demonstrates how to use models along with a realistic attenuation\nprofile.\n\n.. codeauthor:: Oliver Melchert <melchert@iqo.uni-hannover.de>\n"
      ]
    },
    {
      "cell_type": "code",
      "execution_count": null,
      "metadata": {
        "collapsed": false
      },
      "outputs": [],
      "source": [
        "import fmas\nimport numpy as np\nfrom fmas.grid import Grid\nfrom fmas.models import FMAS_S\nfrom fmas.solver import IFM_RK4IP, SySSM\nfrom ng_fiber_details_nlpm750 import define_alpha_fun_NLPM750\n\n\n# -- INITIALIZATION STAGE\n# ... DEFINE SIMULATION PARAMETERS\nt_max = 1000.       # (fs)\nt_num = 2**13       # (-)\nz_max = 1.0e5       # (micron)\nz_num = 1000       # (-)\nz_skip = 10         # (-)\n# ... PROPAGGATION CONSTANT\nalpha_fun = define_alpha_fun_NLPM750()\n# ... COMPUTATIONAL DOMAIN, MODEL, AND SOLVER \ngrid = Grid( t_max = t_max, t_num = t_num, z_max = z_max, z_num = z_num)\nmodel = FMAS_S( w = grid.w, beta_w = 0., alpha_w = alpha_fun(grid.w), n2 = 0.0)\nsolver = SySSM( model.Lw, model.Nw)\n\n# -- SET UP INITIAL CONDITION\nu_0w = np.where(np.logical_and( grid.w>1, grid.w<6. ), 1, 0)\nsolver.set_initial_condition( grid.w, u_0w)\n\n# -- PERFORM Z-PROPAGATION\nsolver.propagate( z_range = z_max, n_steps = z_num, n_skip = z_skip)\n\n\nimport matplotlib as mpl\nimport matplotlib.pyplot as plt\nimport matplotlib.colors as col\n\nf, ax = plt.subplots(1, 1, figsize=(5, 3))\nplt.subplots_adjust(left=0.15, right=0.96, bottom=0.15, top=0.96, hspace=0.2)\n\n_dB = lambda x: np.where(x>1e-20,10.*np.log10(x),10*np.log10(1e-20))\nw_mask = np.logical_and(grid.w>1,grid.w<5.)\nI0 = np.abs(solver.uwz[0,w_mask])**2\nIz = np.abs(solver.uwz[-1,w_mask])**2\nlam =2*np.pi*0.3/grid.w[w_mask]\nloss = -_dB(Iz/I0)*1e9/z_max # (dB/km) attenuation \nax.plot(lam, loss)\n\nax.xaxis.set_ticks_position(\"bottom\")\nax.yaxis.set_ticks_position(\"left\")\nax.set_xlim([0.4, 1.6])\nax.set_ylim([0,200])\nax.ticklabel_format(useOffset=False, style=\"sci\")\nax.set_xlabel(r\"Wavelength $\\mathrm{(\\mu m)}$\")\nax.set_ylabel(r\"Loss $\\mathrm{(dB/km)}$\")\n\nplt.show()"
      ]
    }
  ],
  "metadata": {
    "kernelspec": {
      "display_name": "Python 3",
      "language": "python",
      "name": "python3"
    },
    "language_info": {
      "codemirror_mode": {
        "name": "ipython",
        "version": 3
      },
      "file_extension": ".py",
      "mimetype": "text/x-python",
      "name": "python",
      "nbconvert_exporter": "python",
      "pygments_lexer": "ipython3",
      "version": "3.9.4"
    }
  },
  "nbformat": 4,
  "nbformat_minor": 0
}