{
  "cells": [
    {
      "cell_type": "code",
      "execution_count": null,
      "metadata": {
        "collapsed": false
      },
      "outputs": [],
      "source": [
        "%matplotlib inline"
      ]
    },
    {
      "cell_type": "markdown",
      "metadata": {},
      "source": [
        "\n# Using a specific Raman response function\n\nThis examples shows how the different Raman response functions, implemented in\nmodeule `raman_response`, can be used with the class :class:`CustomModelPCF`\n(derived from the more generic class :class:`FMAS_S_R`), implemented in module\n`models`.\n\nA side-by-side comparison of the frequency-domain representation of the\ndifferent Raman response models is detailed under\n\n`sphx_glr_auto_tutorials_specific_g_list_raman_models.py`\n\nIn particular, this example shows how the implemented Raman response models\naffect the dynamical evolution of the exemplary use case:\n\n`sphx_glr_auto_examples_gallery_01_g_specialized_model_PCF.py`\n\n.. codeauthor:: Oliver Melchert <melchert@iqo.uni-hannover.de>\n"
      ]
    },
    {
      "cell_type": "markdown",
      "metadata": {},
      "source": [
        "We first import the functionality needed to define the problem specific data\nstructures such as the model, we will use the `CustomModelPCF` defined module\n`models`, the computational grid, and the $z$-propagation algorithm.\nThe various Raman response models, which we demonstrate here, will be\nimported later where they are needed in the workflow. \n\n"
      ]
    },
    {
      "cell_type": "code",
      "execution_count": null,
      "metadata": {
        "collapsed": false
      },
      "outputs": [],
      "source": [
        "import fmas\nimport numpy as np\nfrom fmas.models import CustomModelPCF\nfrom fmas.grid import Grid\nfrom fmas.analytic_signal import AS\nfrom fmas.solver import IFM_RK4IP\nfrom fmas.tools import plot_evolution\nfrom fmas.config import FTSHIFT"
      ]
    },
    {
      "cell_type": "markdown",
      "metadata": {},
      "source": [
        "Since we will perform a sequence of numerical simulations, we first define \nand initialize all data structures and variables common to the different \nsimulation runs:\n\n"
      ]
    },
    {
      "cell_type": "code",
      "execution_count": null,
      "metadata": {
        "collapsed": false
      },
      "outputs": [],
      "source": [
        "# -- COMPUTATIONAL DOMAIN\nt_max = 3500.       # (fs)\nt_num = 2**14       # (-)\nz_max = 0.10*1e6    # (micron)\nz_num = 8000        # (-)\nz_skip = 10         # (-)\n\n# -- INITIAL CONDITION\nP0 = 1e4            # (W)\nt0 = 28.4           # (fs)\nw0 = 2.2559         # (rad/fs)\nE_0t_fun = lambda t: np.real(np.sqrt(P0)/np.cosh(t/t0)*np.exp(-1j*w0*t))\n\n# -- COMPUTATIONAL DOMAIN\ngrid = Grid( t_max = t_max, t_num = t_num, z_max = z_max, z_num = z_num)\n# -- PROPAGATION MODEL\nmodel = CustomModelPCF(w=grid.w)\n# -- ANALYTIC SIGNAL INITIAL CONDITION\nic = AS(E_0t_fun(grid.t))"
      ]
    },
    {
      "cell_type": "markdown",
      "metadata": {},
      "source": [
        "We first perfom a simulation run using the default Raman response model\nimplemented with `CustomModelPCF`. This is also implemented in terms of the\nBlow-Wood type response  model `h_BW` in module `raman_response`. From the\nsimulation results we will only keep the final $z$-slice.\n\n"
      ]
    },
    {
      "cell_type": "code",
      "execution_count": null,
      "metadata": {
        "collapsed": false
      },
      "outputs": [],
      "source": [
        "# -- INITIALIZE MODEL\nsolver = IFM_RK4IP( model.Lw, model.Nw, user_action = model.claw)\n# -- SET INITIAL CONDITION\nsolver.set_initial_condition( grid.w, AS(E_0t_fun(grid.t)).w_rep)\n# -- z-PROPAGATION\nsolver.propagate( z_range = z_max, n_steps = z_num, n_skip = z_skip)\n\n# -- KEEP ONLY LAST z-SLICE\nut_BW, uw_BW = solver.utz[-1], solver.uwz[-1]"
      ]
    },
    {
      "cell_type": "markdown",
      "metadata": {},
      "source": [
        "To use a Raman response function different from the default requires two\nsteps: first, the desired Raman response model needs to be imported from\nmodule `raman_response` (or it has to be defined by the user in any other\nway); second, the default response function of the model has to be\noverwritten. \nBelow we show this for two Raman response functions that differ from the\ndefault response model of `CustomModelPCF`.\n\nFirst, we consider the  Lin-Agrawal type Raman response, which is implemented\nas function `h_LA` in module `raman_response`.  If a different value for the\nfractional Raman contribution is needed, the corresponding class attribute\ncan be overwritten as well:\n\n"
      ]
    },
    {
      "cell_type": "code",
      "execution_count": null,
      "metadata": {
        "collapsed": false
      },
      "outputs": [],
      "source": [
        "from fmas.raman_response import h_LA\n\nmodel.hRw = h_LA(grid.t) # overwrite default resonse function\nmodel.fR = 0.18          # overwrite default fractional Raman response if needed\n\nsolver = IFM_RK4IP( model.Lw, model.Nw, user_action = model.claw)\nsolver.set_initial_condition( grid.w, AS(E_0t_fun(grid.t)).w_rep)\nsolver.propagate( z_range = z_max, n_steps = z_num, n_skip = z_skip)\nut_LA, uw_LA = solver.utz[-1], solver.uwz[-1]"
      ]
    },
    {
      "cell_type": "markdown",
      "metadata": {},
      "source": [
        "Next, we perform a simulation using the Hollenbeck-Cantrell type Raman\nresponse, which is implemented as function `h_HC` in module `raman_response`:\n\n"
      ]
    },
    {
      "cell_type": "code",
      "execution_count": null,
      "metadata": {
        "collapsed": false
      },
      "outputs": [],
      "source": [
        "from fmas.raman_response import h_HC\n\nmodel.hRw = h_HC(grid.t)\n\n# -- PERFORM SIMULATION \nsolver = IFM_RK4IP( model.Lw, model.Nw, user_action = model.claw)\nsolver.set_initial_condition( grid.w, AS(E_0t_fun(grid.t)).w_rep)\nsolver.propagate( z_range = z_max, n_steps = z_num, n_skip = z_skip)\nut_HC, uw_HC = solver.utz[-1], solver.uwz[-1]"
      ]
    },
    {
      "cell_type": "markdown",
      "metadata": {},
      "source": [
        "The subsequent plot compares the effect of three Raman response models\nside-by-side:\n\n"
      ]
    },
    {
      "cell_type": "code",
      "execution_count": null,
      "metadata": {
        "collapsed": false
      },
      "outputs": [],
      "source": [
        "import matplotlib as mpl\nimport matplotlib.pyplot as plt\nimport matplotlib.colors as col\n\n# -- INITIAL PEAK INTENSITIES (FOR NORMALIZATION)\nIt0 = np.max(np.abs(ic.t_rep)**2)\nIw0 = np.max(np.abs(ic.w_rep)**2)\n\nf, (ax1, ax2) = plt.subplots(2, 1, figsize=(8,6))\nplt.subplots_adjust(left=0.1, right=0.96, bottom=0.08, top=0.96, wspace=0.3, hspace=0.3)\n\nax1.plot(grid.t, np.abs(ut_BW)**2/It0, color='k', label=r'BW')\nax1.plot(grid.t, np.abs(ut_LA)**2/It0, color='blue', dashes=[3,2], label=r'LA')\nax1.plot(grid.t, np.abs(ut_HC)**2/It0, color='green', dashes=[1,1], label=r'HC')\nax1.set_yscale('linear')\nax1.set_xlim(-300,2300)\nax1.set_ylim(0.,0.6)\nax1.set_xlabel('Time $t~(\\mathrm{fs})$')\nax1.set_ylabel('$|u(z,t)|^2/\\max(|u(0,t)|^2)$')\nax1.legend()\n\nax2.plot(grid.w, np.abs(uw_BW)**2/Iw0, color='k', label=r'BW')\nax2.plot(grid.w, np.abs(uw_LA)**2/Iw0, color='blue', dashes=[3,2], label=r'LA')\nax2.plot(grid.w, np.abs(uw_HC)**2/Iw0, color='green', dashes=[1,1], label=r'HC')\nax2.set_xlim(1.25,4.0)\nax2.set_xlabel('Angular frequency $\\omega~(\\mathrm{rad/fs})$')\nax2.set_ylim(1e-8,2)\nax2.set_yscale('log')\nax2.set_ylabel('$|u_\\omega(z)|^2/\\max(|u_\\omega(0)|^2)$')\nax2.legend()\n\nplt.show()"
      ]
    }
  ],
  "metadata": {
    "kernelspec": {
      "display_name": "Python 3",
      "language": "python",
      "name": "python3"
    },
    "language_info": {
      "codemirror_mode": {
        "name": "ipython",
        "version": 3
      },
      "file_extension": ".py",
      "mimetype": "text/x-python",
      "name": "python",
      "nbconvert_exporter": "python",
      "pygments_lexer": "ipython3",
      "version": "3.9.4"
    }
  },
  "nbformat": 4,
  "nbformat_minor": 0
}