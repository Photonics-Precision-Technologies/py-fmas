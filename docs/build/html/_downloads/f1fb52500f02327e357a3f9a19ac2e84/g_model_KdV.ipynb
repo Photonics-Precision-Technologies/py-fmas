{
  "cells": [
    {
      "cell_type": "code",
      "execution_count": null,
      "metadata": {
        "collapsed": false
      },
      "outputs": [],
      "source": [
        "%matplotlib inline"
      ]
    },
    {
      "cell_type": "markdown",
      "metadata": {},
      "source": [
        "\n# Interaction of solitons in the Korteweg-deVries equation\n\nThis example solves the Korteweg-deVries (KdV) equation, given by\n\n\\begin{align}\\partial_t u = - \\delta^2 \\partial_x^3 u  -u \\partial_x u,\\end{align}\n\nwherein the evolution of the real-valued field $u = u(t, x)$ is\ndetermined by the parameter $\\delta=0.022$.\n\nThe propagation scenario below considers the initial condition\n\n\\begin{align}u_0(x) = \\cos(\\pi x), \\quad 0\\leq x \\leq 2,\\end{align}\n\nand uses a pseudospectral integrating factor method, i.e. the \"Runge-Kutta in\nthe interaction picture\" method implemented in the `py-fmas` libragy, to\nreproduce the data shown in Fig. 2 of Ref. [1].\n\nReferences:\n    [1] N. J. Zabusky, M. D. Kruskal, Interaction of \"Solitons\" in a\n    Collisionless Plasma and the Recurrence of Initial States, Phys. Rev. Lett.\n    15 (1965) 240, https://doi.org/10.1103/PhysRevLett.15.240.\n\n.. codeauthor:: Oliver Melchert <melchert@iqo.uni-hannover.de>\n"
      ]
    },
    {
      "cell_type": "code",
      "execution_count": null,
      "metadata": {
        "collapsed": false
      },
      "outputs": [],
      "source": [
        "import sys; sys.path.append('../')\nimport fmas\nimport numpy as np\nimport matplotlib as mpl\nimport matplotlib.pyplot as plt\nimport matplotlib.colors as col\nfrom fmas.models import ModelBaseClass\nfrom fmas.config import FTFREQ, FT, IFT, C0\nfrom fmas.solver import IFM_RK4IP\n\n\ndef plot_evolution(t, x, u):\n\n    def _setColorbar(im, refPos):\n        \"\"\"colorbar helper\"\"\"\n        x0, y0, w, h = refPos.x0, refPos.y0, refPos.width, refPos.height\n        cax = f.add_axes([x0, y0+1.02*h, w, 0.03*h])\n        cbar = f.colorbar(im, cax=cax, orientation='horizontal')\n        cbar.ax.tick_params(color='k',\n                            labelcolor='k',\n                            bottom=False,\n                            direction='out',\n                            labelbottom=False,\n                            labeltop=True,\n                            top=True,\n                            size=4,\n                            pad=0\n                            )\n\n        cbar.set_ticks((-1,-0.5,0,0.5,1))\n        cbar.ax.tick_params(which=\"minor\", bottom=False, top=False )\n        return cbar\n\n    f, ax1 = plt.subplots(1, 1, sharey=True, figsize=(4,4))\n    plt.subplots_adjust(left=0.11, right=0.95, bottom=0.12, top=0.8, wspace=0.05)\n    cmap=mpl.cm.get_cmap('coolwarm')\n\n    im1 = ax1.pcolorfast(x, t, u[:-1,:-1],\n                         norm=col.Normalize(vmin=-1,vmax=1),\n                         cmap=cmap\n                         )\n    cbar1 = _setColorbar(im1,ax1.get_position())\n    cbar1.ax.set_title(r\"$u(x,t)$\",color='k',y=3.5)\n    ax1.xaxis.set_ticks_position('bottom')\n    ax1.yaxis.set_ticks_position('left')\n    ax1.set_xlim(x[0],x[-1])\n    ax1.set_xticks((0,0.5,1.,1.5,2))\n    ax1.set_ylim([0.,t.max()])\n    ax1.set_xlabel(r\"Distance $x$\")\n    ax1.set_ylabel(r\"Time $t$\")\n\n    plt.show()\n\n\ndef main():\n    # -- DEFINE SIMULATION PARAMETERS\n    x_min = 0.\n    x_max = 2.\n    Nx = 512\n    t_min = 0.\n    t_max = 6.0\n    Nt = 30000\n    n_skip = 10\n    delta = 0.022\n\n    # -- INITIALIZATION STAGE\n    # ... COMPUTATIONAL DOMAIN\n    x = np.linspace(x_min, x_max, Nx, endpoint=False)\n    k = FTFREQ(x.size,d=x[1]-x[0])*2*np.pi\n\n    Lk = -1j*k*k*k*delta*delta\n    Nk_fun = lambda uk: 0.5j*k*FT(IFT(uk)**2)\n\n    # ... NSE MODEL \n    # ... Z-PROPAGATION USING SYMMETRIC SPLIT-STEP FOURIER METHOD \n    solver = IFM_RK4IP(Lk, Nk_fun)\n    # ... INITIAL CONDITION\n    u_0x = np.cos(np.pi*x)\n    solver.set_initial_condition(k, FT(u_0x))\n\n    # -- RUN SIMULATION\n    solver.propagate(z_range = t_max, n_steps = Nt, n_skip = n_skip)\n\n    plot_evolution( solver.z, x, np.real(solver.utz))\n\n\nif __name__=='__main__':\n    main()"
      ]
    }
  ],
  "metadata": {
    "kernelspec": {
      "display_name": "Python 3",
      "language": "python",
      "name": "python3"
    },
    "language_info": {
      "codemirror_mode": {
        "name": "ipython",
        "version": 3
      },
      "file_extension": ".py",
      "mimetype": "text/x-python",
      "name": "python",
      "nbconvert_exporter": "python",
      "pygments_lexer": "ipython3",
      "version": "3.9.2"
    }
  },
  "nbformat": 4,
  "nbformat_minor": 0
}