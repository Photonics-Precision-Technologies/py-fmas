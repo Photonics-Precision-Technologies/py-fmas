{
  "cells": [
    {
      "cell_type": "code",
      "execution_count": null,
      "metadata": {
        "collapsed": false
      },
      "outputs": [],
      "source": [
        "%matplotlib inline"
      ]
    },
    {
      "cell_type": "markdown",
      "metadata": {},
      "source": [
        "\n# Pulse interaction in a NL-PM-750 photonic crystal fiber\n\nThis examples demonstrates the interaction between a fundamental soliton and a\ndispersive wave in a NL-PM-750 photonic crystal fiber. For the numerical\nsimualtion the forward model for the analytic signal including the Raman effect\nis used [3].\n\nIn particular, this example reproduces the propagation scenario for\n$t_0=250\\,\\mathrm{fs}$, shown in Fig.~2(b) of Ref. [2].\n\nReferences:\n    [1] A. Demircan, Sh. Amiranashvili, C. Bree, C. Mahnke, F. Mitschke, G.\n    Steinmeyer, Rogue wave formation by accelerated solitons at an optical\n    event horizon, Appl. Phys. B 115 (2014) 343,\n    http://dx.doi.org/10.1007/s00340-013-5609-9\n\n    [2] O. Melchert, C. Bree, A. Tajalli, A. Pape, R. Arkhipov, S. Willms, I.\n    Babushkin, D. Skryabin, G. Steinmeyer, U. Morgner, A. Demircan, All-optical\n    supercontinuum switching, Communications Physics 3 (2020) 146,\n    https://doi.org/10.1038/s42005-020-00414-1.\n\n.. codeauthor:: Oliver Melchert <melchert@iqo.uni-hannover.de>\n"
      ]
    },
    {
      "cell_type": "code",
      "execution_count": null,
      "metadata": {
        "collapsed": false
      },
      "outputs": [],
      "source": [
        "import sys; sys.path.append('../../')\nimport fmas\nimport numpy as np\nfrom fmas.grid import Grid\nfrom fmas.models import FMAS_S\nfrom fmas.solver import IFM_RK4IP\nfrom fmas.analytic_signal import AS\nfrom fmas.tools import change_reference_frame, plot_evolution\nfrom fmas.propagation_constant import PropConst\n\ndef define_beta_fun_ESM():\n    r\"\"\"Custom refractive index.\n    \"\"\"\n    def coeffs2RatFunc(pCoeffs,qCoeffs):\n        p = np.poly1d(pCoeffs[::-1])\n        q = np.poly1d(qCoeffs[::-1])\n        return lambda x: p(x)/q(x)\n    pCoeffs = (16.89475, 0., -319.13216, 0., 34.82210, 0., -0.992495, 0., 0.0010671)\n    qCoeffs = ( 1.00000, 0., -702.70157, 0., 78.28249, 0., -2.337086, 0., 0.0062267)\n    c0 = 0.29979            # (micron/fs)\n    b2Roots = (1.7408203125)\n    n_idx = coeffs2RatFunc(pCoeffs,qCoeffs)\n    return lambda w: n_idx(w)*w/c0 + 1e-6\n\n\ndef main():\n\n    # -- DEFINE SIMULATION PARAMETERS\n    # ... COMPUTATIONAL DOMAIN\n    t_max = 4000.       # (fs)\n    t_num = 2**14       # (-)\n    z_max = 4.0e6       # (micron)\n    z_num = 50000       # (-)\n    z_skip =100         # (-)\n    n2 = 3.0e-8         # (micron^2/W)\n    c0 = 0.29979\n\n    beta_fun = define_beta_fun_ESM()\n    pc = PropConst(beta_fun)\n\n    # -- INITIALIZATION STAGE\n    grid = Grid( t_max = t_max, t_num = t_num, z_max = z_max, z_num = z_num)\n    model = FMAS_S(w=grid.w, beta_w=pc.beta(grid.w), n2=n2)\n    solver = IFM_RK4IP( model.Lw, model.Nw, user_action = model.claw)\n\n    # -- SET UP INITIAL CONDITION\n    t = grid.t\n    # ... FUNDAMENTAL NSE SOLITON\n    w0_S, t0_S = 1.5, 20.   # (rad/fs), (fs)\n    A0 = np.sqrt(abs(pc.beta2(w0_S))*c0/w0_S/n2)/t0_S\n    A0_S = A0/np.cosh(t/t0_S)*np.exp(1j*w0_S*t)\n    # ... 1ST DISPERSIVE WAVE; UNITS (rad/fs), (fs), (fs), (-)\n    w0_DW1, t0_DW1, t_off1, s1 = 2.06, 60., -600., 0.35\n    A0_DW1 = s1*A0/np.cosh((t-t_off1)/t0_DW1)*np.exp(1j*w0_DW1*t)\n    # ... 2ND DISPERSIVE WAVE; UNITS (rad/fs), (fs), (fs), (-)\n    w0_DW2, t0_DW2, t_off2, s2 = 2.05, 60., -1200., 0.35\n    A0_DW2 = s2*A0/np.cosh((t-t_off2)/t0_DW2)*np.exp(1j*w0_DW2*t)\n    # ... 3RD DISPERSIVE WAVE; UNITS (rad/fs), (fs), (fs), (-)\n    w0_DW3, t0_DW3, t_off3, s3 = 2.04, 60., -1800., 0.35\n    A0_DW3 = s3*A0/np.cosh((t-t_off3)/t0_DW3)*np.exp(1j*w0_DW3*t)\n    # ... ANALYTIC SIGNAL OF FULL ININITIAL CONDITION\n    Eps_0w = AS(np.real(A0_S + A0_DW1 + A0_DW2 + A0_DW3)).w_rep\n\n    solver.set_initial_condition( grid.w, Eps_0w)\n    solver.propagate( z_range = z_max, n_steps = z_num, n_skip = z_skip)\n\n    # -- SHOW RESULTS\n    v0 = pc.vg(w0_S)\n    utz = change_reference_frame(solver.w, solver.z, solver.uwz, v0)\n    plot_evolution( solver.z, grid.t, utz,\n        t_lim = (-4000,1000), w_lim = (1.1,2.4), DO_T_LOG = False)\n        #t_lim = (-3000,800), w_lim = (1.2,2.3), DO_T_LOG = True)\n\n\nif __name__=='__main__':\n    main()"
      ]
    }
  ],
  "metadata": {
    "kernelspec": {
      "display_name": "Python 3",
      "language": "python",
      "name": "python3"
    },
    "language_info": {
      "codemirror_mode": {
        "name": "ipython",
        "version": 3
      },
      "file_extension": ".py",
      "mimetype": "text/x-python",
      "name": "python",
      "nbconvert_exporter": "python",
      "pygments_lexer": "ipython3",
      "version": "3.9.2"
    }
  },
  "nbformat": 4,
  "nbformat_minor": 0
}