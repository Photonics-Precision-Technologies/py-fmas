{
  "cells": [
    {
      "cell_type": "code",
      "execution_count": null,
      "metadata": {
        "collapsed": false
      },
      "outputs": [],
      "source": [
        "%matplotlib inline"
      ]
    },
    {
      "cell_type": "markdown",
      "metadata": {},
      "source": [
        "\n# Stepsize adaption in the LEM method\n\nThis example demonstrates the ability of the local error method (LEM) [S2003]_\nto locally decrease the stepsize when higher accuracy is needed. As test case,\nthe interaction dynamics of two colliding fundamental soliton governed by the\nstandard nonlinear Schr\u00f6dinger equation is considered.\n\n.. codeauthor:: Oliver Melchert <melchert@iqo.uni-hannover.de>\n"
      ]
    },
    {
      "cell_type": "markdown",
      "metadata": {},
      "source": [
        "We first import the functionality needed to perform the sequence of numerical\nexperiments: \n\n"
      ]
    },
    {
      "cell_type": "code",
      "execution_count": null,
      "metadata": {
        "collapsed": false
      },
      "outputs": [],
      "source": [
        "import sys\nimport numpy as np\nfrom fmas.models import ModelBaseClass\nfrom fmas.config import FTFREQ, FT, IFT, C0\nfrom fmas.grid import Grid\nfrom fmas.solver import LEM\nfrom fmas.data_io import save_h5\nfrom fmas.tools import plot_evolution"
      ]
    },
    {
      "cell_type": "markdown",
      "metadata": {},
      "source": [
        "Next, we implement a model for the nonlinear Schr\u00f6dinger equation.  In\nparticular, we here consider the standard nonlinear Schr\u00f6dinger equation,\ngiven by\n\n\\begin{align}\\partial_z u = -i \\frac{\\beta_2}{2}\\partial_t^2 u + i\\gamma |u|^2 u,\\end{align}\n\nwherein $u = u(z, t)$ represents the slowly varying pulse envelope,\n$\\beta_2=-1$ is the second order dispersion parameter, and\n$\\gamma=1$ is the nonlinear parameter:\n\n"
      ]
    },
    {
      "cell_type": "code",
      "execution_count": null,
      "metadata": {
        "collapsed": false
      },
      "outputs": [],
      "source": [
        "class NSE(ModelBaseClass):\n\n    def __init__(self, w, beta, gamma):\n        super().__init__(w, beta_w=beta)\n        self.gamma = gamma\n\n    @property\n    def Lw(self):\n        return 1j*self.beta_w\n\n    def N(self, uw):\n        ut = IFT(uw)\n        return 1j*self.gamma*FT(np.abs(ut)**2*ut)"
      ]
    },
    {
      "cell_type": "markdown",
      "metadata": {},
      "source": [
        "Next, we set up the computational domain, the model, and the LEM solver and\nprepare an initial condition with two fundamental solitons. The velocity of\nthe solitons is adjusted so that they collide after approximately half a\nsoliton period.\n\nTo construct the initial condition, we use the exact single-soliton solution\nof the nonlinar Schr\u00f6dinger equation, given by\n\n\\begin{align}u_{\\rm{exact}}(z,t) = \\sqrt{P_0} {\\rm{sech}}(t/t_0)\\,e^{-i\\gamma P_0 z/2},\\end{align}\n\nwith $P_0=|\\beta_2|/(\\gamma t_0^2)$. We here consider two fundamental\nsolitons of duration $t_0=1$ and frequency detunings\n$\\omega_0=25$ to construct the initial condition\n\n.. math:\n   u_0(t) = u{\\rm{exact}}(0, t+t_{\\rm{off}})\\,e^{i \\omega_0 t}+\n            u{\\rm{exact}}(0, t-t_{\\rm{off}})\\,e^{- i \\omega_0 t}.\n\nThe propagation is performed up to $z_{\\rm{max}}=\\pi/2$, i.e.  for one\nsoliton period.\n\n"
      ]
    },
    {
      "cell_type": "code",
      "execution_count": null,
      "metadata": {
        "collapsed": false
      },
      "outputs": [],
      "source": [
        "# -- SET MODEL PARAMETERS\nt_max = -50.\nNt = 2**12\n# ... PROPAGATION CONSTANT (POLYNOMIAL MODEL)\nbeta = np.poly1d([-0.5, 0.0, 0.0])\nbeta1 = np.polyder(beta, m=1)\nbeta2 = np.polyder(beta, m=2)\n# ... NONLINEAR PARAMETER \ngamma = 1.\n# ... SOLITON PARAMTERS\nt0 = 1.                             # duration\nt_off = 20.                         # temporal offset\nw0 = 25.                            # detuning\nP0 = np.abs(beta2(0))/t0/t0/gamma   # peak-intensity\nLD = t0*t0/np.abs(beta2(0))         # dispersion length\n# ... EXACT SOLUTION\nu_exact = lambda z, t: np.sqrt(P0)*np.exp(0.5j*gamma*P0*z)/np.cosh(t/t0)\n\n\n# -- INITIALIZATION STAGE\n# ... COMPUTATIONAL DOMAIN\ngrid = Grid(t_max=t_max, t_num=Nt)\nt, w = grid.t, grid.w\n# ... NONLINEAR SCHROEDINGER EQUATION \nmodel = NSE(w, beta(w), gamma)\n# ... PROPAGATION ALGORITHM\nsolver = LEM(model.Lw, model.N, del_G = 1e-7)\n# ... INITIAL CONDITION\nu0_t  = u_exact(0.0, t+t_off)*np.exp(1j*w0*t)\nu0_t += u_exact(0.0, t-t_off)*np.exp(-1j*w0*t)\nsolver.set_initial_condition(w, FT(u0_t))\n\n# -- RUN SOLVER \nsolver.propagate(\n    z_range = 0.5*np.pi*LD,     # propagation range\n    n_steps = 512,\n    n_skip = 2\n)"
      ]
    },
    {
      "cell_type": "markdown",
      "metadata": {},
      "source": [
        "The figure below shows the propagation dynamics of the above initial\ncondition: \n\n"
      ]
    },
    {
      "cell_type": "code",
      "execution_count": null,
      "metadata": {
        "collapsed": false
      },
      "outputs": [],
      "source": [
        "plot_evolution( solver.z, grid.t, solver.utz, t_lim = (-30,30), w_lim = (-50.,50.))"
      ]
    },
    {
      "cell_type": "markdown",
      "metadata": {},
      "source": [
        "Below we prepare a figure showing the variation of the local relative error\nupon propagation (top figure), and the  decrease of the local stepsize in the\nvicinity of the soliton-soliton collision (bottom subfigure).\nIn the top figure, the shaded region indicates the local goal error range.\nAim of the LEM method is to keep the conservation quantity error within that\nrange. \n\n"
      ]
    },
    {
      "cell_type": "code",
      "execution_count": null,
      "metadata": {
        "collapsed": false
      },
      "outputs": [],
      "source": [
        "# sphinx_gallery_thumbnail_number = 2\n\nimport matplotlib as mpl\nimport matplotlib.pyplot as plt\nimport matplotlib.colors as col\n\nf, (ax1,ax2) = plt.subplots(2, 1, figsize=(8,6))\n\nax1.plot(range(len(solver._del_rle)), solver._del_rle)\nax1.axhspan(0.5e-7,1e-7,color='lightgray')\nax1.set_ylabel(r\"$\\delta_{\\rm{RLE}}$\")\n\nax2.plot(range(len(solver._dz_a)), solver._dz_a)\nax2.set_ylabel(r\"$h~{(\\mathrm{\\mu m})}$\")\nax2.set_xlabel(r\"$z$-slice number $n$\")\n\nplt.show()"
      ]
    },
    {
      "cell_type": "markdown",
      "metadata": {},
      "source": [
        "**References:**\n\n.. [S2003] O. V. Sinkin, R. Holzl\u00f6hner, J. Zweck, C. R. Menyuk, Optimization\n      of the split-step Fourier method in modeling optical-fiber communications\n      systems, IEEE J. Lightwave Tech. 21 (2003) 61,\n      https://doi.org/10.1109/JLT.2003.808628.\n\n"
      ]
    }
  ],
  "metadata": {
    "kernelspec": {
      "display_name": "Python 3",
      "language": "python",
      "name": "python3"
    },
    "language_info": {
      "codemirror_mode": {
        "name": "ipython",
        "version": 3
      },
      "file_extension": ".py",
      "mimetype": "text/x-python",
      "name": "python",
      "nbconvert_exporter": "python",
      "pygments_lexer": "ipython3",
      "version": "3.9.4"
    }
  },
  "nbformat": 4,
  "nbformat_minor": 0
}