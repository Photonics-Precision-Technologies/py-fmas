{
  "cells": [
    {
      "cell_type": "code",
      "execution_count": null,
      "metadata": {
        "collapsed": false
      },
      "outputs": [],
      "source": [
        "%matplotlib inline"
      ]
    },
    {
      "cell_type": "markdown",
      "metadata": {},
      "source": [
        "\n# Numerical instabilities of the Nonlinear Schr\u00f6dinger Equation\n\nThis example demonstrates numerical instabilities that build up during\nsimulations of the standard nonlinear Schr\u00f6dinger equation when the\n$z$-increment used for propagtion is too small.\n\nHere, the simple split-step Fourier method is used and the instabilities\ndevelop from round-off errors during the propagation of a fundamental soliton.\n\nThe numerical instabilities of the nonlinear Schr\u00f6dinger equation developing on\ntop of  plain wave solutions where first studied in Ref. [WH1986]_.\nAn in-depth study of instabilities of the split-step Fourier method for the\nsimulation of the nonlinear Schr\u00f6dinger equation, developing on a background\ngiven by a soliton, is provided by Ref. [L2012]_.\n\n.. codeauthor:: Oliver Melchert <melchert@iqo.uni-hannover.de>\n"
      ]
    },
    {
      "cell_type": "markdown",
      "metadata": {},
      "source": [
        "We first import the functionality needed to perform the sequence of numerical\nexperiments: \n\n"
      ]
    },
    {
      "cell_type": "code",
      "execution_count": null,
      "metadata": {
        "collapsed": false
      },
      "outputs": [],
      "source": [
        "import sys\nimport numpy as np\nimport numpy.fft as nfft\nfrom fmas.models import ModelBaseClass\nfrom fmas.config import FTFREQ, FT, IFT, C0\nfrom fmas.solver import SiSSM, SySSM, IFM_RK4IP, LEM_SySSM, CQE\nfrom fmas.grid import Grid"
      ]
    },
    {
      "cell_type": "markdown",
      "metadata": {},
      "source": [
        "Next, we implement a model for the nonlinear Schr\u00f6dinger equation.  In\nparticular, we here consider the standard nonlinear Schr\u00f6dinger equation,\ngiven by\n\n\\begin{align}\\partial_z u = -i \\frac{\\beta_2}{2}\\partial_t^2 u + i\\gamma |u|^2 u,\\end{align}\n\nwherein $u = u(z, t)$ represents the slowly varying pulse envelope,\n$\\beta_2=-1$ is the second order dispersion parameter, and\n$\\gamma=1$ is the nonlinear parameter:\n\n"
      ]
    },
    {
      "cell_type": "code",
      "execution_count": null,
      "metadata": {
        "collapsed": false
      },
      "outputs": [],
      "source": [
        "class NSE(ModelBaseClass):\n\n    def __init__(self, w, b2 = -1.0, gamma = 1.):\n        super().__init__(w, 0.5*b2*w*w)\n        self.gamma = gamma\n\n    @property\n    def Lw(self):\n        return 1j*self.beta_w\n\n    def Nw(self, uw):\n        ut = IFT(uw)\n        return 1j*self.gamma*FT(np.abs(ut)**2*ut)"
      ]
    },
    {
      "cell_type": "markdown",
      "metadata": {},
      "source": [
        "Next, we initialize the computational domain and use a simple split-step \nFourier method to propagate a single fundamental soliton for ten soliton \nperiods.\n\n"
      ]
    },
    {
      "cell_type": "code",
      "execution_count": null,
      "metadata": {
        "collapsed": false
      },
      "outputs": [],
      "source": [
        "# -- INITIALIZATION STAGE\n# ... COMPUTATIONAL DOMAIN\ngrid = Grid( t_max = 30., t_num = 2**10)\nt, w = grid.t, grid.w\n# ... NSE MODEL \nmodel = NSE(w, b2=-1., gamma=1.)\n# ... INITIAL CONDITION\nu_0t = 1./np.cosh(t)"
      ]
    },
    {
      "cell_type": "markdown",
      "metadata": {},
      "source": [
        "In a first numerical experiment, the stepsize is intentionally kept very\nlarge in order to allow the numerical istabilities to build up.\n\n"
      ]
    },
    {
      "cell_type": "code",
      "execution_count": null,
      "metadata": {
        "collapsed": false
      },
      "outputs": [],
      "source": [
        "solver = SySSM(model.Lw, model.Nw)\nsolver.set_initial_condition(w, FT(u_0t))\nsolver.propagate(z_range = 10*np.pi, n_steps = 511, n_skip = 1)\nz, utz = solver.z_, solver.utz"
      ]
    },
    {
      "cell_type": "markdown",
      "metadata": {},
      "source": [
        "In this case, instabilities are expected to build up since the\n$z$-increment $\\Delta z$, used by the propagation algorithm,\nexceeds the threshold increment $\\Delta\nz_{\\mathrm{T}}=2\\pi/\\mathrm{max}(\\omega)$ (both increments are displayed\nbelow).\n\n"
      ]
    },
    {
      "cell_type": "code",
      "execution_count": null,
      "metadata": {
        "collapsed": false
      },
      "outputs": [],
      "source": [
        "# -- MAXIMUM FREQUENCY SUPPORTED ON COMPUTATIONAL GRID\nw_max = np.pi/(t[1]-t[0])\n# -- THRESHOLD INCREMENT\ndz_T = np.pi*2/w_max**2\n\nprint(\"Increment dz =\", z[1]-z[0])\nprint(\"Threshold increment dz_T =\", dz_T)"
      ]
    },
    {
      "cell_type": "markdown",
      "metadata": {},
      "source": [
        "In a second numerical experiment, the stepsize is set small enough to shift\nthe resonance outside the computational domain. \n\n"
      ]
    },
    {
      "cell_type": "code",
      "execution_count": null,
      "metadata": {
        "collapsed": false
      },
      "outputs": [],
      "source": [
        "solver = SySSM(model.Lw, model.Nw)\nsolver.set_initial_condition(w, FT(u_0t))\nsolver.propagate(z_range = 10*np.pi, n_steps = 15000, n_skip = 1)\nz2, utz2 = solver.z_, solver.utz\n\nprint(\"Increment dz =\", z2[1]-z2[0])\nprint(\"Threshold increment dz_T =\", dz_T)"
      ]
    },
    {
      "cell_type": "markdown",
      "metadata": {},
      "source": [
        "Next, we prepare a figure that shows the results of the above to experiments.\nThe left subfigure shows the results of the first simulation run in which the \nnumerical instabilities and their predicted locations are shown. \nThe right subfigure shows the results of second simulation run in which the\n$z$-increment was small enough to shift the instabilities outside the\ncomputational domain.\n\n"
      ]
    },
    {
      "cell_type": "code",
      "execution_count": null,
      "metadata": {
        "collapsed": false
      },
      "outputs": [],
      "source": [
        "import matplotlib as mpl\nimport matplotlib.pyplot as plt\nimport matplotlib.colors as col\n\nf, (ax,ax2) = plt.subplots(1, 2, figsize=(8,4))\n\n# -- EXAMPLE WITH INSTABILITIES\n\ndz = z[1]-z[0]\nw_I = lambda n: np.sqrt(n*2*np.pi*2./dz)\n\nshift=nfft.fftshift\nIw_ini = np.abs(FT(utz[0]))**2\nIw_fin = np.abs(FT(utz[-1]))**2\nax.plot(shift(w), shift(Iw_ini)/np.max(Iw_ini), color='gray', dashes=[2,2], lw=1., label='$z=0$')\nax.plot(shift(w), shift(Iw_fin)/np.max(Iw_ini), color='k', lw=1., label='$z=10\\pi$')\n\nfor n in range(1,20,1):\n    ax.axvline(w_I(n), lw=0.75)\n    ax.axvline(-w_I(n), lw=0.75)\n\ndw_lim = (-35,35)\ndw_ticks = (-30, -15, 0, 15, 30)\nax.tick_params(axis='x', length=2., pad=2, top=False)\nax.set_xlim(dw_lim)\nax.set_xticks(dw_ticks)\nax.set_xlabel(r\"Detuning $\\omega$\")\n\ny_lim = (1e-35,10)\ny_ticks = (1e-30,1e-20,1e-10,1)\nax.tick_params(axis='y', length=2., pad=2, top=False)\nax.set_yscale('log')\nax.set_ylim(y_lim)\nax.set_yticks(y_ticks)\nax.set_ylabel(r\"Spectral intensity $I_\\omega(z)/\\mathrm{max}(I_\\omega(z=0)}$\")\nax.set_title(r\"Numerical instabilities build up\")\n\nax.legend()\n\n# -- EXAMPLE WITHOUT INSTABILITIES\n\nIw_ini = np.abs(FT(utz2[0]))**2\nIw_fin = np.abs(FT(utz2[-1]))**2\nax2.plot(shift(w), shift(Iw_ini)/np.max(Iw_ini), color='gray', dashes=[2,2], lw=1., label='$z=0$')\nax2.plot(shift(w), shift(Iw_fin)/np.max(Iw_ini), color='k', lw=1., label='$z=10\\pi$')\n\nax2.tick_params(axis='x', length=2., pad=2, top=False)\nax2.set_xlim(dw_lim)\nax2.set_xticks(dw_ticks)\nax2.set_xlabel(r\"Detuning $\\omega$\")\n\nax2.tick_params(axis='y', length=2., pad=2, top=False)\nax2.set_yscale('log')\nax2.set_ylim(y_lim)\nax2.set_yticks(y_ticks)\nax2.set_title(r\"No numerical instabilities\")\n\nax2.legend()\n\nplt.show()"
      ]
    },
    {
      "cell_type": "markdown",
      "metadata": {},
      "source": [
        "**References:**\n\n.. [WH1986] J.A.C. Weideman, B.M. Herbst, Split-step methods for the solution\n            of the nonlinear Schr\u00f6dinger equation, SIAM J. Numer. Anal., 23\n            (1986) 485, http://www.jstor.org/stable/2157521.\n\n.. [L2012] T.I. Lakoba, Instability Analysis of the Split-Step Fourier Method\n           on the Background of a Soliton of the Nonlinear Schr\u00f6dinger\n           Equation, Numerical Methods for Partial Differential Equations 28\n           (2012) 641, https://doi.org/10.1002/num.20649\n\n\n"
      ]
    }
  ],
  "metadata": {
    "kernelspec": {
      "display_name": "Python 3",
      "language": "python",
      "name": "python3"
    },
    "language_info": {
      "codemirror_mode": {
        "name": "ipython",
        "version": 3
      },
      "file_extension": ".py",
      "mimetype": "text/x-python",
      "name": "python",
      "nbconvert_exporter": "python",
      "pygments_lexer": "ipython3",
      "version": "3.9.4"
    }
  },
  "nbformat": 4,
  "nbformat_minor": 0
}