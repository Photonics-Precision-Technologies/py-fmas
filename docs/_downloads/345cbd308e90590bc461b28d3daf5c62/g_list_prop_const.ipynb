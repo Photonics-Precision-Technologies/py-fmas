{
  "cells": [
    {
      "cell_type": "code",
      "execution_count": null,
      "metadata": {
        "collapsed": false
      },
      "outputs": [],
      "source": [
        "%matplotlib inline"
      ]
    },
    {
      "cell_type": "markdown",
      "metadata": {},
      "source": [
        "\n# Implemented propagation constants\n\nThis example shows the group-velocity and group-velocity dispersion profiles of\nseveral propagation constants implemnted in module `propagation_constant`.\n\n.. codeauthor:: Oliver Melchert <melchert@iqo.uni-hannover.de>\n"
      ]
    },
    {
      "cell_type": "markdown",
      "metadata": {},
      "source": [
        "We first start by importing the functionality of numpy and fmas into the\ncurrent namespace.  Specifically, we import the module `propagation_constant`\nthat contains the convenience class `PropConst` as well as the implemented\npropagation constant. A function that allows to plot the group-velocity  and\ngroup-velocity dispersion profiles is imported from module `tools`.\n\n"
      ]
    },
    {
      "cell_type": "code",
      "execution_count": null,
      "metadata": {
        "collapsed": false
      },
      "outputs": [],
      "source": [
        "import numpy as np\nimport fmas\nimport fmas.propagation_constant as prop_const\nfrom fmas.tools import plot_details_prop_const"
      ]
    },
    {
      "cell_type": "markdown",
      "metadata": {},
      "source": [
        "Below we show a list of the basic properties of several propatgation\nconstants implemented in `fmas`.\n\n## NLPM750\n\n"
      ]
    },
    {
      "cell_type": "code",
      "execution_count": null,
      "metadata": {
        "collapsed": false
      },
      "outputs": [],
      "source": [
        "pc = prop_const.PropConst(prop_const.define_beta_fun_NLPM750())\nw  = np.linspace(1.3, 3.2, 200)\nplot_details_prop_const(w, pc.vg(w), pc.beta2(w))"
      ]
    },
    {
      "cell_type": "markdown",
      "metadata": {},
      "source": [
        "with zero-dispersion points\n\n"
      ]
    },
    {
      "cell_type": "code",
      "execution_count": null,
      "metadata": {
        "collapsed": false
      },
      "outputs": [],
      "source": [
        "w_Z1 = pc.find_root_beta2(1.4, 1.7)\nw_Z2 = pc.find_root_beta2(2.2, 2.5)\n\nprint('w_Z1 = ', w_Z1)\nprint('w_Z2 = ', w_Z2)"
      ]
    },
    {
      "cell_type": "markdown",
      "metadata": {},
      "source": [
        "## ESM \n\n"
      ]
    },
    {
      "cell_type": "code",
      "execution_count": null,
      "metadata": {
        "collapsed": false
      },
      "outputs": [],
      "source": [
        "pc = prop_const.PropConst(prop_const.define_beta_fun_ESM())\nw  = np.linspace(1., 3.5, 200)\nplot_details_prop_const(w, pc.vg(w), pc.beta2(w))\n\n# sphinx_gallery_thumbnail_number = 2"
      ]
    },
    {
      "cell_type": "markdown",
      "metadata": {},
      "source": [
        "with zero-dispersion point\n\n"
      ]
    },
    {
      "cell_type": "code",
      "execution_count": null,
      "metadata": {
        "collapsed": false
      },
      "outputs": [],
      "source": [
        "w_Z1 = pc.find_root_beta2(1.5, 2.0)\n\nprint('w_Z1 = ', w_Z1)"
      ]
    },
    {
      "cell_type": "markdown",
      "metadata": {},
      "source": [
        "## ZBLAN\n\n"
      ]
    },
    {
      "cell_type": "code",
      "execution_count": null,
      "metadata": {
        "collapsed": false
      },
      "outputs": [],
      "source": [
        "pc = prop_const.PropConst(prop_const.define_beta_fun_ZBLAN())\nw  = np.linspace(0.5, 5., 200)\nplot_details_prop_const(w, pc.vg(w), pc.beta2(w))"
      ]
    },
    {
      "cell_type": "markdown",
      "metadata": {},
      "source": [
        "with zero-dispersion point\n\n"
      ]
    },
    {
      "cell_type": "code",
      "execution_count": null,
      "metadata": {
        "collapsed": false
      },
      "outputs": [],
      "source": [
        "w_Z1 = pc.find_root_beta2(1., 1.3)\n\nprint('w_Z1 = ', w_Z1)"
      ]
    },
    {
      "cell_type": "markdown",
      "metadata": {},
      "source": [
        "## Silicon slot waveguide \n\n"
      ]
    },
    {
      "cell_type": "code",
      "execution_count": null,
      "metadata": {
        "collapsed": false
      },
      "outputs": [],
      "source": [
        "pc = prop_const.PropConst(prop_const.define_beta_fun_slot_waveguide_Zhang2012())\nw  = np.linspace(0.86, 1.37, 200)\nplot_details_prop_const(w, pc.vg(w), pc.beta2(w))"
      ]
    },
    {
      "cell_type": "markdown",
      "metadata": {},
      "source": [
        "with four zero-dispersion points\n\n"
      ]
    },
    {
      "cell_type": "code",
      "execution_count": null,
      "metadata": {
        "collapsed": false
      },
      "outputs": [],
      "source": [
        "w_Z1 = pc.find_root_beta2(0.9, 0.95)\nw_Z2 = pc.find_root_beta2(0.95, 1.05)\nw_Z3 = pc.find_root_beta2(1.1, 1.2)\nw_Z4 = pc.find_root_beta2(1.25, 1.3)\n\nprint('w_Z1 = ', w_Z1)\nprint('w_Z2 = ', w_Z2)\nprint('w_Z3 = ', w_Z3)\nprint('w_Z4 = ', w_Z4)"
      ]
    }
  ],
  "metadata": {
    "kernelspec": {
      "display_name": "Python 3",
      "language": "python",
      "name": "python3"
    },
    "language_info": {
      "codemirror_mode": {
        "name": "ipython",
        "version": 3
      },
      "file_extension": ".py",
      "mimetype": "text/x-python",
      "name": "python",
      "nbconvert_exporter": "python",
      "pygments_lexer": "ipython3",
      "version": "3.9.2"
    }
  },
  "nbformat": 4,
  "nbformat_minor": 0
}