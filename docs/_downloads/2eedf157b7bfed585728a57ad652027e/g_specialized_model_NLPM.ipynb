{
  "cells": [
    {
      "cell_type": "code",
      "execution_count": null,
      "metadata": {
        "collapsed": false
      },
      "outputs": [],
      "source": [
        "%matplotlib inline"
      ]
    },
    {
      "cell_type": "markdown",
      "metadata": {},
      "source": [
        "\n# Two pulse interaction in a NLPM750 PCF\n\nThis examples demonstrates the interaction between a fundamental soliton and a\ndispersive wave in a NL-PM-750 photonic crystal fiber. For the numerical\nsimualtion the forward model for the analytic signal including the Raman effect\nis used [3].\n\nIn particular, this example reproduces the propagation scenario for\n$t_0=250\\,\\mathrm{fs}$, shown in Fig.~2(b) of Ref. [2].  Note that here\nwe use a polynomial expansion of the propagation constant, obtained for the\nreference frequency $\\omega_{\\rm{ref}}=1.85\\,\\mathrm{rad/fs}$.\nFor a more detailed discussion, see Ref. [2].\n\nReferences:\n    [1] A. Demircan, Sh. Amiranashvili, C. Bree, C. Mahnke, F. Mitschke, G.\n    Steinmeyer, Rogue wave formation by accelerated solitons at an optical\n    event horizon, Appl. Phys. B 115 (2014) 343,\n    http://dx.doi.org/10.1007/s00340-013-5609-9\n\n    [2] O. Melchert, C. Bree, A. Tajalli, A. Pape, R. Arkhipov, S. Willms, I.\n    Babushkin, D. Skryabin, G. Steinmeyer, U. Morgner, A. Demircan, All-optical\n    supercontinuum switching, Communications Physics 3 (2020) 146,\n    https://doi.org/10.1038/s42005-020-00414-1.\n\n.. codeauthor:: Oliver Melchert <melchert@iqo.uni-hannover.de>\n"
      ]
    },
    {
      "cell_type": "code",
      "execution_count": null,
      "metadata": {
        "collapsed": false
      },
      "outputs": [],
      "source": [
        "import fmas\nimport numpy as np\nfrom fmas.grid import Grid\nfrom fmas.models import FMAS_S_R\nfrom fmas.solver import IFM_RK4IP\nfrom fmas.analytic_signal import AS\nfrom fmas.propagation_constant import PropConst\nfrom fmas.tools import change_reference_frame, plot_evolution\n\n\ndef define_beta_fun_poly_NLPM750():\n    # -- EXPANSION COEFFIENTS\n    coeffs =[-7.47658629e-08, 2.07925891e-06, -2.50978046e-05, 1.70783580e-04,\n        -7.06498505e-04 ,  1.74251689e-03 , -2.05510570e-03, -1.02991785e-03,\n        7.44467252e-03,  -1.15714412e-02,   1.06894885e-02, -1.03866947e-02,\n        1.11828958e-02,   8.28155802e-04 , -1.51886109e-02 , 4.97000000e+00,\n        8.90000000e+00]\n    # -- FREQUENCY FOR WHICH EXPANSION COEFFICIENTS ARE VALID\n    w_ref = 1.85      # (rad/fs)\n    # -- PROPAGATION CONSTANT FOR DETUNING (1/micron)\n    _beta = np.poly1d(coeffs);\n    return lambda w: _beta(w-w_ref)\n\n\ndef main():\n\n    # -- DEFINE SIMULATION PARAMETERS\n    # ... COMPUTATIONAL DOMAIN\n    t_max = 2000.       # (fs)\n    t_num = 2**13       # (-)\n    z_max = 1.0e6       # (micron)\n    z_num = 10000       # (-)\n    z_skip = 10         # (-)\n    n2 = 3.0e-8         # (micron^2/W)\n    c0 = 0.29979        # (fs/micron)\n    lam0 = 0.860        # (micron)\n    w0_S = 2*np.pi*c0/lam0 # (rad/fs)\n    t0_S = 20.0         # (fs)\n    w0_DW = 2.95        # (rad/fs)\n    t0_DW = 70.0        # (fs)\n    t_off = -250.0      # (fs) \n    sFac = 0.75         # (-)\n\n    beta_fun = define_beta_fun_poly_NLPM750()\n    pc = PropConst(beta_fun)\n\n    # -- INITIALIZATION STAGE\n    grid = Grid( t_max = t_max, t_num = t_num, z_max = z_max, z_num = z_num)\n    model = FMAS_S_R(w=grid.w, beta_w=pc.beta(grid.w), n2 = n2)\n    solver = IFM_RK4IP( model.Lw, model.Nw, user_action = model.claw)\n\n    # -- SET UP INITIAL CONDITION\n    t = grid.t\n    A0 = np.sqrt(abs(pc.beta2(w0_S))*c0/w0_S/n2)/t0_S\n    A0_S = A0/np.cosh(t/t0_S)*np.exp(1j*w0_S*t)\n    A0_DW = sFac*A0/np.cosh((t-t_off)/t0_DW)*np.exp(1j*w0_DW*t)\n    Eps_0w = AS(np.real(A0_S + A0_DW)).w_rep\n    solver.set_initial_condition( grid.w, Eps_0w)\n    solver.propagate( z_range = z_max, n_steps = z_num, n_skip = z_skip)\n\n    # -- SHOW RESULTS\n    utz = change_reference_frame(solver.w, solver.z, solver.uwz, pc.vg(w0_S))\n    plot_evolution( solver.z, grid.t, utz, t_lim=(-1200,1200), w_lim=(1.8,3.2))\n\n\nif __name__=='__main__':\n    main()"
      ]
    }
  ],
  "metadata": {
    "kernelspec": {
      "display_name": "Python 3",
      "language": "python",
      "name": "python3"
    },
    "language_info": {
      "codemirror_mode": {
        "name": "ipython",
        "version": 3
      },
      "file_extension": ".py",
      "mimetype": "text/x-python",
      "name": "python",
      "nbconvert_exporter": "python",
      "pygments_lexer": "ipython3",
      "version": "3.9.4"
    }
  },
  "nbformat": 4,
  "nbformat_minor": 0
}