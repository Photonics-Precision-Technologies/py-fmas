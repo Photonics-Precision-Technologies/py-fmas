{
  "cells": [
    {
      "cell_type": "code",
      "execution_count": null,
      "metadata": {
        "collapsed": false
      },
      "outputs": [],
      "source": [
        "%matplotlib inline"
      ]
    },
    {
      "cell_type": "markdown",
      "metadata": {},
      "source": [
        "\n# Using `fmas` as a black-box application\n\nThis examples shows how to use `py-fmas` as a black-box application, that\nonly requires a minimal amount of scripting.\n\n.. codeauthor:: Oliver Melchert <melchert@iqo.uni-hannover.de>\n"
      ]
    },
    {
      "cell_type": "markdown",
      "metadata": {},
      "source": [
        "We start by simply importing the required `fmas` into the current namespace.\n\n\n"
      ]
    },
    {
      "cell_type": "code",
      "execution_count": null,
      "metadata": {
        "collapsed": false
      },
      "outputs": [],
      "source": [
        "import fmas"
      ]
    },
    {
      "cell_type": "markdown",
      "metadata": {},
      "source": [
        "If an adequate input file is located within the current working directory,\n`fmas` can be used as shown below. It features a particular function called\n`run`, which reads-in the propagation setting stored in the input file\n`input_file.h5` and runs the simulaton\n\n"
      ]
    },
    {
      "cell_type": "code",
      "execution_count": null,
      "metadata": {
        "collapsed": false
      },
      "outputs": [],
      "source": [
        "res = fmas.run('input_file.h5', model_type='FMAS_S_R', solver_type='IFM_RK4IP')"
      ]
    },
    {
      "cell_type": "markdown",
      "metadata": {},
      "source": [
        "An example that shows how an adequate input file can be generated via python\nis shown under the link below:\n\n`sphx_glr_auto_tutorials_basics_ng_generate_infile.py`\n\nAfter the proapgation algorithm (specified in `input_file.h5`) terminates,\na simple dictionary data structure with the following keys is available\n\n"
      ]
    },
    {
      "cell_type": "code",
      "execution_count": null,
      "metadata": {
        "collapsed": false
      },
      "outputs": [],
      "source": [
        "print(res.keys())"
      ]
    },
    {
      "cell_type": "markdown",
      "metadata": {},
      "source": [
        "A simple plot that shows the result of the simulation run can be produced\nusing function `plot_evolution` implemented in module `tools`\n\n"
      ]
    },
    {
      "cell_type": "code",
      "execution_count": null,
      "metadata": {
        "collapsed": false
      },
      "outputs": [],
      "source": [
        "from fmas.tools import plot_evolution\nplot_evolution( res['z'], res['t'], res['u'], t_lim=(-500,2200), w_lim=(1.,4.))"
      ]
    },
    {
      "cell_type": "markdown",
      "metadata": {},
      "source": [
        "The results can be stored for later postprocessing using the function\n`save_h5` implemented in module `data_io`. It will generate a file\n`out_file.h5` with HDF5 format in the current working directory\n\n"
      ]
    },
    {
      "cell_type": "code",
      "execution_count": null,
      "metadata": {
        "collapsed": false
      },
      "outputs": [],
      "source": [
        "from fmas.data_io import save_h5\nsave_h5('out_file.h5', **res)"
      ]
    }
  ],
  "metadata": {
    "kernelspec": {
      "display_name": "Python 3",
      "language": "python",
      "name": "python3"
    },
    "language_info": {
      "codemirror_mode": {
        "name": "ipython",
        "version": 3
      },
      "file_extension": ".py",
      "mimetype": "text/x-python",
      "name": "python",
      "nbconvert_exporter": "python",
      "pygments_lexer": "ipython3",
      "version": "3.9.2"
    }
  },
  "nbformat": 4,
  "nbformat_minor": 0
}