{
  "cells": [
    {
      "cell_type": "code",
      "execution_count": null,
      "metadata": {
        "collapsed": false
      },
      "outputs": [],
      "source": [
        "%matplotlib inline"
      ]
    },
    {
      "cell_type": "markdown",
      "metadata": {},
      "source": [
        "\n# Generating an input file\n\nThis examples shows how to generate an input file in HDF5-format, which can\nthen be processed by the `py-fmas` library code.\n\nThis is useful when the project-specific code is separate from the `py-fmas`\nlibrary code.\n\n.. codeauthor:: Oliver Melchert <melchert@iqo.uni-hannover.de>\n"
      ]
    },
    {
      "cell_type": "markdown",
      "metadata": {},
      "source": [
        "We start by importing the required `py-fmas` functionality. Since the\nfile-input for `py-fmas` is required to be provided in HDF5-format, we need\nsome python package that offers the possibility to read and write this\nformat.  Here we opted for the python module h5py which is listed as one of\nthe dependencies of the `py-fmas` package.\n\n"
      ]
    },
    {
      "cell_type": "code",
      "execution_count": null,
      "metadata": {
        "collapsed": false
      },
      "outputs": [],
      "source": [
        "import h5py\nimport numpy as np\nimport numpy.fft as nfft"
      ]
    },
    {
      "cell_type": "markdown",
      "metadata": {},
      "source": [
        "We then define the desired propagation constant \n\n"
      ]
    },
    {
      "cell_type": "code",
      "execution_count": null,
      "metadata": {
        "collapsed": false
      },
      "outputs": [],
      "source": [
        "def beta_fun_detuning(w):\n    r'''Function defining propagation constant\n\n    Implements group-velocity dispersion with expansion coefficients\n    listed in Tab. I of Ref. [1]. Expansion coefficients are valid for\n    :math:`lambda = 835\\,\\mathrm{nm}`, i.e. for :math:`\\omega_0 \\approx\n    2.56\\,\\mathrm{rad/fs}`.\n\n    References:\n        [1] J. M. Dudley, G. Genty, S. Coen,\n        Supercontinuum generation in photonic crystal fiber,\n        Rev. Mod. Phys. 78 (2006) 1135,\n        http://dx.doi.org/10.1103/RevModPhys.78.1135\n\n    Note:\n        A corresponding propagation constant is implemented as function\n        `define_beta_fun_PCF_Ranka2000` in `py-fmas` module\n        `propatation_constant`.\n\n    Args:\n        w (:obj:`numpy.ndarray`): Angular frequency detuning.\n\n    Returns:\n        :obj:`numpy.ndarray` Propagation constant as function of\n        frequency detuning.\n    '''\n    # ... EXPANSION COEFFICIENTS DISPERSION\n    b2 = -1.1830e-2     # (fs^2/micron)\n    b3 = 8.1038e-2      # (fs^3/micron)\n    b4 = -0.95205e-1    # (fs^4/micron)\n    b5 = 2.0737e-1      # (fs^5/micron)\n    b6 = -5.3943e-1     # (fs^6/micron)\n    b7 = 1.3486         # (fs^7/micron)\n    b8 = -2.5495        # (fs^8/micron)\n    b9 = 3.0524         # (fs^9/micron)\n    b10 = -1.7140       # (fs^10/micron)\n    # ... PROPAGATION CONSTANT (DEPENDING ON DETUNING)\n    beta_fun_detuning = np.poly1d([b10/3628800, b9/362880, b8/40320,\n        b7/5040, b6/720, b5/120, b4/24, b3/6, b2/2, 0., 0.])\n    return beta_fun_detuning(w)"
      ]
    },
    {
      "cell_type": "markdown",
      "metadata": {},
      "source": [
        "Next, we define all parameters needed to specify a simulation run \n\n"
      ]
    },
    {
      "cell_type": "code",
      "execution_count": null,
      "metadata": {
        "collapsed": false
      },
      "outputs": [],
      "source": [
        "# -- DEFINE SIMULATION PARAMETERS\n# ... COMPUTATIONAL DOMAIN \nt_max = 3500.       # (fs)\nt_num = 2**14       # (-)\nz_max = 0.16*1e6    # (micron)\nz_num = 4000        # (-)\nz_skip = 20         # (-)\nt = np.linspace(-t_max, t_max, t_num, endpoint=False)\nw = nfft.fftfreq(t.size, d=t[1]-t[0])*2*np.pi\n# ... MODEL SPECIFIC PARAMETERS \n# ... PROPAGATION CONSTANT\nc = 0.29979         # (fs/micron)\nlam0 = 0.835        # (micron)\nw0 = 2*np.pi*c/lam0 # (rad/fs)\nbeta_w = beta_fun_detuning(w-w0)\ngam0 = 0.11e-6      # (1/W/micron)\nn2 = gam0*c/w0      # (micron^2/W)\n# ... PARAMETERS FOR RAMAN RESPONSE \nfR = 0.18           # (-)\ntau1= 12.2          # (fs)\ntau2= 32.0          # (fs)\n# ... INITIAL CONDITION\nt0 = 28.4           # (fs)\nP0 = 1e4            # (W)\nE_0t_fun = lambda t: np.real(np.sqrt(P0)/np.cosh(t/t0)*np.exp(-1j*w0*t))\nE_0t = E_0t_fun(t)"
      ]
    },
    {
      "cell_type": "markdown",
      "metadata": {},
      "source": [
        "The subsequent code will store the simulation parameters defined above to the\nfile `input_file.h5` in the current working directory.\n\n"
      ]
    },
    {
      "cell_type": "code",
      "execution_count": null,
      "metadata": {
        "collapsed": false
      },
      "outputs": [],
      "source": [
        "def save_data_hdf5(file_path, data_dict):\n    with h5py.File(file_path, 'w') as f:\n        for key, val in data_dict.items():\n            f.create_dataset(key, data=val)\n\ndata_dict = {\n   't_max': t_max,\n   't_num': t_num,\n   'z_min': 0.0,\n   'z_max': z_max,\n   'z_num': z_num,\n   'z_skip': z_skip,\n   'E_0t': E_0t,\n   'beta_w': beta_w,\n   'n2': n2,\n   'fR': fR,\n   'tau1': tau1,\n   'tau2': tau2,\n   'model_type': 'FMAS_S_R',\n   'solver_type': 'IFM_RK4IP',\n   'out_file_path': 'out_file.h5'\n}\n\nsave_data_hdf5('input_file.h5', data_dict)"
      ]
    }
  ],
  "metadata": {
    "kernelspec": {
      "display_name": "Python 3",
      "language": "python",
      "name": "python3"
    },
    "language_info": {
      "codemirror_mode": {
        "name": "ipython",
        "version": 3
      },
      "file_extension": ".py",
      "mimetype": "text/x-python",
      "name": "python",
      "nbconvert_exporter": "python",
      "pygments_lexer": "ipython3",
      "version": "3.9.2"
    }
  },
  "nbformat": 4,
  "nbformat_minor": 0
}