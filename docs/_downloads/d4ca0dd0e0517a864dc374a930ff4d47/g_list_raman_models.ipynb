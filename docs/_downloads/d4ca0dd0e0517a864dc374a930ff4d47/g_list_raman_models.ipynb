{
  "cells": [
    {
      "cell_type": "code",
      "execution_count": null,
      "metadata": {
        "collapsed": false
      },
      "outputs": [],
      "source": [
        "%matplotlib inline"
      ]
    },
    {
      "cell_type": "markdown",
      "metadata": {},
      "source": [
        "\n# Implemented Raman response functions\n\nThis examples shows the frequency-domain representation of the different Raman\nresponse models, implemented in modeule `raman_response`.\n\nAn example demonstrating how the implemented Raman response models affect the\ndynamical evolution of a specific propagation scenario is shown under\n\n`sphx_glr_auto_tutorials_specific_g_raman_response.py`\n\n.. codeauthor:: Oliver Melchert <melchert@iqo.uni-hannover.de>\n"
      ]
    },
    {
      "cell_type": "markdown",
      "metadata": {},
      "source": [
        "We first import the functionality needed to produce a plot containing all the\nimplemented Raman response models\n\n"
      ]
    },
    {
      "cell_type": "code",
      "execution_count": null,
      "metadata": {
        "collapsed": false
      },
      "outputs": [],
      "source": [
        "import numpy as np\nfrom fmas.grid import Grid\nfrom fmas.raman_response import h_BW, h_LA, h_HC"
      ]
    },
    {
      "cell_type": "markdown",
      "metadata": {},
      "source": [
        "We then set up a data structure providing a discrete time and frequency axes \n\n"
      ]
    },
    {
      "cell_type": "code",
      "execution_count": null,
      "metadata": {
        "collapsed": false
      },
      "outputs": [],
      "source": [
        "grid = Grid(\n    t_max = 3500., # (fs)\n    t_num = 2**14  # (-)\n)"
      ]
    },
    {
      "cell_type": "markdown",
      "metadata": {},
      "source": [
        "Next we initialize the frequency-domain representation of the different Raman\nresponse models\n\n"
      ]
    },
    {
      "cell_type": "code",
      "execution_count": null,
      "metadata": {
        "collapsed": false
      },
      "outputs": [],
      "source": [
        "hw_BW = h_BW(grid.t)\nhw_LA = h_LA(grid.t)\nhw_HC = h_HC(grid.t)"
      ]
    },
    {
      "cell_type": "markdown",
      "metadata": {},
      "source": [
        "The subsequent plot compares the three Raman response models side-by-side.\nThe subplot on top shows the real part of the frequency-domain representation\nof the Raman response, the subplot at the bottom shows the respective\nimaginary parts (i.e. the Raman gain spectrum):\n\n"
      ]
    },
    {
      "cell_type": "code",
      "execution_count": null,
      "metadata": {
        "collapsed": false
      },
      "outputs": [],
      "source": [
        "import matplotlib as mpl\nimport matplotlib.pyplot as plt\nimport matplotlib.colors as col\n\nw_min, w_max = 0., 0.3\nw_mask = np.logical_and(grid.w>w_min, grid.w<w_max)\n\nf, (ax1, ax2) = plt.subplots(2, 1, figsize=(8,6))\nplt.subplots_adjust(left=0.1, right=0.96, bottom=0.08, top=0.96, wspace=0.3, hspace=0.3)\n\nax1.plot(grid.w[w_mask], np.real(hw_BW[w_mask]), color='k', label=r'BW')\nax1.plot(grid.w[w_mask], np.real(hw_LA[w_mask]), color='blue', dashes=[3,2], label=r'LA')\nax1.plot(grid.w[w_mask], np.real(hw_HC[w_mask]), color='green', dashes=[1,1], label=r'HC')\nax1.set_xlim(w_min,w_max)\nax1.set_xlabel('Angular frequency $\\omega~(\\mathrm{rad/fs})$')\nax1.set_ylabel('$\\mathsf{Re}[h_\\omega]$')\nax1.legend()\n\nax2.plot(grid.w[w_mask], np.imag(hw_BW[w_mask]), color='k', label=r'BW')\nax2.plot(grid.w[w_mask], np.imag(hw_LA[w_mask]), color='blue', dashes=[3,2], label=r'LA')\nax2.plot(grid.w[w_mask], np.imag(hw_HC[w_mask]), color='green', dashes=[1,1], label=r'HC')\nax2.set_xlim(w_min,w_max)\nax2.set_xlabel('Angular frequency $\\omega~(\\mathrm{rad/fs})$')\nax2.set_ylabel('$\\mathsf{Im}[h_\\omega]$')\nax2.legend()\n\nplt.show()"
      ]
    }
  ],
  "metadata": {
    "kernelspec": {
      "display_name": "Python 3",
      "language": "python",
      "name": "python3"
    },
    "language_info": {
      "codemirror_mode": {
        "name": "ipython",
        "version": 3
      },
      "file_extension": ".py",
      "mimetype": "text/x-python",
      "name": "python",
      "nbconvert_exporter": "python",
      "pygments_lexer": "ipython3",
      "version": "3.9.4"
    }
  },
  "nbformat": 4,
  "nbformat_minor": 0
}