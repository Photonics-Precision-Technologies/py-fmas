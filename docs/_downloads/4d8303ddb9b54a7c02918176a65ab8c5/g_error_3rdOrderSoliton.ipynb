{
  "cells": [
    {
      "cell_type": "code",
      "execution_count": null,
      "metadata": {
        "collapsed": false
      },
      "outputs": [],
      "source": [
        "%matplotlib inline"
      ]
    },
    {
      "cell_type": "markdown",
      "metadata": {},
      "source": [
        "\n# Propagation errors caused by a too narrow frequency window\n\nThis example demonstrates that if the computational domain does not support\nthe propagation scenario in an adequate manner, errors accumulate and results\nwill give a wrong impression of the dynamics.\n\nHere, the simple split-step Fourier method is used and the propagation of a\nthird-order soliton is considered.\n\n.. codeauthor:: Oliver Melchert <melchert@iqo.uni-hannover.de>\n"
      ]
    },
    {
      "cell_type": "markdown",
      "metadata": {},
      "source": [
        "We first import the functionality needed to perform the sequence of numerical\nexperiments: \n\n"
      ]
    },
    {
      "cell_type": "code",
      "execution_count": null,
      "metadata": {
        "collapsed": false
      },
      "outputs": [],
      "source": [
        "import sys; sys.path.append('../../')\nimport numpy as np\nimport numpy.fft as nfft\nfrom fmas.models import ModelBaseClass\nfrom fmas.config import FTFREQ, FT, IFT, C0\nfrom fmas.solver import SiSSM, SySSM, IFM_RK4IP, LEM_SySSM, CQE\nfrom fmas.grid import Grid\nfrom fmas.tools import plot_evolution"
      ]
    },
    {
      "cell_type": "markdown",
      "metadata": {},
      "source": [
        "Next, we implement a model for the nonlinear Schr\u00f6dinger equation.  In\nparticular, we here consider the standard nonlinear Schr\u00f6dinger equation,\ngiven by\n\n\\begin{align}\\partial_z u = -i \\frac{\\beta_2}{2}\\partial_t^2 u + i\\gamma |u|^2 u,\\end{align}\n\nwherein $u = u(z, t)$ represents the slowly varying pulse envelope,\n$\\beta_2=-1$ is the second order dispersion parameter, and\n$\\gamma=1$ is the nonlinear parameter:\n\n"
      ]
    },
    {
      "cell_type": "code",
      "execution_count": null,
      "metadata": {
        "collapsed": false
      },
      "outputs": [],
      "source": [
        "class NSE(ModelBaseClass):\n\n    def __init__(self, w, b2 = -1.0, gamma = 1.):\n        super().__init__(w, 0.5*b2*w*w)\n        self.gamma = gamma\n\n    @property\n    def Lw(self):\n        return 1j*self.beta_w\n\n    def Nw(self, uw):\n        ut = IFT(uw)\n        return 1j*self.gamma*FT(np.abs(ut)**2*ut)"
      ]
    },
    {
      "cell_type": "markdown",
      "metadata": {},
      "source": [
        "Next, we initialize the computational domain and use a simple split-step\nFourier method to propagate a single third-order soliton for six soliton\nperiods.\nIn this first numerical experiment, the extend of the frequency domain is so\nsmall that, when the solitons spectrum broadens, it exceeds the bounds of the\nfrequency domain. Errors stemming from truncation of the spectrum accumulate\nover subsequent soliton periods, giving an erroneous account of the true\ndynamics (see the subsequent figure).\n\n"
      ]
    },
    {
      "cell_type": "code",
      "execution_count": null,
      "metadata": {
        "collapsed": false
      },
      "outputs": [],
      "source": [
        "# -- INITIALIZATION STAGE\n# ... COMPUTATIONAL DOMAIN\ngrid = Grid( t_max = 34., t_num = 2**9)\nt, w = grid.t, grid.w\n\n# ... NSE MODEL \nmodel = NSE(w, b2=-1., gamma=1.)\n# ... INITIAL CONDITION\nu_0t = 3./np.cosh(t)\n\n\nsolver = SiSSM(model.Lw, model.Nw)\nsolver.set_initial_condition(w, FT(u_0t))\nsolver.propagate(z_range = 6*np.pi/2, n_steps = 10000, n_skip = 50)\nz, utz = solver.z_, solver.utz\n\nplot_evolution( solver.z, grid.t, solver.utz,\n    t_lim = (-5,5), w_lim = (-60,60), DO_T_LOG=False)"
      ]
    },
    {
      "cell_type": "markdown",
      "metadata": {},
      "source": [
        "In the subsequent numerical experiment, the extend of the frequency domain is\nincreased to fully support the third-order soliton in those propagation\nstages where its spectrum is maximally broad. As a result, the periodic\ndynamics of the higher order soliton is well represented (see the subsequent\nfigure).\n\n"
      ]
    },
    {
      "cell_type": "code",
      "execution_count": null,
      "metadata": {
        "collapsed": false
      },
      "outputs": [],
      "source": [
        "grid = Grid( t_max = 34., t_num = 2**11)\nt, w = grid.t, grid.w\nmodel = NSE(w, b2=-1., gamma=1.)\nu_0t = 3./np.cosh(t)\n\n\nsolver = SiSSM(model.Lw, model.Nw)\nsolver.set_initial_condition(w, FT(u_0t))\nsolver.propagate(z_range = 6*np.pi/2, n_steps = 10000, n_skip = 50)\nz, utz = solver.z_, solver.utz\n\nplot_evolution( solver.z, grid.t, solver.utz,\n    t_lim = (-5,5), w_lim = (-60,60), DO_T_LOG=False)"
      ]
    }
  ],
  "metadata": {
    "kernelspec": {
      "display_name": "Python 3",
      "language": "python",
      "name": "python3"
    },
    "language_info": {
      "codemirror_mode": {
        "name": "ipython",
        "version": 3
      },
      "file_extension": ".py",
      "mimetype": "text/x-python",
      "name": "python",
      "nbconvert_exporter": "python",
      "pygments_lexer": "ipython3",
      "version": "3.9.4"
    }
  },
  "nbformat": 4,
  "nbformat_minor": 0
}